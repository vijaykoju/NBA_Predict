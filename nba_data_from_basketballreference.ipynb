{
 "cells": [
  {
   "cell_type": "code",
   "execution_count": 17,
   "metadata": {
    "collapsed": true
   },
   "outputs": [],
   "source": [
    "%matplotlib inline\n",
    "import json\n",
    "import pandas as pd\n",
    "import numpy as np\n",
    "import matplotlib \n",
    "import matplotlib.pyplot as plt\n",
    "import seaborn as sns\n",
    "matplotlib.rcParams['savefig.dpi'] = 144"
   ]
  },
  {
   "cell_type": "code",
   "execution_count": 18,
   "metadata": {
    "collapsed": false
   },
   "outputs": [],
   "source": [
    "import requests\n",
    "from bs4 import BeautifulSoup\n",
    "from requests_futures.sessions import FuturesSession\n",
    "import csv"
   ]
  },
  {
   "cell_type": "code",
   "execution_count": 11,
   "metadata": {
    "collapsed": true
   },
   "outputs": [],
   "source": [
    "def get_data(response):\n",
    "    all_data = []\n",
    "    try:\n",
    "        soup = BeautifulSoup(response.text, 'lxml')\n",
    "        tbody = soup.find('tbody').findAll('tr')\n",
    "        #print(tbody)\n",
    "        for row in tbody:\n",
    "            dta = [row.find('th').text]\n",
    "            dta.extend([item.text for item in row.findAll('td')])\n",
    "            all_data.append(dta)\n",
    "    except Exception:\n",
    "        pass\n",
    "    return all_data"
   ]
  },
  {
   "cell_type": "code",
   "execution_count": 14,
   "metadata": {
    "collapsed": false,
    "scrolled": false
   },
   "outputs": [],
   "source": [
    "months = ['october', 'november', 'december', 'january', 'february',\n",
    "         'march', 'april', 'may', 'june']\n",
    "start_year = 1986\n",
    "\n",
    "base_url = 'http://www.basketball-reference.com/leagues/'\n",
    "session = FuturesSession(max_workers=9)\n",
    "for year in range(2012,2018):\n",
    "    futures = [session.get(base_url+'NBA_'+str(year)+'_games-'+month+'.html')\n",
    "              for month in months]\n",
    "\n",
    "    extract_data = [get_data(future.result()) for future in futures]\n",
    "    \n",
    "    output_file_name = 'NBA_boxscore_'+str(year)+'.csv'\n",
    "    with open(output_file_name, 'a') as f:\n",
    "        writer = csv.writer(f)\n",
    "        for data_chunk in extract_data:\n",
    "            writer.writerows(data_chunk)"
   ]
  },
  {
   "cell_type": "code",
   "execution_count": 62,
   "metadata": {
    "collapsed": false
   },
   "outputs": [],
   "source": [
    "b_url = 'http://www.basketball-reference.com/leagues/NBA_1986_standings.html'\n",
    "#def get_standing_data(url):\n",
    "page = requests.get(b_url)\n",
    "soup = BeautifulSoup(page.text, 'lxml')\n",
    "#expanded_standings = soup.find('table', attrs={'id':'expanded_standings'})\n",
    "#print(expanded_standings)\n",
    "# tbody = expanded_standings.find('tbody')\n",
    "# for row in tbody.findAll('tr'):\n",
    "#     print(row.find('th').text)\n",
    "    "
   ]
  },
  {
   "cell_type": "code",
   "execution_count": 24,
   "metadata": {
    "collapsed": false
   },
   "outputs": [],
   "source": [
    "# b_url = 'http://www.basketball-reference.com/leagues/NBA_1986_standings.html'\n",
    "# get_standing_data(b_url)"
   ]
  },
  {
   "cell_type": "code",
   "execution_count": 63,
   "metadata": {
    "collapsed": false
   },
   "outputs": [],
   "source": [
    "#print(soup.prettify())\n",
    "expanded_standings = soup.findAll('table')"
   ]
  },
  {
   "cell_type": "code",
   "execution_count": 64,
   "metadata": {
    "collapsed": false
   },
   "outputs": [
    {
     "name": "stdout",
     "output_type": "stream",
     "text": [
      "2\n"
     ]
    }
   ],
   "source": [
    "print(len(expanded_standings))"
   ]
  },
  {
   "cell_type": "code",
   "execution_count": null,
   "metadata": {
    "collapsed": true
   },
   "outputs": [],
   "source": []
  }
 ],
 "metadata": {
  "anaconda-cloud": {},
  "kernelspec": {
   "display_name": "Python [conda root]",
   "language": "python",
   "name": "conda-root-py"
  },
  "language_info": {
   "codemirror_mode": {
    "name": "ipython",
    "version": 3
   },
   "file_extension": ".py",
   "mimetype": "text/x-python",
   "name": "python",
   "nbconvert_exporter": "python",
   "pygments_lexer": "ipython3",
   "version": "3.5.2"
  }
 },
 "nbformat": 4,
 "nbformat_minor": 1
}
