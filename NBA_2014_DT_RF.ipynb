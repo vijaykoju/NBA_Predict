{
 "cells": [
  {
   "cell_type": "code",
   "execution_count": 1,
   "metadata": {
    "collapsed": true
   },
   "outputs": [],
   "source": [
    "%matplotlib inline\n",
    "import json\n",
    "import pandas as pd\n",
    "import numpy as np\n",
    "import matplotlib \n",
    "import matplotlib.pyplot as plt\n",
    "import seaborn as sns\n",
    "matplotlib.rcParams['savefig.dpi'] = 144"
   ]
  },
  {
   "cell_type": "code",
   "execution_count": 2,
   "metadata": {
    "collapsed": true
   },
   "outputs": [],
   "source": [
    "nba_2014 = pd.read_csv('NBA_2014_games.csv', parse_dates=[\"Date\"])\n",
    "nba_2014.columns = ['Date', 'Start Time (ET)', 'Visitor Team','VisitorPts',\n",
    "                    'Home Team', 'HomePts', 'Score Type', 'OverTime', 'Notes']"
   ]
  },
  {
   "cell_type": "code",
   "execution_count": 3,
   "metadata": {
    "collapsed": false
   },
   "outputs": [
    {
     "data": {
      "text/html": [
       "<div>\n",
       "<table border=\"1\" class=\"dataframe\">\n",
       "  <thead>\n",
       "    <tr style=\"text-align: right;\">\n",
       "      <th></th>\n",
       "      <th>Date</th>\n",
       "      <th>Start Time (ET)</th>\n",
       "      <th>Visitor Team</th>\n",
       "      <th>VisitorPts</th>\n",
       "      <th>Home Team</th>\n",
       "      <th>HomePts</th>\n",
       "      <th>Score Type</th>\n",
       "      <th>OverTime</th>\n",
       "      <th>Notes</th>\n",
       "    </tr>\n",
       "  </thead>\n",
       "  <tbody>\n",
       "    <tr>\n",
       "      <th>0</th>\n",
       "      <td>2013-10-29</td>\n",
       "      <td>7:00 pm</td>\n",
       "      <td>Orlando Magic</td>\n",
       "      <td>87</td>\n",
       "      <td>Indiana Pacers</td>\n",
       "      <td>97</td>\n",
       "      <td>Box Score</td>\n",
       "      <td>NaN</td>\n",
       "      <td>NaN</td>\n",
       "    </tr>\n",
       "    <tr>\n",
       "      <th>1</th>\n",
       "      <td>2013-10-29</td>\n",
       "      <td>10:30 pm</td>\n",
       "      <td>Los Angeles Clippers</td>\n",
       "      <td>103</td>\n",
       "      <td>Los Angeles Lakers</td>\n",
       "      <td>116</td>\n",
       "      <td>Box Score</td>\n",
       "      <td>NaN</td>\n",
       "      <td>NaN</td>\n",
       "    </tr>\n",
       "    <tr>\n",
       "      <th>2</th>\n",
       "      <td>2013-10-29</td>\n",
       "      <td>8:00 pm</td>\n",
       "      <td>Chicago Bulls</td>\n",
       "      <td>95</td>\n",
       "      <td>Miami Heat</td>\n",
       "      <td>107</td>\n",
       "      <td>Box Score</td>\n",
       "      <td>NaN</td>\n",
       "      <td>NaN</td>\n",
       "    </tr>\n",
       "  </tbody>\n",
       "</table>\n",
       "</div>"
      ],
      "text/plain": [
       "        Date Start Time (ET)          Visitor Team  VisitorPts  \\\n",
       "0 2013-10-29         7:00 pm         Orlando Magic          87   \n",
       "1 2013-10-29        10:30 pm  Los Angeles Clippers         103   \n",
       "2 2013-10-29         8:00 pm         Chicago Bulls          95   \n",
       "\n",
       "            Home Team  HomePts Score Type OverTime Notes  \n",
       "0      Indiana Pacers       97  Box Score      NaN   NaN  \n",
       "1  Los Angeles Lakers      116  Box Score      NaN   NaN  \n",
       "2          Miami Heat      107  Box Score      NaN   NaN  "
      ]
     },
     "execution_count": 3,
     "metadata": {},
     "output_type": "execute_result"
    }
   ],
   "source": [
    "nba_2014[nba_2014['Date']=='2013-10-29']"
   ]
  },
  {
   "cell_type": "code",
   "execution_count": 14,
   "metadata": {
    "collapsed": true
   },
   "outputs": [],
   "source": [
    "nba_2014['WL'] = nba_2014['VisitorPts'] < nba_2014['HomePts'] "
   ]
  },
  {
   "cell_type": "code",
   "execution_count": 15,
   "metadata": {
    "collapsed": false
   },
   "outputs": [],
   "source": [
    "nba_2014 = nba_2014.sort_values('Date')"
   ]
  },
  {
   "cell_type": "code",
   "execution_count": 16,
   "metadata": {
    "collapsed": false
   },
   "outputs": [
    {
     "data": {
      "text/html": [
       "<div>\n",
       "<table border=\"1\" class=\"dataframe\">\n",
       "  <thead>\n",
       "    <tr style=\"text-align: right;\">\n",
       "      <th></th>\n",
       "      <th>Date</th>\n",
       "      <th>Start Time (ET)</th>\n",
       "      <th>Visitor Team</th>\n",
       "      <th>VisitorPts</th>\n",
       "      <th>Home Team</th>\n",
       "      <th>HomePts</th>\n",
       "      <th>Score Type</th>\n",
       "      <th>OverTime</th>\n",
       "      <th>Notes</th>\n",
       "      <th>WL</th>\n",
       "      <th>HomeLastWin</th>\n",
       "      <th>VisitorLastWin</th>\n",
       "    </tr>\n",
       "  </thead>\n",
       "  <tbody>\n",
       "    <tr>\n",
       "      <th>0</th>\n",
       "      <td>2013-10-29</td>\n",
       "      <td>7:00 pm</td>\n",
       "      <td>Orlando Magic</td>\n",
       "      <td>87</td>\n",
       "      <td>Indiana Pacers</td>\n",
       "      <td>97</td>\n",
       "      <td>Box Score</td>\n",
       "      <td>NaN</td>\n",
       "      <td>NaN</td>\n",
       "      <td>True</td>\n",
       "      <td>False</td>\n",
       "      <td>False</td>\n",
       "    </tr>\n",
       "    <tr>\n",
       "      <th>1</th>\n",
       "      <td>2013-10-29</td>\n",
       "      <td>10:30 pm</td>\n",
       "      <td>Los Angeles Clippers</td>\n",
       "      <td>103</td>\n",
       "      <td>Los Angeles Lakers</td>\n",
       "      <td>116</td>\n",
       "      <td>Box Score</td>\n",
       "      <td>NaN</td>\n",
       "      <td>NaN</td>\n",
       "      <td>True</td>\n",
       "      <td>False</td>\n",
       "      <td>False</td>\n",
       "    </tr>\n",
       "    <tr>\n",
       "      <th>2</th>\n",
       "      <td>2013-10-29</td>\n",
       "      <td>8:00 pm</td>\n",
       "      <td>Chicago Bulls</td>\n",
       "      <td>95</td>\n",
       "      <td>Miami Heat</td>\n",
       "      <td>107</td>\n",
       "      <td>Box Score</td>\n",
       "      <td>NaN</td>\n",
       "      <td>NaN</td>\n",
       "      <td>True</td>\n",
       "      <td>False</td>\n",
       "      <td>False</td>\n",
       "    </tr>\n",
       "    <tr>\n",
       "      <th>15</th>\n",
       "      <td>2013-10-30</td>\n",
       "      <td>7:00 pm</td>\n",
       "      <td>Boston Celtics</td>\n",
       "      <td>87</td>\n",
       "      <td>Toronto Raptors</td>\n",
       "      <td>93</td>\n",
       "      <td>Box Score</td>\n",
       "      <td>NaN</td>\n",
       "      <td>NaN</td>\n",
       "      <td>True</td>\n",
       "      <td>False</td>\n",
       "      <td>False</td>\n",
       "    </tr>\n",
       "    <tr>\n",
       "      <th>14</th>\n",
       "      <td>2013-10-30</td>\n",
       "      <td>8:30 pm</td>\n",
       "      <td>Memphis Grizzlies</td>\n",
       "      <td>94</td>\n",
       "      <td>San Antonio Spurs</td>\n",
       "      <td>101</td>\n",
       "      <td>Box Score</td>\n",
       "      <td>NaN</td>\n",
       "      <td>NaN</td>\n",
       "      <td>True</td>\n",
       "      <td>False</td>\n",
       "      <td>False</td>\n",
       "    </tr>\n",
       "  </tbody>\n",
       "</table>\n",
       "</div>"
      ],
      "text/plain": [
       "         Date Start Time (ET)          Visitor Team  VisitorPts  \\\n",
       "0  2013-10-29         7:00 pm         Orlando Magic          87   \n",
       "1  2013-10-29        10:30 pm  Los Angeles Clippers         103   \n",
       "2  2013-10-29         8:00 pm         Chicago Bulls          95   \n",
       "15 2013-10-30         7:00 pm        Boston Celtics          87   \n",
       "14 2013-10-30         8:30 pm     Memphis Grizzlies          94   \n",
       "\n",
       "             Home Team  HomePts Score Type OverTime Notes    WL HomeLastWin  \\\n",
       "0       Indiana Pacers       97  Box Score      NaN   NaN  True       False   \n",
       "1   Los Angeles Lakers      116  Box Score      NaN   NaN  True       False   \n",
       "2           Miami Heat      107  Box Score      NaN   NaN  True       False   \n",
       "15     Toronto Raptors       93  Box Score      NaN   NaN  True       False   \n",
       "14   San Antonio Spurs      101  Box Score      NaN   NaN  True       False   \n",
       "\n",
       "   VisitorLastWin  \n",
       "0           False  \n",
       "1           False  \n",
       "2           False  \n",
       "15          False  \n",
       "14          False  "
      ]
     },
     "execution_count": 16,
     "metadata": {},
     "output_type": "execute_result"
    }
   ],
   "source": [
    "nba_2014['HomeLastWin'] = False\n",
    "nba_2014['VisitorLastWin'] = False\n",
    "nba_2014.head(5)"
   ]
  },
  {
   "cell_type": "code",
   "execution_count": 17,
   "metadata": {
    "collapsed": true
   },
   "outputs": [],
   "source": [
    "y_true = nba_2014['WL'].values"
   ]
  },
  {
   "cell_type": "code",
   "execution_count": 18,
   "metadata": {
    "collapsed": false
   },
   "outputs": [
    {
     "data": {
      "text/plain": [
       "False"
      ]
     },
     "execution_count": 18,
     "metadata": {},
     "output_type": "execute_result"
    }
   ],
   "source": [
    "nba_2014['HomeLastWin'].ix[1]"
   ]
  },
  {
   "cell_type": "code",
   "execution_count": 19,
   "metadata": {
    "collapsed": true
   },
   "outputs": [],
   "source": [
    "from collections import defaultdict"
   ]
  },
  {
   "cell_type": "code",
   "execution_count": 20,
   "metadata": {
    "collapsed": false
   },
   "outputs": [],
   "source": [
    "won_last = defaultdict(int)\n",
    "\n",
    "for index, row in nba_2014.iterrows():\n",
    "    home_team = row['Home Team']\n",
    "    visitor_team = row['Visitor Team']\n",
    "    row['HomeLastWin'] = won_last[home_team]\n",
    "    row['VisitorLastWin'] = won_last[visitor_team]\n",
    "    nba_2014.set_value(index, 'HomeLastWin', row['HomeLastWin'])\n",
    "    nba_2014.set_value(index, 'VisitorLastWin', row['VisitorLastWin'])\n",
    "    won_last[home_team] = row['WL']\n",
    "    won_last[visitor_team] = not row['WL']\n",
    "    #if index == 2:\n",
    "    #    break"
   ]
  },
  {
   "cell_type": "code",
   "execution_count": 21,
   "metadata": {
    "collapsed": false,
    "scrolled": true
   },
   "outputs": [
    {
     "data": {
      "text/html": [
       "<div>\n",
       "<table border=\"1\" class=\"dataframe\">\n",
       "  <thead>\n",
       "    <tr style=\"text-align: right;\">\n",
       "      <th></th>\n",
       "      <th>Date</th>\n",
       "      <th>Start Time (ET)</th>\n",
       "      <th>Visitor Team</th>\n",
       "      <th>VisitorPts</th>\n",
       "      <th>Home Team</th>\n",
       "      <th>HomePts</th>\n",
       "      <th>Score Type</th>\n",
       "      <th>OverTime</th>\n",
       "      <th>Notes</th>\n",
       "      <th>WL</th>\n",
       "      <th>HomeLastWin</th>\n",
       "      <th>VisitorLastWin</th>\n",
       "    </tr>\n",
       "  </thead>\n",
       "  <tbody>\n",
       "    <tr>\n",
       "      <th>20</th>\n",
       "      <td>2013-11-01</td>\n",
       "      <td>7:30 pm</td>\n",
       "      <td>Milwaukee Bucks</td>\n",
       "      <td>105</td>\n",
       "      <td>Boston Celtics</td>\n",
       "      <td>98</td>\n",
       "      <td>Box Score</td>\n",
       "      <td>NaN</td>\n",
       "      <td>NaN</td>\n",
       "      <td>False</td>\n",
       "      <td>False</td>\n",
       "      <td>False</td>\n",
       "    </tr>\n",
       "    <tr>\n",
       "      <th>21</th>\n",
       "      <td>2013-11-01</td>\n",
       "      <td>8:00 pm</td>\n",
       "      <td>Miami Heat</td>\n",
       "      <td>100</td>\n",
       "      <td>Brooklyn Nets</td>\n",
       "      <td>101</td>\n",
       "      <td>Box Score</td>\n",
       "      <td>NaN</td>\n",
       "      <td>NaN</td>\n",
       "      <td>True</td>\n",
       "      <td>False</td>\n",
       "      <td>False</td>\n",
       "    </tr>\n",
       "    <tr>\n",
       "      <th>22</th>\n",
       "      <td>2013-11-01</td>\n",
       "      <td>7:00 pm</td>\n",
       "      <td>Cleveland Cavaliers</td>\n",
       "      <td>84</td>\n",
       "      <td>Charlotte Bobcats</td>\n",
       "      <td>90</td>\n",
       "      <td>Box Score</td>\n",
       "      <td>NaN</td>\n",
       "      <td>NaN</td>\n",
       "      <td>True</td>\n",
       "      <td>False</td>\n",
       "      <td>True</td>\n",
       "    </tr>\n",
       "    <tr>\n",
       "      <th>23</th>\n",
       "      <td>2013-11-01</td>\n",
       "      <td>9:00 pm</td>\n",
       "      <td>Portland Trail Blazers</td>\n",
       "      <td>113</td>\n",
       "      <td>Denver Nuggets</td>\n",
       "      <td>98</td>\n",
       "      <td>Box Score</td>\n",
       "      <td>NaN</td>\n",
       "      <td>NaN</td>\n",
       "      <td>False</td>\n",
       "      <td>False</td>\n",
       "      <td>False</td>\n",
       "    </tr>\n",
       "    <tr>\n",
       "      <th>24</th>\n",
       "      <td>2013-11-01</td>\n",
       "      <td>8:00 pm</td>\n",
       "      <td>Dallas Mavericks</td>\n",
       "      <td>105</td>\n",
       "      <td>Houston Rockets</td>\n",
       "      <td>113</td>\n",
       "      <td>Box Score</td>\n",
       "      <td>NaN</td>\n",
       "      <td>NaN</td>\n",
       "      <td>True</td>\n",
       "      <td>True</td>\n",
       "      <td>True</td>\n",
       "    </tr>\n",
       "    <tr>\n",
       "      <th>25</th>\n",
       "      <td>2013-11-01</td>\n",
       "      <td>10:30 pm</td>\n",
       "      <td>San Antonio Spurs</td>\n",
       "      <td>91</td>\n",
       "      <td>Los Angeles Lakers</td>\n",
       "      <td>85</td>\n",
       "      <td>Box Score</td>\n",
       "      <td>NaN</td>\n",
       "      <td>NaN</td>\n",
       "      <td>False</td>\n",
       "      <td>False</td>\n",
       "      <td>True</td>\n",
       "    </tr>\n",
       "  </tbody>\n",
       "</table>\n",
       "</div>"
      ],
      "text/plain": [
       "         Date Start Time (ET)            Visitor Team  VisitorPts  \\\n",
       "20 2013-11-01         7:30 pm         Milwaukee Bucks         105   \n",
       "21 2013-11-01         8:00 pm              Miami Heat         100   \n",
       "22 2013-11-01         7:00 pm     Cleveland Cavaliers          84   \n",
       "23 2013-11-01         9:00 pm  Portland Trail Blazers         113   \n",
       "24 2013-11-01         8:00 pm        Dallas Mavericks         105   \n",
       "25 2013-11-01        10:30 pm       San Antonio Spurs          91   \n",
       "\n",
       "             Home Team  HomePts Score Type OverTime Notes     WL HomeLastWin  \\\n",
       "20      Boston Celtics       98  Box Score      NaN   NaN  False       False   \n",
       "21       Brooklyn Nets      101  Box Score      NaN   NaN   True       False   \n",
       "22   Charlotte Bobcats       90  Box Score      NaN   NaN   True       False   \n",
       "23      Denver Nuggets       98  Box Score      NaN   NaN  False       False   \n",
       "24     Houston Rockets      113  Box Score      NaN   NaN   True        True   \n",
       "25  Los Angeles Lakers       85  Box Score      NaN   NaN  False       False   \n",
       "\n",
       "   VisitorLastWin  \n",
       "20          False  \n",
       "21          False  \n",
       "22           True  \n",
       "23          False  \n",
       "24           True  \n",
       "25           True  "
      ]
     },
     "execution_count": 21,
     "metadata": {},
     "output_type": "execute_result"
    }
   ],
   "source": [
    "nba_2014.ix[20:25]"
   ]
  },
  {
   "cell_type": "code",
   "execution_count": 26,
   "metadata": {
    "collapsed": true
   },
   "outputs": [],
   "source": [
    "from sklearn.tree import DecisionTreeClassifier\n",
    "from sklearn.cross_validation import train_test_split, cross_val_score\n",
    "from sklearn import metrics, cross_validation"
   ]
  },
  {
   "cell_type": "code",
   "execution_count": 27,
   "metadata": {
    "collapsed": true
   },
   "outputs": [],
   "source": [
    "clf = DecisionTreeClassifier(random_state=14)"
   ]
  },
  {
   "cell_type": "code",
   "execution_count": 28,
   "metadata": {
    "collapsed": true
   },
   "outputs": [],
   "source": [
    "X_previouswins = nba_2014[['HomeLastWin', 'VisitorLastWin']].values"
   ]
  },
  {
   "cell_type": "code",
   "execution_count": 29,
   "metadata": {
    "collapsed": false
   },
   "outputs": [
    {
     "name": "stdout",
     "output_type": "stream",
     "text": [
      "Accuracy: 57.5%\n"
     ]
    }
   ],
   "source": [
    "scores = cross_val_score(clf, X_previouswins, y_true, scoring='accuracy')\n",
    "print('Accuracy: {0:.1f}%'.format(np.mean(scores)*100))"
   ]
  },
  {
   "cell_type": "code",
   "execution_count": 33,
   "metadata": {
    "collapsed": true
   },
   "outputs": [],
   "source": [
    "standings = pd.read_csv('NBA_2013_extended_standings.csv', skiprows=[0])"
   ]
  },
  {
   "cell_type": "code",
   "execution_count": 34,
   "metadata": {
    "collapsed": false
   },
   "outputs": [
    {
     "data": {
      "text/html": [
       "<div>\n",
       "<table border=\"1\" class=\"dataframe\">\n",
       "  <thead>\n",
       "    <tr style=\"text-align: right;\">\n",
       "      <th></th>\n",
       "      <th>Rk</th>\n",
       "      <th>Team</th>\n",
       "      <th>Overall</th>\n",
       "      <th>Home</th>\n",
       "      <th>Road</th>\n",
       "      <th>E</th>\n",
       "      <th>W</th>\n",
       "      <th>A</th>\n",
       "      <th>C</th>\n",
       "      <th>SE</th>\n",
       "      <th>...</th>\n",
       "      <th>Post</th>\n",
       "      <th>≤3</th>\n",
       "      <th>≥10</th>\n",
       "      <th>Oct</th>\n",
       "      <th>Nov</th>\n",
       "      <th>Dec</th>\n",
       "      <th>Jan</th>\n",
       "      <th>Feb</th>\n",
       "      <th>Mar</th>\n",
       "      <th>Apr</th>\n",
       "    </tr>\n",
       "  </thead>\n",
       "  <tbody>\n",
       "    <tr>\n",
       "      <th>0</th>\n",
       "      <td>1</td>\n",
       "      <td>Miami Heat</td>\n",
       "      <td>66-16</td>\n",
       "      <td>37-4</td>\n",
       "      <td>29-12</td>\n",
       "      <td>41-11</td>\n",
       "      <td>25-5</td>\n",
       "      <td>14-4</td>\n",
       "      <td>12-6</td>\n",
       "      <td>15-1</td>\n",
       "      <td>...</td>\n",
       "      <td>30-2</td>\n",
       "      <td>9-3</td>\n",
       "      <td>39-8</td>\n",
       "      <td>1-0</td>\n",
       "      <td>10-3</td>\n",
       "      <td>10-5</td>\n",
       "      <td>8-5</td>\n",
       "      <td>12-1</td>\n",
       "      <td>17-1</td>\n",
       "      <td>8-1</td>\n",
       "    </tr>\n",
       "    <tr>\n",
       "      <th>1</th>\n",
       "      <td>2</td>\n",
       "      <td>Oklahoma City Thunder</td>\n",
       "      <td>60-22</td>\n",
       "      <td>34-7</td>\n",
       "      <td>26-15</td>\n",
       "      <td>21-9</td>\n",
       "      <td>39-13</td>\n",
       "      <td>7-3</td>\n",
       "      <td>8-2</td>\n",
       "      <td>6-4</td>\n",
       "      <td>...</td>\n",
       "      <td>21-8</td>\n",
       "      <td>3-6</td>\n",
       "      <td>44-6</td>\n",
       "      <td>NaN</td>\n",
       "      <td>13-4</td>\n",
       "      <td>11-2</td>\n",
       "      <td>11-5</td>\n",
       "      <td>7-4</td>\n",
       "      <td>12-5</td>\n",
       "      <td>6-2</td>\n",
       "    </tr>\n",
       "    <tr>\n",
       "      <th>2</th>\n",
       "      <td>3</td>\n",
       "      <td>San Antonio Spurs</td>\n",
       "      <td>58-24</td>\n",
       "      <td>35-6</td>\n",
       "      <td>23-18</td>\n",
       "      <td>25-5</td>\n",
       "      <td>33-19</td>\n",
       "      <td>8-2</td>\n",
       "      <td>9-1</td>\n",
       "      <td>8-2</td>\n",
       "      <td>...</td>\n",
       "      <td>16-12</td>\n",
       "      <td>9-5</td>\n",
       "      <td>31-10</td>\n",
       "      <td>1-0</td>\n",
       "      <td>12-4</td>\n",
       "      <td>12-4</td>\n",
       "      <td>12-3</td>\n",
       "      <td>8-3</td>\n",
       "      <td>10-4</td>\n",
       "      <td>3-6</td>\n",
       "    </tr>\n",
       "    <tr>\n",
       "      <th>3</th>\n",
       "      <td>4</td>\n",
       "      <td>Denver Nuggets</td>\n",
       "      <td>57-25</td>\n",
       "      <td>38-3</td>\n",
       "      <td>19-22</td>\n",
       "      <td>19-11</td>\n",
       "      <td>38-14</td>\n",
       "      <td>5-5</td>\n",
       "      <td>10-0</td>\n",
       "      <td>4-6</td>\n",
       "      <td>...</td>\n",
       "      <td>24-4</td>\n",
       "      <td>11-7</td>\n",
       "      <td>28-8</td>\n",
       "      <td>0-1</td>\n",
       "      <td>8-8</td>\n",
       "      <td>9-6</td>\n",
       "      <td>12-3</td>\n",
       "      <td>8-4</td>\n",
       "      <td>13-2</td>\n",
       "      <td>7-1</td>\n",
       "    </tr>\n",
       "    <tr>\n",
       "      <th>4</th>\n",
       "      <td>5</td>\n",
       "      <td>Los Angeles Clippers</td>\n",
       "      <td>56-26</td>\n",
       "      <td>32-9</td>\n",
       "      <td>24-17</td>\n",
       "      <td>21-9</td>\n",
       "      <td>35-17</td>\n",
       "      <td>7-3</td>\n",
       "      <td>8-2</td>\n",
       "      <td>6-4</td>\n",
       "      <td>...</td>\n",
       "      <td>17-9</td>\n",
       "      <td>3-5</td>\n",
       "      <td>38-12</td>\n",
       "      <td>1-0</td>\n",
       "      <td>8-6</td>\n",
       "      <td>16-0</td>\n",
       "      <td>9-7</td>\n",
       "      <td>8-5</td>\n",
       "      <td>7-7</td>\n",
       "      <td>7-1</td>\n",
       "    </tr>\n",
       "    <tr>\n",
       "      <th>5</th>\n",
       "      <td>6</td>\n",
       "      <td>Memphis Grizzlies</td>\n",
       "      <td>56-26</td>\n",
       "      <td>32-9</td>\n",
       "      <td>24-17</td>\n",
       "      <td>22-8</td>\n",
       "      <td>34-18</td>\n",
       "      <td>8-2</td>\n",
       "      <td>8-2</td>\n",
       "      <td>6-4</td>\n",
       "      <td>...</td>\n",
       "      <td>23-8</td>\n",
       "      <td>6-4</td>\n",
       "      <td>28-9</td>\n",
       "      <td>0-1</td>\n",
       "      <td>12-1</td>\n",
       "      <td>7-7</td>\n",
       "      <td>10-7</td>\n",
       "      <td>9-2</td>\n",
       "      <td>11-6</td>\n",
       "      <td>7-2</td>\n",
       "    </tr>\n",
       "    <tr>\n",
       "      <th>6</th>\n",
       "      <td>7</td>\n",
       "      <td>New York Knicks</td>\n",
       "      <td>54-28</td>\n",
       "      <td>31-10</td>\n",
       "      <td>23-18</td>\n",
       "      <td>37-15</td>\n",
       "      <td>17-13</td>\n",
       "      <td>10-6</td>\n",
       "      <td>12-6</td>\n",
       "      <td>15-3</td>\n",
       "      <td>...</td>\n",
       "      <td>22-10</td>\n",
       "      <td>7-5</td>\n",
       "      <td>31-12</td>\n",
       "      <td>NaN</td>\n",
       "      <td>11-4</td>\n",
       "      <td>10-5</td>\n",
       "      <td>7-6</td>\n",
       "      <td>6-5</td>\n",
       "      <td>12-6</td>\n",
       "      <td>8-2</td>\n",
       "    </tr>\n",
       "    <tr>\n",
       "      <th>7</th>\n",
       "      <td>8</td>\n",
       "      <td>Brooklyn Nets</td>\n",
       "      <td>49-33</td>\n",
       "      <td>26-15</td>\n",
       "      <td>23-18</td>\n",
       "      <td>36-16</td>\n",
       "      <td>13-17</td>\n",
       "      <td>11-5</td>\n",
       "      <td>13-5</td>\n",
       "      <td>12-6</td>\n",
       "      <td>...</td>\n",
       "      <td>18-11</td>\n",
       "      <td>9-4</td>\n",
       "      <td>23-17</td>\n",
       "      <td>NaN</td>\n",
       "      <td>11-4</td>\n",
       "      <td>5-11</td>\n",
       "      <td>11-4</td>\n",
       "      <td>7-5</td>\n",
       "      <td>8-7</td>\n",
       "      <td>7-2</td>\n",
       "    </tr>\n",
       "    <tr>\n",
       "      <th>8</th>\n",
       "      <td>9</td>\n",
       "      <td>Indiana Pacers</td>\n",
       "      <td>49-32</td>\n",
       "      <td>30-11</td>\n",
       "      <td>19-21</td>\n",
       "      <td>31-20</td>\n",
       "      <td>18-12</td>\n",
       "      <td>6-11</td>\n",
       "      <td>13-3</td>\n",
       "      <td>12-6</td>\n",
       "      <td>...</td>\n",
       "      <td>17-11</td>\n",
       "      <td>4-9</td>\n",
       "      <td>27-14</td>\n",
       "      <td>1-0</td>\n",
       "      <td>7-8</td>\n",
       "      <td>10-5</td>\n",
       "      <td>9-6</td>\n",
       "      <td>9-3</td>\n",
       "      <td>11-5</td>\n",
       "      <td>2-5</td>\n",
       "    </tr>\n",
       "    <tr>\n",
       "      <th>9</th>\n",
       "      <td>10</td>\n",
       "      <td>Golden State Warriors</td>\n",
       "      <td>47-35</td>\n",
       "      <td>28-13</td>\n",
       "      <td>19-22</td>\n",
       "      <td>19-11</td>\n",
       "      <td>28-24</td>\n",
       "      <td>7-3</td>\n",
       "      <td>5-5</td>\n",
       "      <td>7-3</td>\n",
       "      <td>...</td>\n",
       "      <td>17-13</td>\n",
       "      <td>5-3</td>\n",
       "      <td>20-18</td>\n",
       "      <td>1-0</td>\n",
       "      <td>8-6</td>\n",
       "      <td>12-4</td>\n",
       "      <td>8-7</td>\n",
       "      <td>4-8</td>\n",
       "      <td>9-7</td>\n",
       "      <td>5-3</td>\n",
       "    </tr>\n",
       "  </tbody>\n",
       "</table>\n",
       "<p>10 rows × 24 columns</p>\n",
       "</div>"
      ],
      "text/plain": [
       "   Rk                   Team Overall   Home   Road      E      W     A     C  \\\n",
       "0   1             Miami Heat   66-16   37-4  29-12  41-11   25-5  14-4  12-6   \n",
       "1   2  Oklahoma City Thunder   60-22   34-7  26-15   21-9  39-13   7-3   8-2   \n",
       "2   3      San Antonio Spurs   58-24   35-6  23-18   25-5  33-19   8-2   9-1   \n",
       "3   4         Denver Nuggets   57-25   38-3  19-22  19-11  38-14   5-5  10-0   \n",
       "4   5   Los Angeles Clippers   56-26   32-9  24-17   21-9  35-17   7-3   8-2   \n",
       "5   6      Memphis Grizzlies   56-26   32-9  24-17   22-8  34-18   8-2   8-2   \n",
       "6   7        New York Knicks   54-28  31-10  23-18  37-15  17-13  10-6  12-6   \n",
       "7   8          Brooklyn Nets   49-33  26-15  23-18  36-16  13-17  11-5  13-5   \n",
       "8   9         Indiana Pacers   49-32  30-11  19-21  31-20  18-12  6-11  13-3   \n",
       "9  10  Golden State Warriors   47-35  28-13  19-22  19-11  28-24   7-3   5-5   \n",
       "\n",
       "     SE ...    Post    ≤3    ≥10  Oct   Nov   Dec   Jan   Feb   Mar  Apr  \n",
       "0  15-1 ...    30-2   9-3   39-8  1-0  10-3  10-5   8-5  12-1  17-1  8-1  \n",
       "1   6-4 ...    21-8   3-6   44-6  NaN  13-4  11-2  11-5   7-4  12-5  6-2  \n",
       "2   8-2 ...   16-12   9-5  31-10  1-0  12-4  12-4  12-3   8-3  10-4  3-6  \n",
       "3   4-6 ...    24-4  11-7   28-8  0-1   8-8   9-6  12-3   8-4  13-2  7-1  \n",
       "4   6-4 ...    17-9   3-5  38-12  1-0   8-6  16-0   9-7   8-5   7-7  7-1  \n",
       "5   6-4 ...    23-8   6-4   28-9  0-1  12-1   7-7  10-7   9-2  11-6  7-2  \n",
       "6  15-3 ...   22-10   7-5  31-12  NaN  11-4  10-5   7-6   6-5  12-6  8-2  \n",
       "7  12-6 ...   18-11   9-4  23-17  NaN  11-4  5-11  11-4   7-5   8-7  7-2  \n",
       "8  12-6 ...   17-11   4-9  27-14  1-0   7-8  10-5   9-6   9-3  11-5  2-5  \n",
       "9   7-3 ...   17-13   5-3  20-18  1-0   8-6  12-4   8-7   4-8   9-7  5-3  \n",
       "\n",
       "[10 rows x 24 columns]"
      ]
     },
     "execution_count": 34,
     "metadata": {},
     "output_type": "execute_result"
    }
   ],
   "source": [
    "standings.head(10)"
   ]
  },
  {
   "cell_type": "code",
   "execution_count": 37,
   "metadata": {
    "collapsed": false
   },
   "outputs": [],
   "source": [
    "nba_2014['HomeTeamRanksHigher'] = 0\n",
    "for index, row in nba_2014.iterrows():\n",
    "    home_team, visitor_team = row['Home Team'], row['Visitor Team']\n",
    "    if home_team == 'New Orleans Pelicans':\n",
    "        home_team = 'New Orleans Hornets'\n",
    "    elif visitor_team == 'New Orleans Pelicans':\n",
    "        visitor_team = 'New Orleans Hornets'\n",
    "    home_rank = standings[standings['Team'] == home_team]['Rk'].values[0]\n",
    "    visitor_rank = standings[standings['Team'] == visitor_team]['Rk'].values[0]\n",
    "    row['HomeTeamRanksHigher'] = int(home_rank > visitor_rank)\n",
    "    nba_2014.set_value(index, 'HomeTeamRanksHigher', row['HomeTeamRanksHigher'])\n",
    "    "
   ]
  },
  {
   "cell_type": "code",
   "execution_count": 39,
   "metadata": {
    "collapsed": false
   },
   "outputs": [],
   "source": [
    "X_homehigher = nba_2014[['HomeLastWin', 'VisitorLastWin', 'HomeTeamRanksHigher']].values"
   ]
  },
  {
   "cell_type": "code",
   "execution_count": 40,
   "metadata": {
    "collapsed": false
   },
   "outputs": [
    {
     "name": "stdout",
     "output_type": "stream",
     "text": [
      "Accuracy: 59.7%\n"
     ]
    }
   ],
   "source": [
    "clf = DecisionTreeClassifier(random_state=14)\n",
    "scores = cross_val_score(clf, X_homehigher, y_true, scoring='accuracy')\n",
    "print('Accuracy: {0:.1f}%'.format(np.mean(scores)*100))"
   ]
  },
  {
   "cell_type": "code",
   "execution_count": 41,
   "metadata": {
    "collapsed": true
   },
   "outputs": [],
   "source": [
    "last_match_winner = defaultdict(int)\n",
    "nba_2014['HomeTeamWonLast'] = 0\n",
    "for index, row in nba_2014.iterrows():\n",
    "    home_team, visitor_team = row['Home Team'], row['Visitor Team']\n",
    "    teams = tuple(sorted([home_team, visitor_team]))\n",
    "    row['HomeTeamWonLast'] = 1 if last_match_winner[teams] == row['Home Team'] else 0\n",
    "    nba_2014.set_value(index, 'HomeTeamWonLast', row['HomeTeamWonLast'])\n",
    "    winner = row['Home Team'] if row['WL'] else row['Visitor Team']\n",
    "    last_match_winner[teams] = winner"
   ]
  },
  {
   "cell_type": "code",
   "execution_count": 44,
   "metadata": {
    "collapsed": false
   },
   "outputs": [
    {
     "data": {
      "text/html": [
       "<div>\n",
       "<table border=\"1\" class=\"dataframe\">\n",
       "  <thead>\n",
       "    <tr style=\"text-align: right;\">\n",
       "      <th></th>\n",
       "      <th>Date</th>\n",
       "      <th>Start Time (ET)</th>\n",
       "      <th>Visitor Team</th>\n",
       "      <th>VisitorPts</th>\n",
       "      <th>Home Team</th>\n",
       "      <th>HomePts</th>\n",
       "      <th>Score Type</th>\n",
       "      <th>OverTime</th>\n",
       "      <th>Notes</th>\n",
       "      <th>WL</th>\n",
       "      <th>HomeLastWin</th>\n",
       "      <th>VisitorLastWin</th>\n",
       "      <th>HomeTeamRanksHigher</th>\n",
       "      <th>HomeTeamWonLast</th>\n",
       "    </tr>\n",
       "  </thead>\n",
       "  <tbody>\n",
       "    <tr>\n",
       "      <th>67</th>\n",
       "      <td>2013-11-06</td>\n",
       "      <td>7:00 pm</td>\n",
       "      <td>Washington Wizards</td>\n",
       "      <td>116</td>\n",
       "      <td>Philadelphia 76ers</td>\n",
       "      <td>102</td>\n",
       "      <td>Box Score</td>\n",
       "      <td>NaN</td>\n",
       "      <td>NaN</td>\n",
       "      <td>False</td>\n",
       "      <td>False</td>\n",
       "      <td>False</td>\n",
       "      <td>0</td>\n",
       "      <td>1</td>\n",
       "    </tr>\n",
       "    <tr>\n",
       "      <th>72</th>\n",
       "      <td>2013-11-08</td>\n",
       "      <td>7:00 pm</td>\n",
       "      <td>New York Knicks</td>\n",
       "      <td>101</td>\n",
       "      <td>Charlotte Bobcats</td>\n",
       "      <td>91</td>\n",
       "      <td>Box Score</td>\n",
       "      <td>NaN</td>\n",
       "      <td>NaN</td>\n",
       "      <td>False</td>\n",
       "      <td>True</td>\n",
       "      <td>False</td>\n",
       "      <td>1</td>\n",
       "      <td>1</td>\n",
       "    </tr>\n",
       "    <tr>\n",
       "      <th>96</th>\n",
       "      <td>2013-11-10</td>\n",
       "      <td>8:00 pm</td>\n",
       "      <td>New Orleans Pelicans</td>\n",
       "      <td>94</td>\n",
       "      <td>Phoenix Suns</td>\n",
       "      <td>101</td>\n",
       "      <td>Box Score</td>\n",
       "      <td>NaN</td>\n",
       "      <td>NaN</td>\n",
       "      <td>True</td>\n",
       "      <td>True</td>\n",
       "      <td>True</td>\n",
       "      <td>1</td>\n",
       "      <td>1</td>\n",
       "    </tr>\n",
       "    <tr>\n",
       "      <th>97</th>\n",
       "      <td>2013-11-11</td>\n",
       "      <td>7:30 pm</td>\n",
       "      <td>Orlando Magic</td>\n",
       "      <td>105</td>\n",
       "      <td>Boston Celtics</td>\n",
       "      <td>120</td>\n",
       "      <td>Box Score</td>\n",
       "      <td>NaN</td>\n",
       "      <td>NaN</td>\n",
       "      <td>True</td>\n",
       "      <td>True</td>\n",
       "      <td>False</td>\n",
       "      <td>0</td>\n",
       "      <td>1</td>\n",
       "    </tr>\n",
       "    <tr>\n",
       "      <th>143</th>\n",
       "      <td>2013-11-16</td>\n",
       "      <td>7:30 pm</td>\n",
       "      <td>Atlanta Hawks</td>\n",
       "      <td>110</td>\n",
       "      <td>New York Knicks</td>\n",
       "      <td>90</td>\n",
       "      <td>Box Score</td>\n",
       "      <td>NaN</td>\n",
       "      <td>NaN</td>\n",
       "      <td>False</td>\n",
       "      <td>False</td>\n",
       "      <td>True</td>\n",
       "      <td>0</td>\n",
       "      <td>1</td>\n",
       "    </tr>\n",
       "  </tbody>\n",
       "</table>\n",
       "</div>"
      ],
      "text/plain": [
       "          Date Start Time (ET)          Visitor Team  VisitorPts  \\\n",
       "67  2013-11-06         7:00 pm    Washington Wizards         116   \n",
       "72  2013-11-08         7:00 pm       New York Knicks         101   \n",
       "96  2013-11-10         8:00 pm  New Orleans Pelicans          94   \n",
       "97  2013-11-11         7:30 pm         Orlando Magic         105   \n",
       "143 2013-11-16         7:30 pm         Atlanta Hawks         110   \n",
       "\n",
       "              Home Team  HomePts Score Type OverTime Notes     WL HomeLastWin  \\\n",
       "67   Philadelphia 76ers      102  Box Score      NaN   NaN  False       False   \n",
       "72    Charlotte Bobcats       91  Box Score      NaN   NaN  False        True   \n",
       "96         Phoenix Suns      101  Box Score      NaN   NaN   True        True   \n",
       "97       Boston Celtics      120  Box Score      NaN   NaN   True        True   \n",
       "143     New York Knicks       90  Box Score      NaN   NaN  False       False   \n",
       "\n",
       "    VisitorLastWin  HomeTeamRanksHigher  HomeTeamWonLast  \n",
       "67           False                    0                1  \n",
       "72           False                    1                1  \n",
       "96            True                    1                1  \n",
       "97           False                    0                1  \n",
       "143           True                    0                1  "
      ]
     },
     "execution_count": 44,
     "metadata": {},
     "output_type": "execute_result"
    }
   ],
   "source": [
    "nba_2014[nba_2014['HomeTeamWonLast'] == 1].head(5)"
   ]
  },
  {
   "cell_type": "code",
   "execution_count": 48,
   "metadata": {
    "collapsed": false
   },
   "outputs": [
    {
     "name": "stdout",
     "output_type": "stream",
     "text": [
      "Accuracy: 60.4%\n"
     ]
    }
   ],
   "source": [
    "X_lastwinner = nba_2014[['HomeLastWin', 'VisitorLastWin', 'HomeTeamRanksHigher', 'HomeTeamWonLast']].values\n",
    "clf = DecisionTreeClassifier(random_state=14)\n",
    "scores = cross_val_score(clf, X_lastwinner, y_true, scoring='accuracy')\n",
    "print('Accuracy: {0:.1f}%'.format(np.mean(scores)*100))"
   ]
  },
  {
   "cell_type": "code",
   "execution_count": 49,
   "metadata": {
    "collapsed": true
   },
   "outputs": [],
   "source": [
    "from sklearn.preprocessing import LabelEncoder\n",
    "encoding = LabelEncoder()"
   ]
  },
  {
   "cell_type": "code",
   "execution_count": 50,
   "metadata": {
    "collapsed": false
   },
   "outputs": [
    {
     "data": {
      "text/plain": [
       "LabelEncoder()"
      ]
     },
     "execution_count": 50,
     "metadata": {},
     "output_type": "execute_result"
    }
   ],
   "source": [
    "encoding.fit(nba_2014['Home Team'].values)"
   ]
  },
  {
   "cell_type": "code",
   "execution_count": 52,
   "metadata": {
    "collapsed": false
   },
   "outputs": [
    {
     "data": {
      "text/plain": [
       "(1319, 2)"
      ]
     },
     "execution_count": 52,
     "metadata": {},
     "output_type": "execute_result"
    }
   ],
   "source": [
    "home_teams = encoding.transform(nba_2014['Home Team'].values)\n",
    "visitor_teams = encoding.transform(nba_2014['Visitor Team'].values)\n",
    "X_teams = np.vstack([home_teams, visitor_teams]).T\n",
    "#X_teams.shape"
   ]
  },
  {
   "cell_type": "code",
   "execution_count": 53,
   "metadata": {
    "collapsed": true
   },
   "outputs": [],
   "source": [
    "from sklearn.preprocessing import OneHotEncoder\n",
    "onehot = OneHotEncoder()"
   ]
  },
  {
   "cell_type": "code",
   "execution_count": 54,
   "metadata": {
    "collapsed": true
   },
   "outputs": [],
   "source": [
    "X_teams_expanded = onehot.fit_transform(X_teams).todense()"
   ]
  },
  {
   "cell_type": "code",
   "execution_count": 58,
   "metadata": {
    "collapsed": false
   },
   "outputs": [],
   "source": [
    "X_teams_expanded = np.concatenate((X_lastwinner, X_teams_expanded), axis=1)"
   ]
  },
  {
   "cell_type": "code",
   "execution_count": 85,
   "metadata": {
    "collapsed": false
   },
   "outputs": [
    {
     "data": {
      "text/plain": [
       "<matplotlib.image.AxesImage at 0x7f927705fbe0>"
      ]
     },
     "execution_count": 85,
     "metadata": {},
     "output_type": "execute_result"
    },
    {
     "data": {
      "image/png": "[encoded data removed]",
      "text/plain": [
       "<matplotlib.figure.Figure at 0x7f927709d5c0>"
      ]
     },
     "metadata": {},
     "output_type": "display_data"
    }
   ],
   "source": [
    "plt.imshow(X_teams_expanded.astype(float),aspect='auto')"
   ]
  },
  {
   "cell_type": "code",
   "execution_count": 60,
   "metadata": {
    "collapsed": false
   },
   "outputs": [
    {
     "name": "stdout",
     "output_type": "stream",
     "text": [
      "Accuracy: 59.1%\n"
     ]
    }
   ],
   "source": [
    "clf = DecisionTreeClassifier(random_state=14)\n",
    "scores = cross_val_score(clf, X_teams_expanded, y_true, scoring='accuracy')\n",
    "print('Accuracy: {0:.1f}%'.format(np.mean(scores)*100))"
   ]
  },
  {
   "cell_type": "code",
   "execution_count": 61,
   "metadata": {
    "collapsed": true
   },
   "outputs": [],
   "source": [
    "from sklearn.ensemble import RandomForestClassifier"
   ]
  },
  {
   "cell_type": "code",
   "execution_count": 63,
   "metadata": {
    "collapsed": false
   },
   "outputs": [
    {
     "name": "stdout",
     "output_type": "stream",
     "text": [
      "Accuracy: 60.3%\n"
     ]
    }
   ],
   "source": [
    "clf = RandomForestClassifier(random_state=14)\n",
    "scores = cross_val_score(clf, X_teams_expanded, y_true, scoring='accuracy')\n",
    "print('Accuracy: {0:.1f}%'.format(np.mean(scores)*100))"
   ]
  },
  {
   "cell_type": "code",
   "execution_count": 66,
   "metadata": {
    "collapsed": false
   },
   "outputs": [],
   "source": [
    "from sklearn.grid_search import GridSearchCV"
   ]
  },
  {
   "cell_type": "code",
   "execution_count": 68,
   "metadata": {
    "collapsed": false
   },
   "outputs": [
    {
     "name": "stdout",
     "output_type": "stream",
     "text": [
      "Accuracy: 64.7%\n"
     ]
    }
   ],
   "source": [
    "parameter_space = {\n",
    "    'max_features': [2, 10, 'auto'],\n",
    "    'n_estimators': [100,],\n",
    "    'criterion': ['gini', 'entropy'],\n",
    "    'min_samples_leaf': [2, 4, 6]\n",
    "}\n",
    "clf = RandomForestClassifier(random_state=14)\n",
    "grid = GridSearchCV(clf, parameter_space)\n",
    "grid.fit(X_teams_expanded, y_true)\n",
    "print('Accuracy: {0:.1f}%'.format(grid.best_score_ * 100))"
   ]
  },
  {
   "cell_type": "code",
   "execution_count": 69,
   "metadata": {
    "collapsed": false
   },
   "outputs": [
    {
     "name": "stdout",
     "output_type": "stream",
     "text": [
      "RandomForestClassifier(bootstrap=True, class_weight=None, criterion='entropy',\n",
      "            max_depth=None, max_features='auto', max_leaf_nodes=None,\n",
      "            min_samples_leaf=2, min_samples_split=2,\n",
      "            min_weight_fraction_leaf=0.0, n_estimators=100, n_jobs=1,\n",
      "            oob_score=False, random_state=14, verbose=0, warm_start=False)\n"
     ]
    }
   ],
   "source": [
    "print(grid.best_estimator_)"
   ]
  },
  {
   "cell_type": "code",
   "execution_count": null,
   "metadata": {
    "collapsed": true
   },
   "outputs": [],
   "source": []
  }
 ],
 "metadata": {
  "anaconda-cloud": {},
  "kernelspec": {
   "display_name": "Python [conda root]",
   "language": "python",
   "name": "conda-root-py"
  },
  "language_info": {
   "codemirror_mode": {
    "name": "ipython",
    "version": 3
   },
   "file_extension": ".py",
   "mimetype": "text/x-python",
   "name": "python",
   "nbconvert_exporter": "python",
   "pygments_lexer": "ipython3",
   "version": "3.5.2"
  }
 },
 "nbformat": 4,
 "nbformat_minor": 1
}
