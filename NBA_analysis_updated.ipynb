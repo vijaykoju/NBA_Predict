{
 "cells": [
  {
   "cell_type": "code",
   "execution_count": 2,
   "metadata": {
    "collapsed": false
   },
   "outputs": [],
   "source": [
    "%matplotlib inline\n",
    "import json\n",
    "import pandas as pd\n",
    "import numpy as np\n",
    "import matplotlib \n",
    "import matplotlib.pyplot as plt\n",
    "import seaborn as sns\n",
    "matplotlib.rcParams['savefig.dpi'] = 144"
   ]
  },
  {
   "cell_type": "markdown",
   "metadata": {},
   "source": [
    "## Read in the NBA gamelog data in a pandas dataframe"
   ]
  },
  {
   "cell_type": "code",
   "execution_count": 3,
   "metadata": {
    "collapsed": false
   },
   "outputs": [],
   "source": [
    "# read gameLog data from json files and convert it to dataframe.\n",
    "data_path = 'Data/gamelog/'\n",
    "\n",
    "df = pd.DataFrame()\n",
    "yr = 1985 # starting year (data available from 1985 - 2016)\n",
    "for i in range(0,32):\n",
    "    yr_str = str(yr)+'-'+str(yr+1)[2:]\n",
    "    yr += 1\n",
    "    with open(data_path+'gameLog_'+yr_str+'.json') as json_data:\n",
    "        d = json.load(json_data)\n",
    "        headers = d['resultSets'][0]['headers']\n",
    "        df = df.append(d['resultSets'][0]['rowSet'])\n",
    "        \n",
    "df.columns = headers"
   ]
  },
  {
   "cell_type": "code",
   "execution_count": 4,
   "metadata": {
    "collapsed": false
   },
   "outputs": [
    {
     "data": {
      "text/html": [
       "<div>\n",
       "<table border=\"1\" class=\"dataframe\">\n",
       "  <thead>\n",
       "    <tr style=\"text-align: right;\">\n",
       "      <th></th>\n",
       "      <th>SEASON_ID</th>\n",
       "      <th>TEAM_ID</th>\n",
       "      <th>TEAM_ABBREVIATION</th>\n",
       "      <th>TEAM_NAME</th>\n",
       "      <th>GAME_ID</th>\n",
       "      <th>GAME_DATE</th>\n",
       "      <th>MATCHUP</th>\n",
       "      <th>WL</th>\n",
       "      <th>MIN</th>\n",
       "      <th>FGM</th>\n",
       "      <th>...</th>\n",
       "      <th>DREB</th>\n",
       "      <th>REB</th>\n",
       "      <th>AST</th>\n",
       "      <th>STL</th>\n",
       "      <th>BLK</th>\n",
       "      <th>TOV</th>\n",
       "      <th>PF</th>\n",
       "      <th>PTS</th>\n",
       "      <th>PLUS_MINUS</th>\n",
       "      <th>VIDEO_AVAILABLE</th>\n",
       "    </tr>\n",
       "  </thead>\n",
       "  <tbody>\n",
       "    <tr>\n",
       "      <th>0</th>\n",
       "      <td>21985</td>\n",
       "      <td>1610612757</td>\n",
       "      <td>POR</td>\n",
       "      <td>Portland Trail Blazers</td>\n",
       "      <td>0028500541</td>\n",
       "      <td>1986-02-01</td>\n",
       "      <td>POR vs. LAC</td>\n",
       "      <td>W</td>\n",
       "      <td>240</td>\n",
       "      <td>62</td>\n",
       "      <td>...</td>\n",
       "      <td>27</td>\n",
       "      <td>35</td>\n",
       "      <td>46</td>\n",
       "      <td>13</td>\n",
       "      <td>3</td>\n",
       "      <td>17</td>\n",
       "      <td>29</td>\n",
       "      <td>156</td>\n",
       "      <td>35</td>\n",
       "      <td>0</td>\n",
       "    </tr>\n",
       "    <tr>\n",
       "      <th>1</th>\n",
       "      <td>21985</td>\n",
       "      <td>1610612755</td>\n",
       "      <td>PHL</td>\n",
       "      <td>Philadelphia 76ers</td>\n",
       "      <td>0028500623</td>\n",
       "      <td>1986-02-19</td>\n",
       "      <td>PHL vs. POR</td>\n",
       "      <td>W</td>\n",
       "      <td>240</td>\n",
       "      <td>52</td>\n",
       "      <td>...</td>\n",
       "      <td>35</td>\n",
       "      <td>45</td>\n",
       "      <td>31</td>\n",
       "      <td>15</td>\n",
       "      <td>8</td>\n",
       "      <td>20</td>\n",
       "      <td>30</td>\n",
       "      <td>153</td>\n",
       "      <td>20</td>\n",
       "      <td>0</td>\n",
       "    </tr>\n",
       "    <tr>\n",
       "      <th>2</th>\n",
       "      <td>21985</td>\n",
       "      <td>1610612744</td>\n",
       "      <td>GOS</td>\n",
       "      <td>Golden State Warriors</td>\n",
       "      <td>0028500001</td>\n",
       "      <td>1986-01-15</td>\n",
       "      <td>GOS vs. UTH</td>\n",
       "      <td>W</td>\n",
       "      <td>240</td>\n",
       "      <td>62</td>\n",
       "      <td>...</td>\n",
       "      <td>37</td>\n",
       "      <td>53</td>\n",
       "      <td>37</td>\n",
       "      <td>14</td>\n",
       "      <td>5</td>\n",
       "      <td>15</td>\n",
       "      <td>25</td>\n",
       "      <td>150</td>\n",
       "      <td>46</td>\n",
       "      <td>0</td>\n",
       "    </tr>\n",
       "    <tr>\n",
       "      <th>3</th>\n",
       "      <td>21985</td>\n",
       "      <td>1610612745</td>\n",
       "      <td>HOU</td>\n",
       "      <td>Houston Rockets</td>\n",
       "      <td>0028500769</td>\n",
       "      <td>1986-03-15</td>\n",
       "      <td>HOU vs. LAC</td>\n",
       "      <td>W</td>\n",
       "      <td>240</td>\n",
       "      <td>64</td>\n",
       "      <td>...</td>\n",
       "      <td>33</td>\n",
       "      <td>49</td>\n",
       "      <td>50</td>\n",
       "      <td>14</td>\n",
       "      <td>6</td>\n",
       "      <td>10</td>\n",
       "      <td>23</td>\n",
       "      <td>148</td>\n",
       "      <td>32</td>\n",
       "      <td>0</td>\n",
       "    </tr>\n",
       "    <tr>\n",
       "      <th>4</th>\n",
       "      <td>21985</td>\n",
       "      <td>1610612751</td>\n",
       "      <td>NJN</td>\n",
       "      <td>New Jersey Nets</td>\n",
       "      <td>0028500031</td>\n",
       "      <td>1985-10-30</td>\n",
       "      <td>NJN vs. IND</td>\n",
       "      <td>W</td>\n",
       "      <td>315</td>\n",
       "      <td>55</td>\n",
       "      <td>...</td>\n",
       "      <td>47</td>\n",
       "      <td>65</td>\n",
       "      <td>27</td>\n",
       "      <td>14</td>\n",
       "      <td>6</td>\n",
       "      <td>20</td>\n",
       "      <td>36</td>\n",
       "      <td>147</td>\n",
       "      <td>9</td>\n",
       "      <td>0</td>\n",
       "    </tr>\n",
       "  </tbody>\n",
       "</table>\n",
       "<p>5 rows × 29 columns</p>\n",
       "</div>"
      ],
      "text/plain": [
       "  SEASON_ID     TEAM_ID TEAM_ABBREVIATION               TEAM_NAME     GAME_ID  \\\n",
       "0     21985  1610612757               POR  Portland Trail Blazers  0028500541   \n",
       "1     21985  1610612755               PHL      Philadelphia 76ers  0028500623   \n",
       "2     21985  1610612744               GOS   Golden State Warriors  0028500001   \n",
       "3     21985  1610612745               HOU         Houston Rockets  0028500769   \n",
       "4     21985  1610612751               NJN         New Jersey Nets  0028500031   \n",
       "\n",
       "    GAME_DATE      MATCHUP WL  MIN  FGM       ...         DREB  REB  AST  STL  \\\n",
       "0  1986-02-01  POR vs. LAC  W  240   62       ...           27   35   46   13   \n",
       "1  1986-02-19  PHL vs. POR  W  240   52       ...           35   45   31   15   \n",
       "2  1986-01-15  GOS vs. UTH  W  240   62       ...           37   53   37   14   \n",
       "3  1986-03-15  HOU vs. LAC  W  240   64       ...           33   49   50   14   \n",
       "4  1985-10-30  NJN vs. IND  W  315   55       ...           47   65   27   14   \n",
       "\n",
       "   BLK  TOV  PF  PTS  PLUS_MINUS  VIDEO_AVAILABLE  \n",
       "0    3   17  29  156          35                0  \n",
       "1    8   20  30  153          20                0  \n",
       "2    5   15  25  150          46                0  \n",
       "3    6   10  23  148          32                0  \n",
       "4    6   20  36  147           9                0  \n",
       "\n",
       "[5 rows x 29 columns]"
      ]
     },
     "execution_count": 4,
     "metadata": {},
     "output_type": "execute_result"
    }
   ],
   "source": [
    "df.head(5)"
   ]
  },
  {
   "cell_type": "markdown",
   "metadata": {},
   "source": [
    "## Data Cleaning"
   ]
  },
  {
   "cell_type": "code",
   "execution_count": 5,
   "metadata": {
    "collapsed": true
   },
   "outputs": [],
   "source": [
    "# replace '@' by 'vs.' in column matchup\n",
    "df['MATCHUP'] = df['MATCHUP'].str.replace('@','vs.')\n",
    "\n",
    "# replace 'W' and 'L' to 1 and 0 in column WL\n",
    "df.WL.replace(['W','L'],[1,0], inplace=True)\n",
    "\n",
    "# drop columns with missing values, if any\n",
    "df = df.dropna()"
   ]
  },
  {
   "cell_type": "markdown",
   "metadata": {},
   "source": [
    "### Using df.dropna() removes the rows with 'na' values, but it does not rearrage the index of the table. So, need to rearrage the index of the table so that there wouldn't be missing indices.\n"
   ]
  },
  {
   "cell_type": "code",
   "execution_count": 6,
   "metadata": {
    "collapsed": true
   },
   "outputs": [],
   "source": [
    "# rearrange the index numbers\n",
    "df.index = np.linspace(0,df.index.size-1,df.index.size).astype(int)"
   ]
  },
  {
   "cell_type": "code",
   "execution_count": 23,
   "metadata": {
    "collapsed": false,
    "scrolled": false
   },
   "outputs": [],
   "source": [
    "#df[(df['GAME_DATE']=='2000-10-31') & ((df['TEAM_ID']==1610612741) | (df['TEAM_ID']==1610612758))].loc[:,'FGM':'PF']\n",
    "d1 = df[(df['GAME_DATE']=='2000-10-31') & (df['TEAM_ID']==1610612741)].loc[:,'SEASON_ID':'PF']"
   ]
  },
  {
   "cell_type": "code",
   "execution_count": 46,
   "metadata": {
    "collapsed": false,
    "scrolled": true
   },
   "outputs": [],
   "source": [
    "d2 = df[(df['GAME_DATE']=='2001-04-18') & (df['TEAM_ID']==1610612761)].loc[:,'FGM':'PF']"
   ]
  },
  {
   "cell_type": "code",
   "execution_count": 48,
   "metadata": {
    "collapsed": false
   },
   "outputs": [
    {
     "data": {
      "text/html": [
       "<div>\n",
       "<table border=\"1\" class=\"dataframe\">\n",
       "  <thead>\n",
       "    <tr style=\"text-align: right;\">\n",
       "      <th></th>\n",
       "      <th>SEASON_ID</th>\n",
       "      <th>TEAM_ID</th>\n",
       "      <th>TEAM_ABBREVIATION</th>\n",
       "      <th>TEAM_NAME</th>\n",
       "      <th>GAME_ID</th>\n",
       "      <th>GAME_DATE</th>\n",
       "      <th>MATCHUP</th>\n",
       "      <th>WL</th>\n",
       "      <th>MIN</th>\n",
       "      <th>FGM</th>\n",
       "      <th>...</th>\n",
       "      <th>DREB</th>\n",
       "      <th>REB</th>\n",
       "      <th>AST</th>\n",
       "      <th>STL</th>\n",
       "      <th>BLK</th>\n",
       "      <th>TOV</th>\n",
       "      <th>PF</th>\n",
       "      <th>PTS</th>\n",
       "      <th>PLUS_MINUS</th>\n",
       "      <th>VIDEO_AVAILABLE</th>\n",
       "    </tr>\n",
       "  </thead>\n",
       "  <tbody>\n",
       "  </tbody>\n",
       "</table>\n",
       "<p>0 rows × 29 columns</p>\n",
       "</div>"
      ],
      "text/plain": [
       "Empty DataFrame\n",
       "Columns: [SEASON_ID, TEAM_ID, TEAM_ABBREVIATION, TEAM_NAME, GAME_ID, GAME_DATE, MATCHUP, WL, MIN, FGM, FGA, FG_PCT, FG3M, FG3A, FG3_PCT, FTM, FTA, FT_PCT, OREB, DREB, REB, AST, STL, BLK, TOV, PF, PTS, PLUS_MINUS, VIDEO_AVAILABLE]\n",
       "Index: []\n",
       "\n",
       "[0 rows x 29 columns]"
      ]
     },
     "execution_count": 48,
     "metadata": {},
     "output_type": "execute_result"
    }
   ],
   "source": [
    "df[df['GAME_DATE']=='2001-04-21']\n",
    "#pd.concat([d1,d2],axis=1, ignore_index=False)"
   ]
  },
  {
   "cell_type": "markdown",
   "metadata": {},
   "source": [
    "## Extract TEAM_ID, TEAM_ABBREVIATION, and TEAM_NAMES"
   ]
  },
  {
   "cell_type": "code",
   "execution_count": 8,
   "metadata": {
    "collapsed": false
   },
   "outputs": [],
   "source": [
    "# function to get team_id and team_abbreviations and team_names \n",
    "# (some teams have multiple abbreviations and names)\n",
    "# return a dictionary\n",
    "def team_id_abv_nm():\n",
    "    id_abv_nm_dict = {k:[v['TEAM_ABBREVIATION'].drop_duplicates().tolist(), v['TEAM_NAME'].drop_duplicates().tolist()]\n",
    "                      for k,v in df[['TEAM_ID','TEAM_ABBREVIATION', 'TEAM_NAME']].drop_duplicates().groupby('TEAM_ID')}\n",
    "    return id_abv_nm_dict\n",
    "\n",
    "tm_id_abv_nm = team_id_abv_nm()"
   ]
  },
  {
   "cell_type": "code",
   "execution_count": 9,
   "metadata": {
    "collapsed": false
   },
   "outputs": [
    {
     "data": {
      "text/plain": [
       "{1610612737: [['ATL'], ['Atlanta Hawks']],\n",
       " 1610612738: [['BOS'], ['Boston Celtics']],\n",
       " 1610612739: [['CLE'], ['Cleveland Cavaliers']],\n",
       " 1610612740: [['NOH', 'NOK', 'NOP'],\n",
       "  ['New Orleans Hornets',\n",
       "   'New Orleans/Oklahoma City Hornets',\n",
       "   'New Orleans Pelicans']],\n",
       " 1610612741: [['CHI'], ['Chicago Bulls']],\n",
       " 1610612742: [['DAL'], ['Dallas Mavericks']],\n",
       " 1610612743: [['DEN'], ['Denver Nuggets']],\n",
       " 1610612744: [['GOS', 'GSW'], ['Golden State Warriors']],\n",
       " 1610612745: [['HOU'], ['Houston Rockets']],\n",
       " 1610612746: [['LAC'], ['Los Angeles Clippers', 'LA Clippers']],\n",
       " 1610612747: [['LAL'], ['Los Angeles Lakers']],\n",
       " 1610612748: [['MIA'], ['Miami Heat']],\n",
       " 1610612749: [['MIL'], ['Milwaukee Bucks']],\n",
       " 1610612750: [['MIN'], ['Minnesota Timberwolves']],\n",
       " 1610612751: [['NJN', 'BKN'], ['New Jersey Nets', 'Brooklyn Nets']],\n",
       " 1610612752: [['NYK'], ['New York Knicks']],\n",
       " 1610612753: [['ORL'], ['Orlando Magic']],\n",
       " 1610612754: [['IND'], ['Indiana Pacers']],\n",
       " 1610612755: [['PHL', 'PHI'], ['Philadelphia 76ers']],\n",
       " 1610612756: [['PHX'], ['Phoenix Suns']],\n",
       " 1610612757: [['POR'], ['Portland Trail Blazers']],\n",
       " 1610612758: [['SAC'], ['Sacramento Kings']],\n",
       " 1610612759: [['SAN', 'SAS'], ['San Antonio Spurs']],\n",
       " 1610612760: [['SEA', 'OKC'],\n",
       "  ['Seattle SuperSonics', 'Oklahoma City Thunder']],\n",
       " 1610612761: [['TOR'], ['Toronto Raptors']],\n",
       " 1610612762: [['UTH', 'UTA'], ['Utah Jazz']],\n",
       " 1610612763: [['VAN', 'MEM'], ['Vancouver Grizzlies', 'Memphis Grizzlies']],\n",
       " 1610612764: [['WAS'], ['Washington Bullets', 'Washington Wizards']],\n",
       " 1610612765: [['DET'], ['Detroit Pistons']],\n",
       " 1610612766: [['CHH', 'CHA'], ['Charlotte Hornets', 'Charlotte Bobcats']]}"
      ]
     },
     "execution_count": 9,
     "metadata": {},
     "output_type": "execute_result"
    }
   ],
   "source": [
    "tm_id_abv_nm"
   ]
  },
  {
   "cell_type": "markdown",
   "metadata": {},
   "source": [
    "## Function to look up team_id and team_name, given a team_abreviation"
   ]
  },
  {
   "cell_type": "code",
   "execution_count": 10,
   "metadata": {
    "collapsed": true
   },
   "outputs": [],
   "source": [
    "def lookup_team_id_nm(tm_dict,team_abv):\n",
    "    for k,v in tm_dict.items():\n",
    "        for value in v[0]:\n",
    "            if value == team_abv:\n",
    "                return k, v[1]\n",
    "    else:\n",
    "        print(team_abv+' is not a valid team abreviation.')"
   ]
  },
  {
   "cell_type": "code",
   "execution_count": 11,
   "metadata": {
    "collapsed": false
   },
   "outputs": [
    {
     "name": "stdout",
     "output_type": "stream",
     "text": [
      "(1610612763, ['Vancouver Grizzlies', 'Memphis Grizzlies'])\n"
     ]
    }
   ],
   "source": [
    "team_id_name = lookup_team_id_nm(tm_id_abv_nm, 'MEM')\n",
    "print(team_id_name)"
   ]
  },
  {
   "cell_type": "markdown",
   "metadata": {},
   "source": [
    "## Add a new column of opponent team ids in the dateframe"
   ]
  },
  {
   "cell_type": "code",
   "execution_count": 12,
   "metadata": {
    "collapsed": false
   },
   "outputs": [
    {
     "data": {
      "text/html": [
       "<div>\n",
       "<table border=\"1\" class=\"dataframe\">\n",
       "  <thead>\n",
       "    <tr style=\"text-align: right;\">\n",
       "      <th></th>\n",
       "      <th>SEASON_ID</th>\n",
       "      <th>TEAM_ID</th>\n",
       "      <th>TEAM_ABBREVIATION</th>\n",
       "      <th>TEAM_NAME</th>\n",
       "      <th>GAME_ID</th>\n",
       "      <th>GAME_DATE</th>\n",
       "      <th>MATCHUP</th>\n",
       "      <th>WL</th>\n",
       "      <th>MIN</th>\n",
       "      <th>FGM</th>\n",
       "      <th>...</th>\n",
       "      <th>REB</th>\n",
       "      <th>AST</th>\n",
       "      <th>STL</th>\n",
       "      <th>BLK</th>\n",
       "      <th>TOV</th>\n",
       "      <th>PF</th>\n",
       "      <th>PTS</th>\n",
       "      <th>PLUS_MINUS</th>\n",
       "      <th>VIDEO_AVAILABLE</th>\n",
       "      <th>OPPONENT_ID</th>\n",
       "    </tr>\n",
       "  </thead>\n",
       "  <tbody>\n",
       "    <tr>\n",
       "      <th>0</th>\n",
       "      <td>21985</td>\n",
       "      <td>1610612757</td>\n",
       "      <td>POR</td>\n",
       "      <td>Portland Trail Blazers</td>\n",
       "      <td>0028500541</td>\n",
       "      <td>1986-02-01</td>\n",
       "      <td>POR vs. LAC</td>\n",
       "      <td>1.0</td>\n",
       "      <td>240</td>\n",
       "      <td>62</td>\n",
       "      <td>...</td>\n",
       "      <td>35</td>\n",
       "      <td>46</td>\n",
       "      <td>13</td>\n",
       "      <td>3</td>\n",
       "      <td>17</td>\n",
       "      <td>29</td>\n",
       "      <td>156</td>\n",
       "      <td>35</td>\n",
       "      <td>0</td>\n",
       "      <td>1610612746</td>\n",
       "    </tr>\n",
       "    <tr>\n",
       "      <th>1</th>\n",
       "      <td>21985</td>\n",
       "      <td>1610612755</td>\n",
       "      <td>PHL</td>\n",
       "      <td>Philadelphia 76ers</td>\n",
       "      <td>0028500623</td>\n",
       "      <td>1986-02-19</td>\n",
       "      <td>PHL vs. POR</td>\n",
       "      <td>1.0</td>\n",
       "      <td>240</td>\n",
       "      <td>52</td>\n",
       "      <td>...</td>\n",
       "      <td>45</td>\n",
       "      <td>31</td>\n",
       "      <td>15</td>\n",
       "      <td>8</td>\n",
       "      <td>20</td>\n",
       "      <td>30</td>\n",
       "      <td>153</td>\n",
       "      <td>20</td>\n",
       "      <td>0</td>\n",
       "      <td>1610612757</td>\n",
       "    </tr>\n",
       "    <tr>\n",
       "      <th>2</th>\n",
       "      <td>21985</td>\n",
       "      <td>1610612744</td>\n",
       "      <td>GOS</td>\n",
       "      <td>Golden State Warriors</td>\n",
       "      <td>0028500001</td>\n",
       "      <td>1986-01-15</td>\n",
       "      <td>GOS vs. UTH</td>\n",
       "      <td>1.0</td>\n",
       "      <td>240</td>\n",
       "      <td>62</td>\n",
       "      <td>...</td>\n",
       "      <td>53</td>\n",
       "      <td>37</td>\n",
       "      <td>14</td>\n",
       "      <td>5</td>\n",
       "      <td>15</td>\n",
       "      <td>25</td>\n",
       "      <td>150</td>\n",
       "      <td>46</td>\n",
       "      <td>0</td>\n",
       "      <td>1610612762</td>\n",
       "    </tr>\n",
       "    <tr>\n",
       "      <th>3</th>\n",
       "      <td>21985</td>\n",
       "      <td>1610612745</td>\n",
       "      <td>HOU</td>\n",
       "      <td>Houston Rockets</td>\n",
       "      <td>0028500769</td>\n",
       "      <td>1986-03-15</td>\n",
       "      <td>HOU vs. LAC</td>\n",
       "      <td>1.0</td>\n",
       "      <td>240</td>\n",
       "      <td>64</td>\n",
       "      <td>...</td>\n",
       "      <td>49</td>\n",
       "      <td>50</td>\n",
       "      <td>14</td>\n",
       "      <td>6</td>\n",
       "      <td>10</td>\n",
       "      <td>23</td>\n",
       "      <td>148</td>\n",
       "      <td>32</td>\n",
       "      <td>0</td>\n",
       "      <td>1610612746</td>\n",
       "    </tr>\n",
       "    <tr>\n",
       "      <th>4</th>\n",
       "      <td>21985</td>\n",
       "      <td>1610612751</td>\n",
       "      <td>NJN</td>\n",
       "      <td>New Jersey Nets</td>\n",
       "      <td>0028500031</td>\n",
       "      <td>1985-10-30</td>\n",
       "      <td>NJN vs. IND</td>\n",
       "      <td>1.0</td>\n",
       "      <td>315</td>\n",
       "      <td>55</td>\n",
       "      <td>...</td>\n",
       "      <td>65</td>\n",
       "      <td>27</td>\n",
       "      <td>14</td>\n",
       "      <td>6</td>\n",
       "      <td>20</td>\n",
       "      <td>36</td>\n",
       "      <td>147</td>\n",
       "      <td>9</td>\n",
       "      <td>0</td>\n",
       "      <td>1610612754</td>\n",
       "    </tr>\n",
       "  </tbody>\n",
       "</table>\n",
       "<p>5 rows × 30 columns</p>\n",
       "</div>"
      ],
      "text/plain": [
       "  SEASON_ID     TEAM_ID TEAM_ABBREVIATION               TEAM_NAME     GAME_ID  \\\n",
       "0     21985  1610612757               POR  Portland Trail Blazers  0028500541   \n",
       "1     21985  1610612755               PHL      Philadelphia 76ers  0028500623   \n",
       "2     21985  1610612744               GOS   Golden State Warriors  0028500001   \n",
       "3     21985  1610612745               HOU         Houston Rockets  0028500769   \n",
       "4     21985  1610612751               NJN         New Jersey Nets  0028500031   \n",
       "\n",
       "    GAME_DATE      MATCHUP   WL  MIN  FGM     ...       REB  AST  STL  BLK  \\\n",
       "0  1986-02-01  POR vs. LAC  1.0  240   62     ...        35   46   13    3   \n",
       "1  1986-02-19  PHL vs. POR  1.0  240   52     ...        45   31   15    8   \n",
       "2  1986-01-15  GOS vs. UTH  1.0  240   62     ...        53   37   14    5   \n",
       "3  1986-03-15  HOU vs. LAC  1.0  240   64     ...        49   50   14    6   \n",
       "4  1985-10-30  NJN vs. IND  1.0  315   55     ...        65   27   14    6   \n",
       "\n",
       "   TOV  PF  PTS  PLUS_MINUS  VIDEO_AVAILABLE  OPPONENT_ID  \n",
       "0   17  29  156          35                0   1610612746  \n",
       "1   20  30  153          20                0   1610612757  \n",
       "2   15  25  150          46                0   1610612762  \n",
       "3   10  23  148          32                0   1610612746  \n",
       "4   20  36  147           9                0   1610612754  \n",
       "\n",
       "[5 rows x 30 columns]"
      ]
     },
     "execution_count": 12,
     "metadata": {},
     "output_type": "execute_result"
    }
   ],
   "source": [
    "# get team_id of the teams to add a new column into the dataframe\n",
    "matchup_team_ids = [lookup_team_id_nm(tm_id_abv_nm,df['MATCHUP'][i][-3:])[0] for i in range(len(df.index))]\n",
    "\n",
    "# add a new column of opponent_id to the dataframe\n",
    "df['OPPONENT_ID'] = matchup_team_ids\n",
    "df.head(5)"
   ]
  },
  {
   "cell_type": "markdown",
   "metadata": {},
   "source": [
    "## Sort the dataframe by TEAM_ID, OPPENENT_ID, and, WL"
   ]
  },
  {
   "cell_type": "code",
   "execution_count": 13,
   "metadata": {
    "collapsed": false,
    "scrolled": true
   },
   "outputs": [
    {
     "data": {
      "text/html": [
       "<div>\n",
       "<table border=\"1\" class=\"dataframe\">\n",
       "  <thead>\n",
       "    <tr style=\"text-align: right;\">\n",
       "      <th></th>\n",
       "      <th>SEASON_ID</th>\n",
       "      <th>TEAM_ID</th>\n",
       "      <th>TEAM_ABBREVIATION</th>\n",
       "      <th>TEAM_NAME</th>\n",
       "      <th>GAME_ID</th>\n",
       "      <th>GAME_DATE</th>\n",
       "      <th>MATCHUP</th>\n",
       "      <th>WL</th>\n",
       "      <th>MIN</th>\n",
       "      <th>FGM</th>\n",
       "      <th>...</th>\n",
       "      <th>REB</th>\n",
       "      <th>AST</th>\n",
       "      <th>STL</th>\n",
       "      <th>BLK</th>\n",
       "      <th>TOV</th>\n",
       "      <th>PF</th>\n",
       "      <th>PTS</th>\n",
       "      <th>PLUS_MINUS</th>\n",
       "      <th>VIDEO_AVAILABLE</th>\n",
       "      <th>OPPONENT_ID</th>\n",
       "    </tr>\n",
       "  </thead>\n",
       "  <tbody>\n",
       "    <tr>\n",
       "      <th>0.0</th>\n",
       "      <td>21985</td>\n",
       "      <td>1610612737</td>\n",
       "      <td>ATL</td>\n",
       "      <td>Atlanta Hawks</td>\n",
       "      <td>0028500453</td>\n",
       "      <td>1986-01-18</td>\n",
       "      <td>ATL vs. BOS</td>\n",
       "      <td>0.0</td>\n",
       "      <td>265</td>\n",
       "      <td>49</td>\n",
       "      <td>...</td>\n",
       "      <td>43</td>\n",
       "      <td>30</td>\n",
       "      <td>12</td>\n",
       "      <td>10</td>\n",
       "      <td>11</td>\n",
       "      <td>25</td>\n",
       "      <td>122</td>\n",
       "      <td>-3</td>\n",
       "      <td>0</td>\n",
       "      <td>1610612738</td>\n",
       "    </tr>\n",
       "    <tr>\n",
       "      <th>1.0</th>\n",
       "      <td>21985</td>\n",
       "      <td>1610612737</td>\n",
       "      <td>ATL</td>\n",
       "      <td>Atlanta Hawks</td>\n",
       "      <td>0028500760</td>\n",
       "      <td>1986-03-14</td>\n",
       "      <td>ATL vs. BOS</td>\n",
       "      <td>0.0</td>\n",
       "      <td>240</td>\n",
       "      <td>49</td>\n",
       "      <td>...</td>\n",
       "      <td>39</td>\n",
       "      <td>28</td>\n",
       "      <td>7</td>\n",
       "      <td>3</td>\n",
       "      <td>10</td>\n",
       "      <td>28</td>\n",
       "      <td>114</td>\n",
       "      <td>-7</td>\n",
       "      <td>0</td>\n",
       "      <td>1610612738</td>\n",
       "    </tr>\n",
       "    <tr>\n",
       "      <th>2.0</th>\n",
       "      <td>21985</td>\n",
       "      <td>1610612737</td>\n",
       "      <td>ATL</td>\n",
       "      <td>Atlanta Hawks</td>\n",
       "      <td>0028500258</td>\n",
       "      <td>1985-12-10</td>\n",
       "      <td>ATL vs. BOS</td>\n",
       "      <td>0.0</td>\n",
       "      <td>240</td>\n",
       "      <td>48</td>\n",
       "      <td>...</td>\n",
       "      <td>37</td>\n",
       "      <td>23</td>\n",
       "      <td>13</td>\n",
       "      <td>7</td>\n",
       "      <td>20</td>\n",
       "      <td>22</td>\n",
       "      <td>110</td>\n",
       "      <td>-4</td>\n",
       "      <td>0</td>\n",
       "      <td>1610612738</td>\n",
       "    </tr>\n",
       "    <tr>\n",
       "      <th>3.0</th>\n",
       "      <td>21985</td>\n",
       "      <td>1610612737</td>\n",
       "      <td>ATL</td>\n",
       "      <td>Atlanta Hawks</td>\n",
       "      <td>0028500045</td>\n",
       "      <td>1985-11-01</td>\n",
       "      <td>ATL vs. BOS</td>\n",
       "      <td>0.0</td>\n",
       "      <td>240</td>\n",
       "      <td>41</td>\n",
       "      <td>...</td>\n",
       "      <td>39</td>\n",
       "      <td>22</td>\n",
       "      <td>12</td>\n",
       "      <td>2</td>\n",
       "      <td>14</td>\n",
       "      <td>35</td>\n",
       "      <td>105</td>\n",
       "      <td>-4</td>\n",
       "      <td>0</td>\n",
       "      <td>1610612738</td>\n",
       "    </tr>\n",
       "    <tr>\n",
       "      <th>4.0</th>\n",
       "      <td>21985</td>\n",
       "      <td>1610612737</td>\n",
       "      <td>ATL</td>\n",
       "      <td>Atlanta Hawks</td>\n",
       "      <td>0028500200</td>\n",
       "      <td>1985-11-30</td>\n",
       "      <td>ATL vs. BOS</td>\n",
       "      <td>0.0</td>\n",
       "      <td>240</td>\n",
       "      <td>35</td>\n",
       "      <td>...</td>\n",
       "      <td>40</td>\n",
       "      <td>16</td>\n",
       "      <td>10</td>\n",
       "      <td>6</td>\n",
       "      <td>18</td>\n",
       "      <td>17</td>\n",
       "      <td>97</td>\n",
       "      <td>-5</td>\n",
       "      <td>0</td>\n",
       "      <td>1610612738</td>\n",
       "    </tr>\n",
       "  </tbody>\n",
       "</table>\n",
       "<p>5 rows × 30 columns</p>\n",
       "</div>"
      ],
      "text/plain": [
       "    SEASON_ID     TEAM_ID TEAM_ABBREVIATION      TEAM_NAME     GAME_ID  \\\n",
       "0.0     21985  1610612737               ATL  Atlanta Hawks  0028500453   \n",
       "1.0     21985  1610612737               ATL  Atlanta Hawks  0028500760   \n",
       "2.0     21985  1610612737               ATL  Atlanta Hawks  0028500258   \n",
       "3.0     21985  1610612737               ATL  Atlanta Hawks  0028500045   \n",
       "4.0     21985  1610612737               ATL  Atlanta Hawks  0028500200   \n",
       "\n",
       "      GAME_DATE      MATCHUP   WL  MIN  FGM     ...       REB  AST  STL  BLK  \\\n",
       "0.0  1986-01-18  ATL vs. BOS  0.0  265   49     ...        43   30   12   10   \n",
       "1.0  1986-03-14  ATL vs. BOS  0.0  240   49     ...        39   28    7    3   \n",
       "2.0  1985-12-10  ATL vs. BOS  0.0  240   48     ...        37   23   13    7   \n",
       "3.0  1985-11-01  ATL vs. BOS  0.0  240   41     ...        39   22   12    2   \n",
       "4.0  1985-11-30  ATL vs. BOS  0.0  240   35     ...        40   16   10    6   \n",
       "\n",
       "     TOV  PF  PTS  PLUS_MINUS  VIDEO_AVAILABLE  OPPONENT_ID  \n",
       "0.0   11  25  122          -3                0   1610612738  \n",
       "1.0   10  28  114          -7                0   1610612738  \n",
       "2.0   20  22  110          -4                0   1610612738  \n",
       "3.0   14  35  105          -4                0   1610612738  \n",
       "4.0   18  17   97          -5                0   1610612738  \n",
       "\n",
       "[5 rows x 30 columns]"
      ]
     },
     "execution_count": 13,
     "metadata": {},
     "output_type": "execute_result"
    }
   ],
   "source": [
    "# sort data by TEAM_ID, OPPONENT_ID and GAME_DATE\n",
    "df = df.sort_values(['TEAM_ID', 'OPPONENT_ID','WL'])\n",
    "df.index = np.linspace(0,df.index.size-1,df.index.size)\n",
    "df.head(5)"
   ]
  },
  {
   "cell_type": "code",
   "execution_count": 14,
   "metadata": {
    "collapsed": false
   },
   "outputs": [],
   "source": [
    "# count the number of games played by each team\n",
    "gameCount_byTeam = df.TEAM_ID.value_counts().sort_index()"
   ]
  },
  {
   "cell_type": "markdown",
   "metadata": {},
   "source": [
    "## Number of games played by each team since 1985"
   ]
  },
  {
   "cell_type": "code",
   "execution_count": 15,
   "metadata": {
    "collapsed": false
   },
   "outputs": [
    {
     "data": {
      "text/plain": [
       "<matplotlib.text.Text at 0x7f18e4ee1e48>"
      ]
     },
     "execution_count": 15,
     "metadata": {},
     "output_type": "execute_result"
    },
    {
     "data": {
      "image/png": "[encoded data removed]",
      "text/plain": [
       "<matplotlib.figure.Figure at 0x7f18e4a685f8>"
      ]
     },
     "metadata": {},
     "output_type": "display_data"
    }
   ],
   "source": [
    "gameCount_byTeam.plot.bar()\n",
    "plt.xlabel('TEAM_ID')\n",
    "plt.ylabel('Number of games played since 1985')"
   ]
  },
  {
   "cell_type": "markdown",
   "metadata": {},
   "source": [
    "# Choose Teams to look at"
   ]
  },
  {
   "cell_type": "code",
   "execution_count": 16,
   "metadata": {
    "collapsed": false
   },
   "outputs": [
    {
     "name": "stdout",
     "output_type": "stream",
     "text": [
      "(Team ID, Team Abbreviation, Team Name)                : (1610612741, CHI, ['Chicago Bulls'])\n",
      "(Opp. Team ID, Opp. Team Abbreviation, Opp. Team Name) : (1610612738, BOS, ['Boston Celtics'])\n"
     ]
    }
   ],
   "source": [
    "# List of teams available:\n",
    "#\n",
    "# [ ATL, BOS, CLE, NOH, CHI, DAL, DEN, GOS, HOU, LAC, LAL, MIA, MIL, MIN, NJN,\n",
    "#   NYK, ORL, IND, PHL, PHX, POR, SAC, SAN, SEA, TOR, UTH, VAN, WAS, DET, CHH ]\n",
    "\n",
    "team    = 'CHI'  # Chicago Bulls\n",
    "oppTeam = 'BOS'  # Boston Celtics\n",
    "\n",
    "teamID = lookup_team_id_nm(tm_id_abv_nm, team)\n",
    "oppTeamID = lookup_team_id_nm(tm_id_abv_nm, oppTeam)\n",
    "print('(Team ID, Team Abbreviation, Team Name)                : ({0}, {1}, {2})'.format(teamID[0], team, teamID[1]))\n",
    "print('(Opp. Team ID, Opp. Team Abbreviation, Opp. Team Name) : ({0}, {1}, {2})'.format(oppTeamID[0], oppTeam, oppTeamID[1]))"
   ]
  },
  {
   "cell_type": "markdown",
   "metadata": {},
   "source": [
    "## Get data for your team"
   ]
  },
  {
   "cell_type": "code",
   "execution_count": 17,
   "metadata": {
    "collapsed": false
   },
   "outputs": [
    {
     "data": {
      "text/html": [
       "<div>\n",
       "<table border=\"1\" class=\"dataframe\">\n",
       "  <thead>\n",
       "    <tr style=\"text-align: right;\">\n",
       "      <th></th>\n",
       "      <th>SEASON_ID</th>\n",
       "      <th>TEAM_ID</th>\n",
       "      <th>TEAM_ABBREVIATION</th>\n",
       "      <th>TEAM_NAME</th>\n",
       "      <th>GAME_ID</th>\n",
       "      <th>GAME_DATE</th>\n",
       "      <th>MATCHUP</th>\n",
       "      <th>WL</th>\n",
       "      <th>MIN</th>\n",
       "      <th>FGM</th>\n",
       "      <th>...</th>\n",
       "      <th>REB</th>\n",
       "      <th>AST</th>\n",
       "      <th>STL</th>\n",
       "      <th>BLK</th>\n",
       "      <th>TOV</th>\n",
       "      <th>PF</th>\n",
       "      <th>PTS</th>\n",
       "      <th>PLUS_MINUS</th>\n",
       "      <th>VIDEO_AVAILABLE</th>\n",
       "      <th>OPPONENT_ID</th>\n",
       "    </tr>\n",
       "  </thead>\n",
       "  <tbody>\n",
       "    <tr>\n",
       "      <th>11400.0</th>\n",
       "      <td>22014</td>\n",
       "      <td>1610612741</td>\n",
       "      <td>CHI</td>\n",
       "      <td>Chicago Bulls</td>\n",
       "      <td>0021400263</td>\n",
       "      <td>2014-12-03</td>\n",
       "      <td>CHI vs. CHA</td>\n",
       "      <td>1.0</td>\n",
       "      <td>240</td>\n",
       "      <td>37</td>\n",
       "      <td>...</td>\n",
       "      <td>49</td>\n",
       "      <td>27</td>\n",
       "      <td>4</td>\n",
       "      <td>1</td>\n",
       "      <td>13</td>\n",
       "      <td>18</td>\n",
       "      <td>102</td>\n",
       "      <td>7</td>\n",
       "      <td>1</td>\n",
       "      <td>1610612766</td>\n",
       "    </tr>\n",
       "    <tr>\n",
       "      <th>11401.0</th>\n",
       "      <td>22014</td>\n",
       "      <td>1610612741</td>\n",
       "      <td>CHI</td>\n",
       "      <td>Chicago Bulls</td>\n",
       "      <td>0021401051</td>\n",
       "      <td>2015-03-23</td>\n",
       "      <td>CHI vs. CHA</td>\n",
       "      <td>1.0</td>\n",
       "      <td>240</td>\n",
       "      <td>37</td>\n",
       "      <td>...</td>\n",
       "      <td>46</td>\n",
       "      <td>21</td>\n",
       "      <td>5</td>\n",
       "      <td>7</td>\n",
       "      <td>6</td>\n",
       "      <td>20</td>\n",
       "      <td>98</td>\n",
       "      <td>12</td>\n",
       "      <td>1</td>\n",
       "      <td>1610612766</td>\n",
       "    </tr>\n",
       "    <tr>\n",
       "      <th>11402.0</th>\n",
       "      <td>22015</td>\n",
       "      <td>1610612741</td>\n",
       "      <td>CHI</td>\n",
       "      <td>Chicago Bulls</td>\n",
       "      <td>0021500132</td>\n",
       "      <td>2015-11-13</td>\n",
       "      <td>CHI vs. CHA</td>\n",
       "      <td>1.0</td>\n",
       "      <td>240</td>\n",
       "      <td>37</td>\n",
       "      <td>...</td>\n",
       "      <td>57</td>\n",
       "      <td>27</td>\n",
       "      <td>4</td>\n",
       "      <td>6</td>\n",
       "      <td>11</td>\n",
       "      <td>16</td>\n",
       "      <td>102</td>\n",
       "      <td>5</td>\n",
       "      <td>1</td>\n",
       "      <td>1610612766</td>\n",
       "    </tr>\n",
       "    <tr>\n",
       "      <th>11403.0</th>\n",
       "      <td>22016</td>\n",
       "      <td>1610612741</td>\n",
       "      <td>CHI</td>\n",
       "      <td>Chicago Bulls</td>\n",
       "      <td>0021600517</td>\n",
       "      <td>2017-01-02</td>\n",
       "      <td>CHI vs. CHA</td>\n",
       "      <td>1.0</td>\n",
       "      <td>240</td>\n",
       "      <td>42</td>\n",
       "      <td>...</td>\n",
       "      <td>45</td>\n",
       "      <td>23</td>\n",
       "      <td>10</td>\n",
       "      <td>9</td>\n",
       "      <td>12</td>\n",
       "      <td>17</td>\n",
       "      <td>118</td>\n",
       "      <td>7</td>\n",
       "      <td>1</td>\n",
       "      <td>1610612766</td>\n",
       "    </tr>\n",
       "    <tr>\n",
       "      <th>11404.0</th>\n",
       "      <td>22016</td>\n",
       "      <td>1610612741</td>\n",
       "      <td>CHI</td>\n",
       "      <td>Chicago Bulls</td>\n",
       "      <td>0021600991</td>\n",
       "      <td>2017-03-13</td>\n",
       "      <td>CHI vs. CHA</td>\n",
       "      <td>1.0</td>\n",
       "      <td>240</td>\n",
       "      <td>41</td>\n",
       "      <td>...</td>\n",
       "      <td>50</td>\n",
       "      <td>29</td>\n",
       "      <td>6</td>\n",
       "      <td>5</td>\n",
       "      <td>10</td>\n",
       "      <td>20</td>\n",
       "      <td>115</td>\n",
       "      <td>6</td>\n",
       "      <td>1</td>\n",
       "      <td>1610612766</td>\n",
       "    </tr>\n",
       "  </tbody>\n",
       "</table>\n",
       "<p>5 rows × 30 columns</p>\n",
       "</div>"
      ],
      "text/plain": [
       "        SEASON_ID     TEAM_ID TEAM_ABBREVIATION      TEAM_NAME     GAME_ID  \\\n",
       "11400.0     22014  1610612741               CHI  Chicago Bulls  0021400263   \n",
       "11401.0     22014  1610612741               CHI  Chicago Bulls  0021401051   \n",
       "11402.0     22015  1610612741               CHI  Chicago Bulls  0021500132   \n",
       "11403.0     22016  1610612741               CHI  Chicago Bulls  0021600517   \n",
       "11404.0     22016  1610612741               CHI  Chicago Bulls  0021600991   \n",
       "\n",
       "          GAME_DATE      MATCHUP   WL  MIN  FGM     ...       REB  AST  STL  \\\n",
       "11400.0  2014-12-03  CHI vs. CHA  1.0  240   37     ...        49   27    4   \n",
       "11401.0  2015-03-23  CHI vs. CHA  1.0  240   37     ...        46   21    5   \n",
       "11402.0  2015-11-13  CHI vs. CHA  1.0  240   37     ...        57   27    4   \n",
       "11403.0  2017-01-02  CHI vs. CHA  1.0  240   42     ...        45   23   10   \n",
       "11404.0  2017-03-13  CHI vs. CHA  1.0  240   41     ...        50   29    6   \n",
       "\n",
       "         BLK  TOV  PF  PTS  PLUS_MINUS  VIDEO_AVAILABLE  OPPONENT_ID  \n",
       "11400.0    1   13  18  102           7                1   1610612766  \n",
       "11401.0    7    6  20   98          12                1   1610612766  \n",
       "11402.0    6   11  16  102           5                1   1610612766  \n",
       "11403.0    9   12  17  118           7                1   1610612766  \n",
       "11404.0    5   10  20  115           6                1   1610612766  \n",
       "\n",
       "[5 rows x 30 columns]"
      ]
     },
     "execution_count": 17,
     "metadata": {},
     "output_type": "execute_result"
    }
   ],
   "source": [
    "data_for_team = df[df['TEAM_ID']==teamID[0]]\n",
    "data_for_team.tail(5)"
   ]
  },
  {
   "cell_type": "markdown",
   "metadata": {},
   "source": [
    "## Bar graph of number of games played by your team against opponent teams since 1985"
   ]
  },
  {
   "cell_type": "code",
   "execution_count": 18,
   "metadata": {
    "collapsed": false
   },
   "outputs": [
    {
     "data": {
      "text/plain": [
       "<matplotlib.text.Text at 0x7f18e316eb38>"
      ]
     },
     "execution_count": 18,
     "metadata": {},
     "output_type": "execute_result"
    },
    {
     "data": {
      "image/png": "[encoded data removed]",
      "text/plain": [
       "<matplotlib.figure.Figure at 0x7f18e30fc320>"
      ]
     },
     "metadata": {},
     "output_type": "display_data"
    }
   ],
   "source": [
    "gameCount_ofTeam_byOpponent = pd.Series(data_for_team['OPPONENT_ID'].tolist()).value_counts().sort_index()\n",
    "gameCount_ofTeam_byOpponent.plot.bar()\n",
    "plt.xlabel('Opponent TEAM_ID')\n",
    "plt.ylabel('# of games played by '+str(teamID[0]))"
   ]
  },
  {
   "cell_type": "code",
   "execution_count": 21,
   "metadata": {
    "collapsed": false
   },
   "outputs": [
    {
     "data": {
      "text/plain": [
       "OPPONENT_ID  WL \n",
       "1610612737   0.0    58\n",
       "             1.0    74\n",
       "1610612738   0.0    55\n",
       "             1.0    71\n",
       "1610612739   0.0    62\n",
       "             1.0    74\n",
       "1610612740   0.0    12\n",
       "             1.0    21\n",
       "1610612742   0.0    34\n",
       "             1.0    27\n",
       "1610612743   0.0    31\n",
       "             1.0    29\n",
       "1610612744   0.0    24\n",
       "             1.0    37\n",
       "1610612745   0.0    35\n",
       "             1.0    26\n",
       "1610612746   0.0    28\n",
       "             1.0    34\n",
       "1610612747   0.0    34\n",
       "             1.0    27\n",
       "1610612748   0.0    49\n",
       "             1.0    57\n",
       "1610612749   0.0    51\n",
       "             1.0    89\n",
       "1610612750   0.0    22\n",
       "             1.0    30\n",
       "1610612751   0.0    46\n",
       "             1.0    74\n",
       "1610612752   0.0    47\n",
       "             1.0    77\n",
       "1610612753   0.0    48\n",
       "             1.0    53\n",
       "1610612754   0.0    62\n",
       "             1.0    72\n",
       "1610612755   0.0    56\n",
       "             1.0    67\n",
       "1610612756   0.0    29\n",
       "             1.0    32\n",
       "1610612757   0.0    33\n",
       "             1.0    27\n",
       "1610612758   0.0    28\n",
       "             1.0    34\n",
       "1610612759   0.0    36\n",
       "             1.0    26\n",
       "1610612760   0.0    29\n",
       "             1.0    32\n",
       "1610612761   0.0    33\n",
       "             1.0    48\n",
       "1610612762   0.0    30\n",
       "             1.0    31\n",
       "1610612763   0.0    20\n",
       "             1.0    23\n",
       "1610612764   0.0    50\n",
       "             1.0    72\n",
       "1610612765   0.0    66\n",
       "             1.0    74\n",
       "1610612766   0.0    38\n",
       "             1.0    66\n",
       "Name: SEASON_ID, dtype: int64"
      ]
     },
     "execution_count": 21,
     "metadata": {},
     "output_type": "execute_result"
    }
   ],
   "source": [
    "data_for_team.groupby(['OPPONENT_ID','WL'])['SEASON_ID'].count()"
   ]
  },
  {
   "cell_type": "code",
   "execution_count": 19,
   "metadata": {
    "collapsed": false
   },
   "outputs": [],
   "source": [
    "win_loss_count = data_for_team.groupby(['OPPONENT_ID','WL'])['SEASON_ID'].count()"
   ]
  },
  {
   "cell_type": "code",
   "execution_count": 20,
   "metadata": {
    "collapsed": false
   },
   "outputs": [],
   "source": [
    "# win_loss_of_team.index.levels[0].tolist()\n",
    "# len(win_loss_of_team.index.labels[1].tolist())"
   ]
  },
  {
   "cell_type": "code",
   "execution_count": 21,
   "metadata": {
    "collapsed": false
   },
   "outputs": [],
   "source": [
    "if win_loss_count.index.size != 58:\n",
    "    print('Something is wrong.!!!')\n",
    "\n",
    "winLoss_records = []\n",
    "for i in range(29):\n",
    "    winLoss_records.append([win_loss_count.index.levels[0][i], win_loss_count[i*2], win_loss_count[1+i*2]])\n",
    "    \n",
    "winLoss_records_byTeam = {teamID[0]: np.array(winLoss_records)}\n",
    "# winLoss_records_byTeam"
   ]
  },
  {
   "cell_type": "markdown",
   "metadata": {},
   "source": [
    "## Bar graph of win/loss percentage of your team against all its opponent teams"
   ]
  },
  {
   "cell_type": "code",
   "execution_count": 22,
   "metadata": {
    "collapsed": false
   },
   "outputs": [
    {
     "data": {
      "text/plain": [
       "<matplotlib.text.Text at 0x7f2331fbc748>"
      ]
     },
     "execution_count": 22,
     "metadata": {},
     "output_type": "execute_result"
    },
    {
     "data": {
      "image/png": "[encoded data removed]",
      "text/plain": [
       "<matplotlib.figure.Figure at 0x7f2332153978>"
      ]
     },
     "metadata": {},
     "output_type": "display_data"
    }
   ],
   "source": [
    "df2 = pd.DataFrame(winLoss_records_byTeam[teamID[0]][:,1:],columns=['Loss','Win'])\n",
    "df2['Loss'] = (df2['Loss']/gameCount_ofTeam_byOpponent.tolist())*100\n",
    "df2['Win'] = (df2['Win']/gameCount_ofTeam_byOpponent.tolist())*100\n",
    "df2.index = [tm_id_abv_nm[item][0][0] for item in win_loss_count.index.levels[0]]\n",
    "df2.plot.bar()\n",
    "plt.xlabel('Opponent Teams')\n",
    "plt.ylabel('Percentage of Wins and Losses')\n",
    "plt.title('Win/Loss record for '+team+' (1985-Present)')"
   ]
  },
  {
   "cell_type": "markdown",
   "metadata": {},
   "source": [
    "## Field Goal percentages of your team against the opponent team for the games won and lost"
   ]
  },
  {
   "cell_type": "code",
   "execution_count": 23,
   "metadata": {
    "collapsed": true
   },
   "outputs": [],
   "source": [
    "OPP_WIN = data_for_team[(data_for_team['WL']==1) & \n",
    "                        (data_for_team['OPPONENT_ID']==oppTeamID[0])].sort_values('GAME_DATE')\n",
    "OPP_LOSS = data_for_team[(data_for_team['WL']==0) & \n",
    "                         (data_for_team['OPPONENT_ID']==oppTeamID[0])].sort_values('GAME_DATE')\n",
    "OPP_WIN_dates = matplotlib.dates.date2num(pd.to_datetime(OPP_WIN['GAME_DATE']).tolist())\n",
    "OPP_LOSS_dates = matplotlib.dates.date2num(pd.to_datetime(OPP_LOSS['GAME_DATE']).tolist())"
   ]
  },
  {
   "cell_type": "code",
   "execution_count": 24,
   "metadata": {
    "collapsed": false
   },
   "outputs": [
    {
     "data": {
      "text/plain": [
       "<matplotlib.legend.Legend at 0x7f2331e6ac50>"
      ]
     },
     "execution_count": 24,
     "metadata": {},
     "output_type": "execute_result"
    },
    {
     "data": {
      "image/png": "[encoded data removed]",
      "text/plain": [
       "<matplotlib.figure.Figure at 0x7f2331f1e828>"
      ]
     },
     "metadata": {},
     "output_type": "display_data"
    }
   ],
   "source": [
    "plt.plot_date(OPP_WIN_dates,OPP_WIN['FG_PCT']*100,'o--')\n",
    "plt.plot_date(OPP_LOSS_dates,OPP_LOSS['FG_PCT']*100,'o--')\n",
    "plt.plot((np.min(OPP_WIN_dates),np.max(OPP_WIN_dates)),(OPP_WIN['FG_PCT'].mean()*100,OPP_WIN['FG_PCT'].mean()*100), 'b--')\n",
    "plt.plot((np.min(OPP_LOSS_dates),np.max(OPP_LOSS_dates)),(OPP_LOSS['FG_PCT'].mean()*100,OPP_LOSS['FG_PCT'].mean()*100), 'g--')\n",
    "plt.xlabel('GAME_DATE')\n",
    "plt.ylabel('Field Gaol Percentage')\n",
    "plt.title(team+' vs. '+oppTeam+' (1985 - Present)')\n",
    "plt.legend(['Win','Loss'])\n"
   ]
  },
  {
   "cell_type": "markdown",
   "metadata": {},
   "source": [
    "# Logistic Regression"
   ]
  },
  {
   "cell_type": "code",
   "execution_count": 25,
   "metadata": {
    "collapsed": true
   },
   "outputs": [],
   "source": [
    "from sklearn.linear_model import LogisticRegression\n",
    "from sklearn.cross_validation import train_test_split, cross_val_score\n",
    "from sklearn import metrics, cross_validation\n",
    "import time"
   ]
  },
  {
   "cell_type": "code",
   "execution_count": 26,
   "metadata": {
    "collapsed": true
   },
   "outputs": [],
   "source": [
    "def prepare_data(dframe, teamID, oppTeamID):\n",
    "    data_all_teamID = dframe[(dframe['TEAM_ID']==teamID) & (dframe['OPPONENT_ID']==oppTeamID)]\n",
    "    X = data_all_teamID[['WL','FGM','FGA','FG3M','FG3A','FTM','FTA','OREB','DREB','AST','STL','BLK','TOV','PF']].copy()\n",
    "    y = X['WL'].copy()\n",
    "    # set the first column of X to be an intercept column and set its value to 1\n",
    "    X['WL'] = 1 # intercept column\n",
    "    rnd_indx = np.random.permutation(y.index.size)\n",
    "    X = np.array(X.iloc[rnd_indx])\n",
    "    y = np.array(y.iloc[rnd_indx])\n",
    "    return X, y"
   ]
  },
  {
   "cell_type": "code",
   "execution_count": 27,
   "metadata": {
    "collapsed": true
   },
   "outputs": [],
   "source": [
    "# prepare data for logistic regression\n",
    "# X --> feature matrix\n",
    "# y --> binary category (1 or 0)\n",
    "X, y = prepare_data(df, teamID[0], oppTeamID[0])"
   ]
  },
  {
   "cell_type": "code",
   "execution_count": 28,
   "metadata": {
    "collapsed": false
   },
   "outputs": [],
   "source": [
    "# instantiate a Logistic regression model, and fit with X and y\n",
    "lrModel = LogisticRegression()\n",
    "#lrModel = lrModel.fit(X,y)"
   ]
  },
  {
   "cell_type": "code",
   "execution_count": 29,
   "metadata": {
    "collapsed": false
   },
   "outputs": [
    {
     "name": "stdout",
     "output_type": "stream",
     "text": [
      "\n",
      "################# Logistic Regression report ####################\n",
      "\n",
      "Actual classes of the test data   :  [ 1.  0.  1.  1.  1.  1.  1.  0.  0.  0.  0.  1.  0.  1.  1.  0.  1.  0.\n",
      "  0.  1.  1.  0.  1.  1.  0.  1.  1.  0.  0.  1.  1.  0.  0.  0.  1.  1.\n",
      "  1.  1.]\n",
      "\n",
      "Predicted classes of the test data:  [ 0.  0.  1.  1.  0.  1.  0.  0.  0.  0.  0.  1.  1.  1.  1.  0.  1.  0.\n",
      "  0.  1.  0.  0.  1.  1.  0.  1.  1.  0.  1.  1.  0.  0.  0.  0.  1.  1.\n",
      "  1.  0.]\n",
      "\n",
      "Confusion matrix\n",
      "Class labels: 0     1\n",
      "              14    2\n",
      "              6    16\n",
      "\n",
      "Classification report:\n",
      "             precision    recall  f1-score   support\n",
      "\n",
      "        0.0       0.70      0.88      0.78        16\n",
      "        1.0       0.89      0.73      0.80        22\n",
      "\n",
      "avg / total       0.81      0.79      0.79        38\n",
      "\n",
      "\n",
      "10-fold cross-validation accuracy: 0.859 (0.136)\n"
     ]
    }
   ],
   "source": [
    "# check the accuracy on the training set\n",
    "print('')\n",
    "print( '################# Logistic Regression report ####################')\n",
    "\n",
    "# evaluate the model by splitting into training and test sets\n",
    "X_train, X_test, y_train, y_test = train_test_split(X, y, test_size=0.3, random_state=0)\n",
    "lrModel2 = LogisticRegression()\n",
    "lrModel2.fit(X_train, y_train)\n",
    "\n",
    "# predict class labels from the test set\n",
    "predicted = lrModel2.predict(X_test)\n",
    "print('')\n",
    "print( 'Actual classes of the test data   : ', y_test)\n",
    "print( '')\n",
    "print( 'Predicted classes of the test data: ', predicted)\n",
    "print( '')\n",
    "\n",
    "# generate class probabilities\n",
    "probs = lrModel2.predict_proba(X_test)\n",
    "#print probs\n",
    "\n",
    "cm = metrics.confusion_matrix(y_test, predicted)\n",
    "print( 'Confusion matrix')\n",
    "print( 'Class labels: 0     1')\n",
    "print( '             ', cm[0][0], '  ', cm[0][1])\n",
    "print( '             ', cm[1][0], '  ', cm[1][1])\n",
    "\n",
    "print( '')\n",
    "print( 'Classification report:')\n",
    "print( metrics.classification_report(y_test, predicted))\n",
    "print( '')\n",
    "\n",
    "# evaluate the model using 10-fold cross-validation\n",
    "num_folds = 10\n",
    "num_instances = len(X)\n",
    "seed = 7\n",
    "kfold = cross_validation.KFold(n=num_instances, n_folds=num_folds, random_state=seed)\n",
    "scoring = 'accuracy'\n",
    "scores = cross_val_score(LogisticRegression(), X, y, scoring='accuracy', cv=kfold)\n",
    "print('10-fold cross-validation accuracy: %.3f (%.3f)' % (scores.mean(), scores.std()))\n",
    "\n",
    "# predicting the probability of winning\n",
    "#features = np.array([1, 48, 86, 1, 2, 13, 27, 10, 27, 37, 13, 7, 20, 22])\n",
    "#print lrModel.predict_proba(features.reshape(1,-1))"
   ]
  },
  {
   "cell_type": "code",
   "execution_count": 181,
   "metadata": {
    "collapsed": false
   },
   "outputs": [
    {
     "name": "stdout",
     "output_type": "stream",
     "text": [
      "Accuracy: 68.8% (10.3%)\n"
     ]
    }
   ],
   "source": [
    "from sklearn.ensemble import RandomForestClassifier\n",
    "clf = RandomForestClassifier(random_state=14)\n",
    "scores = cross_val_score(clf, X, y, scoring='accuracy')\n",
    "print('Accuracy: {0:.1f}% ({1:.1f}%)'.format(scores.mean()*100, scores.std()*100))"
   ]
  },
  {
   "cell_type": "code",
   "execution_count": 31,
   "metadata": {
    "collapsed": false
   },
   "outputs": [
    {
     "name": "stdout",
     "output_type": "stream",
     "text": [
      "Accuracy: 79.4%\n"
     ]
    }
   ],
   "source": [
    "from sklearn.grid_search import GridSearchCV\n",
    "parameter_space = {\n",
    "    'max_features': [2, 10, 'auto'],\n",
    "    'n_estimators': [100,],\n",
    "    'criterion': ['gini', 'entropy'],\n",
    "    'min_samples_leaf': [2, 4, 6]\n",
    "}\n",
    "clf = RandomForestClassifier(random_state=14)\n",
    "grid = GridSearchCV(clf, parameter_space)\n",
    "grid.fit(X, y)\n",
    "print('Accuracy: {0:.1f}%'.format(grid.best_score_ * 100))"
   ]
  },
  {
   "cell_type": "code",
   "execution_count": 32,
   "metadata": {
    "collapsed": false
   },
   "outputs": [],
   "source": [
    "#df[(df['TEAM_ABBREVIATION']=='ORL') & (df['PTS']==87)]"
   ]
  },
  {
   "cell_type": "markdown",
   "metadata": {
    "collapsed": true
   },
   "source": [
    "## A detailed analysis"
   ]
  },
  {
   "cell_type": "code",
   "execution_count": 48,
   "metadata": {
    "collapsed": true
   },
   "outputs": [],
   "source": [
    "def prepare_data1(dframe, teamID, oppTeamID, test_size):\n",
    "    data_all_teamID = dframe[(dframe['TEAM_ID']==teamID) & (dframe['OPPONENT_ID']==oppTeamID)].sort_values('GAME_DATE')\n",
    "    X = data_all_teamID[['GAME_DATE', 'WL','FGM','FGA','FG3M','FG3A','FTM','FTA','OREB','DREB','AST','STL','BLK','TOV','PF']].copy()\n",
    "    y = X['WL'].copy()\n",
    "    # set the first column of X to be an intercept column and set its value to 1\n",
    "    X['WL'] = 1 # intercept column\n",
    "    #rnd_indx = np.random.permutation(y.index.size)\n",
    "#     X = np.array(X.iloc[rnd_indx])\n",
    "#     y = np.array(y.iloc[rnd_indx])\n",
    "    train_size = round(X.shape[0]*(1-test_size))\n",
    "    #test_size = X.shape[0]-train_size\n",
    "    X_train = np.array(X.iloc[0:train_size])\n",
    "    y_train = np.array(y.iloc[0:train_size])\n",
    "    X_test = np.array(X.iloc[train_size:])\n",
    "    y_test = np.array(y.iloc[train_size:])\n",
    "    return X_train, y_train, X_test, y_test"
   ]
  },
  {
   "cell_type": "code",
   "execution_count": 49,
   "metadata": {
    "collapsed": true
   },
   "outputs": [],
   "source": [
    "team1_id = 1610612747 # Los Angeles Lakers\n",
    "team2_id = 1610612748 # Miami Heat"
   ]
  },
  {
   "cell_type": "code",
   "execution_count": 35,
   "metadata": {
    "collapsed": false
   },
   "outputs": [],
   "source": [
    "X_train, y_train, X_test, y_test = prepare_data1(df, teamID[0], oppTeamID[0], 0.2)\n",
    "#X_train, y_train, X_test, y_test = prepare_data1(df, team1_id, team2_id, 0.2)"
   ]
  },
  {
   "cell_type": "code",
   "execution_count": 36,
   "metadata": {
    "collapsed": false
   },
   "outputs": [
    {
     "name": "stdout",
     "output_type": "stream",
     "text": [
      "\n",
      "Actual classes of the test data   :  [ 0.  1.  1.  1.  0.  1.  1.  0.  1.  1.  0.  1.  1.  1.  0.  1.  1.  1.\n",
      "  0.  1.  0.  1.  0.  1.  0.]\n",
      "\n",
      "Predicted classes of the test data:  [ 0.  1.  1.  1.  0.  1.  1.  1.  1.  1.  0.  1.  1.  1.  0.  1.  1.  1.\n",
      "  0.  0.  0.  1.  1.  1.  0.]\n",
      "\n",
      "Confusion matrix\n",
      "Class labels: 0     1\n",
      "              7    2\n",
      "              1    15\n",
      "\n",
      "Classification report:\n",
      "             precision    recall  f1-score   support\n",
      "\n",
      "        0.0       0.88      0.78      0.82         9\n",
      "        1.0       0.88      0.94      0.91        16\n",
      "\n",
      "avg / total       0.88      0.88      0.88        25\n",
      "\n",
      "\n",
      "Accuracy: 85.0%\n"
     ]
    }
   ],
   "source": [
    "#X1 = df[(df['TEAM_ID']==teamID[0]) & (df['OPPONENT_ID']==oppTeamID[0])]\n",
    "lrModel3 = LogisticRegression()\n",
    "lrModel3.fit(X_train[:,1:], y_train)\n",
    "\n",
    "# predict class labels from the test set\n",
    "predicted = lrModel3.predict(X_test[:,1:])\n",
    "print('')\n",
    "print( 'Actual classes of the test data   : ', y_test)\n",
    "print( '')\n",
    "print( 'Predicted classes of the test data: ', predicted)\n",
    "print( '')\n",
    "\n",
    "# generate class probabilities\n",
    "probs = lrModel2.predict_proba(X_test[:,1:])\n",
    "#print probs\n",
    "\n",
    "cm = metrics.confusion_matrix(y_test, predicted)\n",
    "print( 'Confusion matrix')\n",
    "print( 'Class labels: 0     1')\n",
    "print( '             ', cm[0][0], '  ', cm[0][1])\n",
    "print( '             ', cm[1][0], '  ', cm[1][1])\n",
    "\n",
    "print( '')\n",
    "print( 'Classification report:')\n",
    "print( metrics.classification_report(y_test, predicted))\n",
    "print( '')\n",
    "\n",
    "scores = cross_val_score(lrModel3, X_train[:,1:], y_train, scoring='accuracy')\n",
    "print('Accuracy: {0:.1f}%'.format(np.mean(scores)*100))"
   ]
  },
  {
   "cell_type": "code",
   "execution_count": 37,
   "metadata": {
    "collapsed": true
   },
   "outputs": [],
   "source": [
    "# a = X1.sort_values('GAME_DATE')"
   ]
  },
  {
   "cell_type": "code",
   "execution_count": 39,
   "metadata": {
    "collapsed": false
   },
   "outputs": [
    {
     "data": {
      "text/html": [
       "<div>\n",
       "<table border=\"1\" class=\"dataframe\">\n",
       "  <thead>\n",
       "    <tr style=\"text-align: right;\">\n",
       "      <th></th>\n",
       "      <th>SEASON_ID</th>\n",
       "      <th>TEAM_ID</th>\n",
       "      <th>TEAM_ABBREVIATION</th>\n",
       "      <th>TEAM_NAME</th>\n",
       "      <th>GAME_ID</th>\n",
       "      <th>GAME_DATE</th>\n",
       "      <th>MATCHUP</th>\n",
       "      <th>WL</th>\n",
       "      <th>MIN</th>\n",
       "      <th>FGM</th>\n",
       "      <th>...</th>\n",
       "      <th>REB</th>\n",
       "      <th>AST</th>\n",
       "      <th>STL</th>\n",
       "      <th>BLK</th>\n",
       "      <th>TOV</th>\n",
       "      <th>PF</th>\n",
       "      <th>PTS</th>\n",
       "      <th>PLUS_MINUS</th>\n",
       "      <th>VIDEO_AVAILABLE</th>\n",
       "      <th>OPPONENT_ID</th>\n",
       "    </tr>\n",
       "  </thead>\n",
       "  <tbody>\n",
       "    <tr>\n",
       "      <th>8988.0</th>\n",
       "      <td>21985</td>\n",
       "      <td>1610612741</td>\n",
       "      <td>CHI</td>\n",
       "      <td>Chicago Bulls</td>\n",
       "      <td>0028500288</td>\n",
       "      <td>1985-12-15</td>\n",
       "      <td>CHI vs. BOS</td>\n",
       "      <td>0.0</td>\n",
       "      <td>240</td>\n",
       "      <td>41</td>\n",
       "      <td>...</td>\n",
       "      <td>50</td>\n",
       "      <td>25</td>\n",
       "      <td>5</td>\n",
       "      <td>1</td>\n",
       "      <td>13</td>\n",
       "      <td>25</td>\n",
       "      <td>104</td>\n",
       "      <td>-5</td>\n",
       "      <td>0</td>\n",
       "      <td>1610612738</td>\n",
       "    </tr>\n",
       "    <tr>\n",
       "      <th>9042.0</th>\n",
       "      <td>21985</td>\n",
       "      <td>1610612741</td>\n",
       "      <td>CHI</td>\n",
       "      <td>Chicago Bulls</td>\n",
       "      <td>0028500289</td>\n",
       "      <td>1985-12-17</td>\n",
       "      <td>CHI vs. BOS</td>\n",
       "      <td>1.0</td>\n",
       "      <td>240</td>\n",
       "      <td>47</td>\n",
       "      <td>...</td>\n",
       "      <td>49</td>\n",
       "      <td>27</td>\n",
       "      <td>3</td>\n",
       "      <td>8</td>\n",
       "      <td>8</td>\n",
       "      <td>20</td>\n",
       "      <td>116</td>\n",
       "      <td>8</td>\n",
       "      <td>0</td>\n",
       "      <td>1610612738</td>\n",
       "    </tr>\n",
       "    <tr>\n",
       "      <th>8991.0</th>\n",
       "      <td>21985</td>\n",
       "      <td>1610612741</td>\n",
       "      <td>CHI</td>\n",
       "      <td>Chicago Bulls</td>\n",
       "      <td>0028500525</td>\n",
       "      <td>1986-01-30</td>\n",
       "      <td>CHI vs. BOS</td>\n",
       "      <td>0.0</td>\n",
       "      <td>240</td>\n",
       "      <td>35</td>\n",
       "      <td>...</td>\n",
       "      <td>43</td>\n",
       "      <td>23</td>\n",
       "      <td>12</td>\n",
       "      <td>6</td>\n",
       "      <td>18</td>\n",
       "      <td>28</td>\n",
       "      <td>91</td>\n",
       "      <td>-10</td>\n",
       "      <td>0</td>\n",
       "      <td>1610612738</td>\n",
       "    </tr>\n",
       "    <tr>\n",
       "      <th>8990.0</th>\n",
       "      <td>21985</td>\n",
       "      <td>1610612741</td>\n",
       "      <td>CHI</td>\n",
       "      <td>Chicago Bulls</td>\n",
       "      <td>0028500698</td>\n",
       "      <td>1986-03-04</td>\n",
       "      <td>CHI vs. BOS</td>\n",
       "      <td>0.0</td>\n",
       "      <td>240</td>\n",
       "      <td>41</td>\n",
       "      <td>...</td>\n",
       "      <td>36</td>\n",
       "      <td>25</td>\n",
       "      <td>10</td>\n",
       "      <td>6</td>\n",
       "      <td>19</td>\n",
       "      <td>16</td>\n",
       "      <td>94</td>\n",
       "      <td>-12</td>\n",
       "      <td>0</td>\n",
       "      <td>1610612738</td>\n",
       "    </tr>\n",
       "    <tr>\n",
       "      <th>8989.0</th>\n",
       "      <td>21985</td>\n",
       "      <td>1610612741</td>\n",
       "      <td>CHI</td>\n",
       "      <td>Chicago Bulls</td>\n",
       "      <td>0028500706</td>\n",
       "      <td>1986-03-05</td>\n",
       "      <td>CHI vs. BOS</td>\n",
       "      <td>0.0</td>\n",
       "      <td>240</td>\n",
       "      <td>36</td>\n",
       "      <td>...</td>\n",
       "      <td>36</td>\n",
       "      <td>23</td>\n",
       "      <td>7</td>\n",
       "      <td>2</td>\n",
       "      <td>15</td>\n",
       "      <td>26</td>\n",
       "      <td>97</td>\n",
       "      <td>-11</td>\n",
       "      <td>0</td>\n",
       "      <td>1610612738</td>\n",
       "    </tr>\n",
       "  </tbody>\n",
       "</table>\n",
       "<p>5 rows × 30 columns</p>\n",
       "</div>"
      ],
      "text/plain": [
       "       SEASON_ID     TEAM_ID TEAM_ABBREVIATION      TEAM_NAME     GAME_ID  \\\n",
       "8988.0     21985  1610612741               CHI  Chicago Bulls  0028500288   \n",
       "9042.0     21985  1610612741               CHI  Chicago Bulls  0028500289   \n",
       "8991.0     21985  1610612741               CHI  Chicago Bulls  0028500525   \n",
       "8990.0     21985  1610612741               CHI  Chicago Bulls  0028500698   \n",
       "8989.0     21985  1610612741               CHI  Chicago Bulls  0028500706   \n",
       "\n",
       "         GAME_DATE      MATCHUP   WL  MIN  FGM     ...       REB  AST  STL  \\\n",
       "8988.0  1985-12-15  CHI vs. BOS  0.0  240   41     ...        50   25    5   \n",
       "9042.0  1985-12-17  CHI vs. BOS  1.0  240   47     ...        49   27    3   \n",
       "8991.0  1986-01-30  CHI vs. BOS  0.0  240   35     ...        43   23   12   \n",
       "8990.0  1986-03-04  CHI vs. BOS  0.0  240   41     ...        36   25   10   \n",
       "8989.0  1986-03-05  CHI vs. BOS  0.0  240   36     ...        36   23    7   \n",
       "\n",
       "        BLK  TOV  PF  PTS  PLUS_MINUS  VIDEO_AVAILABLE  OPPONENT_ID  \n",
       "8988.0    1   13  25  104          -5                0   1610612738  \n",
       "9042.0    8    8  20  116           8                0   1610612738  \n",
       "8991.0    6   18  28   91         -10                0   1610612738  \n",
       "8990.0    6   19  16   94         -12                0   1610612738  \n",
       "8989.0    2   15  26   97         -11                0   1610612738  \n",
       "\n",
       "[5 rows x 30 columns]"
      ]
     },
     "execution_count": 39,
     "metadata": {},
     "output_type": "execute_result"
    }
   ],
   "source": [
    "X1 = df[(df['TEAM_ID']==teamID[0]) & (df['OPPONENT_ID']==oppTeamID[0])].sort_values('GAME_DATE')\n",
    "X1.head()"
   ]
  },
  {
   "cell_type": "code",
   "execution_count": 41,
   "metadata": {
    "collapsed": false
   },
   "outputs": [
    {
     "data": {
      "text/html": [
       "<div>\n",
       "<table border=\"1\" class=\"dataframe\">\n",
       "  <thead>\n",
       "    <tr style=\"text-align: right;\">\n",
       "      <th></th>\n",
       "      <th>SEASON_ID</th>\n",
       "      <th>TEAM_ID</th>\n",
       "      <th>TEAM_ABBREVIATION</th>\n",
       "      <th>TEAM_NAME</th>\n",
       "      <th>GAME_ID</th>\n",
       "      <th>GAME_DATE</th>\n",
       "      <th>MATCHUP</th>\n",
       "      <th>WL</th>\n",
       "      <th>MIN</th>\n",
       "      <th>FGM</th>\n",
       "      <th>...</th>\n",
       "      <th>REB</th>\n",
       "      <th>AST</th>\n",
       "      <th>STL</th>\n",
       "      <th>BLK</th>\n",
       "      <th>TOV</th>\n",
       "      <th>PF</th>\n",
       "      <th>PTS</th>\n",
       "      <th>PLUS_MINUS</th>\n",
       "      <th>VIDEO_AVAILABLE</th>\n",
       "      <th>OPPONENT_ID</th>\n",
       "    </tr>\n",
       "  </thead>\n",
       "  <tbody>\n",
       "    <tr>\n",
       "      <th>2899.0</th>\n",
       "      <td>21985</td>\n",
       "      <td>1610612738</td>\n",
       "      <td>BOS</td>\n",
       "      <td>Boston Celtics</td>\n",
       "      <td>0028500288</td>\n",
       "      <td>1985-12-15</td>\n",
       "      <td>BOS vs. CHI</td>\n",
       "      <td>1.0</td>\n",
       "      <td>240</td>\n",
       "      <td>43</td>\n",
       "      <td>...</td>\n",
       "      <td>44</td>\n",
       "      <td>29</td>\n",
       "      <td>8</td>\n",
       "      <td>2</td>\n",
       "      <td>9</td>\n",
       "      <td>19</td>\n",
       "      <td>109</td>\n",
       "      <td>5</td>\n",
       "      <td>0</td>\n",
       "      <td>1610612741</td>\n",
       "    </tr>\n",
       "    <tr>\n",
       "      <th>2827.0</th>\n",
       "      <td>21985</td>\n",
       "      <td>1610612738</td>\n",
       "      <td>BOS</td>\n",
       "      <td>Boston Celtics</td>\n",
       "      <td>0028500289</td>\n",
       "      <td>1985-12-17</td>\n",
       "      <td>BOS vs. CHI</td>\n",
       "      <td>0.0</td>\n",
       "      <td>240</td>\n",
       "      <td>45</td>\n",
       "      <td>...</td>\n",
       "      <td>47</td>\n",
       "      <td>31</td>\n",
       "      <td>6</td>\n",
       "      <td>6</td>\n",
       "      <td>7</td>\n",
       "      <td>18</td>\n",
       "      <td>108</td>\n",
       "      <td>-8</td>\n",
       "      <td>0</td>\n",
       "      <td>1610612741</td>\n",
       "    </tr>\n",
       "    <tr>\n",
       "      <th>2902.0</th>\n",
       "      <td>21985</td>\n",
       "      <td>1610612738</td>\n",
       "      <td>BOS</td>\n",
       "      <td>Boston Celtics</td>\n",
       "      <td>0028500525</td>\n",
       "      <td>1986-01-30</td>\n",
       "      <td>BOS vs. CHI</td>\n",
       "      <td>1.0</td>\n",
       "      <td>240</td>\n",
       "      <td>38</td>\n",
       "      <td>...</td>\n",
       "      <td>45</td>\n",
       "      <td>20</td>\n",
       "      <td>14</td>\n",
       "      <td>4</td>\n",
       "      <td>17</td>\n",
       "      <td>24</td>\n",
       "      <td>101</td>\n",
       "      <td>10</td>\n",
       "      <td>0</td>\n",
       "      <td>1610612741</td>\n",
       "    </tr>\n",
       "    <tr>\n",
       "      <th>2901.0</th>\n",
       "      <td>21985</td>\n",
       "      <td>1610612738</td>\n",
       "      <td>BOS</td>\n",
       "      <td>Boston Celtics</td>\n",
       "      <td>0028500698</td>\n",
       "      <td>1986-03-04</td>\n",
       "      <td>BOS vs. CHI</td>\n",
       "      <td>1.0</td>\n",
       "      <td>240</td>\n",
       "      <td>47</td>\n",
       "      <td>...</td>\n",
       "      <td>47</td>\n",
       "      <td>33</td>\n",
       "      <td>7</td>\n",
       "      <td>8</td>\n",
       "      <td>16</td>\n",
       "      <td>17</td>\n",
       "      <td>106</td>\n",
       "      <td>12</td>\n",
       "      <td>0</td>\n",
       "      <td>1610612741</td>\n",
       "    </tr>\n",
       "    <tr>\n",
       "      <th>2900.0</th>\n",
       "      <td>21985</td>\n",
       "      <td>1610612738</td>\n",
       "      <td>BOS</td>\n",
       "      <td>Boston Celtics</td>\n",
       "      <td>0028500706</td>\n",
       "      <td>1986-03-05</td>\n",
       "      <td>BOS vs. CHI</td>\n",
       "      <td>1.0</td>\n",
       "      <td>240</td>\n",
       "      <td>44</td>\n",
       "      <td>...</td>\n",
       "      <td>42</td>\n",
       "      <td>32</td>\n",
       "      <td>11</td>\n",
       "      <td>8</td>\n",
       "      <td>14</td>\n",
       "      <td>23</td>\n",
       "      <td>108</td>\n",
       "      <td>11</td>\n",
       "      <td>0</td>\n",
       "      <td>1610612741</td>\n",
       "    </tr>\n",
       "  </tbody>\n",
       "</table>\n",
       "<p>5 rows × 30 columns</p>\n",
       "</div>"
      ],
      "text/plain": [
       "       SEASON_ID     TEAM_ID TEAM_ABBREVIATION       TEAM_NAME     GAME_ID  \\\n",
       "2899.0     21985  1610612738               BOS  Boston Celtics  0028500288   \n",
       "2827.0     21985  1610612738               BOS  Boston Celtics  0028500289   \n",
       "2902.0     21985  1610612738               BOS  Boston Celtics  0028500525   \n",
       "2901.0     21985  1610612738               BOS  Boston Celtics  0028500698   \n",
       "2900.0     21985  1610612738               BOS  Boston Celtics  0028500706   \n",
       "\n",
       "         GAME_DATE      MATCHUP   WL  MIN  FGM     ...       REB  AST  STL  \\\n",
       "2899.0  1985-12-15  BOS vs. CHI  1.0  240   43     ...        44   29    8   \n",
       "2827.0  1985-12-17  BOS vs. CHI  0.0  240   45     ...        47   31    6   \n",
       "2902.0  1986-01-30  BOS vs. CHI  1.0  240   38     ...        45   20   14   \n",
       "2901.0  1986-03-04  BOS vs. CHI  1.0  240   47     ...        47   33    7   \n",
       "2900.0  1986-03-05  BOS vs. CHI  1.0  240   44     ...        42   32   11   \n",
       "\n",
       "        BLK  TOV  PF  PTS  PLUS_MINUS  VIDEO_AVAILABLE  OPPONENT_ID  \n",
       "2899.0    2    9  19  109           5                0   1610612741  \n",
       "2827.0    6    7  18  108          -8                0   1610612741  \n",
       "2902.0    4   17  24  101          10                0   1610612741  \n",
       "2901.0    8   16  17  106          12                0   1610612741  \n",
       "2900.0    8   14  23  108          11                0   1610612741  \n",
       "\n",
       "[5 rows x 30 columns]"
      ]
     },
     "execution_count": 41,
     "metadata": {},
     "output_type": "execute_result"
    }
   ],
   "source": [
    "X2 = df[(df['TEAM_ID']==oppTeamID[0]) & (df['OPPONENT_ID']==teamID[0])].sort_values('GAME_DATE')\n",
    "X2.head()"
   ]
  },
  {
   "cell_type": "code",
   "execution_count": 50,
   "metadata": {
    "collapsed": true
   },
   "outputs": [],
   "source": [
    "def prepare_data2(dframe, teamID, oppTeamID, test_size):\n",
    "    data_all_teamID = dframe[(dframe['TEAM_ID']==teamID) & (dframe['OPPONENT_ID']==oppTeamID)].sort_values('GAME_DATE')\n",
    "    X = data_all_teamID[['GAME_DATE','MIN', 'WL','FGM','FGA','FG3M','FG3A','FTM','FTA','OREB','DREB','AST','STL','BLK','TOV','PF']].copy()\n",
    "    y = X['WL'].copy()\n",
    "    # set the first column of X to be an intercept column and set its value to 1\n",
    "    X['MIN'] = 1 # intercept column\n",
    "    #rnd_indx = np.random.permutation(y.index.size)\n",
    "#     X = np.array(X.iloc[rnd_indx])\n",
    "#     y = np.array(y.iloc[rnd_indx])\n",
    "    train_size = round(X.shape[0]*(1-test_size))\n",
    "    #test_size = X.shape[0]-train_size\n",
    "    X_train = np.array(X.iloc[0:train_size-1])\n",
    "    y_train = np.array(y.iloc[1:train_size])\n",
    "    X_test = np.array(X.iloc[train_size-1:X.shape[0]-1])\n",
    "    y_test = np.array(y.iloc[train_size:X.shape[0]])\n",
    "    return X_train, y_train, X_test, y_test"
   ]
  },
  {
   "cell_type": "code",
   "execution_count": 185,
   "metadata": {
    "collapsed": true
   },
   "outputs": [],
   "source": [
    "X2_train, y2_train, X2_test, y2_test = prepare_data2(df, teamID[0], oppTeamID[0], 0.05)"
   ]
  },
  {
   "cell_type": "code",
   "execution_count": 187,
   "metadata": {
    "collapsed": false
   },
   "outputs": [
    {
     "name": "stdout",
     "output_type": "stream",
     "text": [
      "\n",
      "Actual classes of the test data   :  [ 1.  0.  1.  0.  1.  0.]\n",
      "\n",
      "Predicted classes of the test data:  [ 1.  1.  0.  1.  1.  1.]\n",
      "\n",
      "Confusion matrix\n",
      "Class labels: 0     1\n",
      "              0    3\n",
      "              1    2\n",
      "\n",
      "Classification report:\n",
      "             precision    recall  f1-score   support\n",
      "\n",
      "        0.0       0.00      0.00      0.00         3\n",
      "        1.0       0.40      0.67      0.50         3\n",
      "\n",
      "avg / total       0.20      0.33      0.25         6\n",
      "\n",
      "\n",
      "Accuracy: 53.8% (5.8%)\n"
     ]
    }
   ],
   "source": [
    "lrModel4 = LogisticRegression()\n",
    "lrModel4.fit(X2_train[:,1:], y2_train)\n",
    "\n",
    "# predict class labels from the test set\n",
    "predicted2 = lrModel4.predict(X2_test[:,1:])\n",
    "print('')\n",
    "print( 'Actual classes of the test data   : ', y2_test)\n",
    "print( '')\n",
    "print( 'Predicted classes of the test data: ', predicted2)\n",
    "print( '')\n",
    "\n",
    "# generate class probabilities\n",
    "probs2 = lrModel4.predict_proba(X2_test[:,1:])\n",
    "#print probs\n",
    "\n",
    "cm2 = metrics.confusion_matrix(y2_test, predicted2)\n",
    "print( 'Confusion matrix')\n",
    "print( 'Class labels: 0     1')\n",
    "print( '             ', cm2[0][0], '  ', cm2[0][1])\n",
    "print( '             ', cm2[1][0], '  ', cm2[1][1])\n",
    "\n",
    "print( '')\n",
    "print( 'Classification report:')\n",
    "print( metrics.classification_report(y2_test, predicted2))\n",
    "print( '')\n",
    "\n",
    "scores2 = cross_val_score(lrModel4, X2_train[:,1:], y2_train, scoring='accuracy')\n",
    "print('Accuracy: {0:.1f}% ({1:.1f}%)'.format(scores2.mean()*100, scores2.std()*100))"
   ]
  },
  {
   "cell_type": "code",
   "execution_count": 189,
   "metadata": {
    "collapsed": false
   },
   "outputs": [
    {
     "name": "stdout",
     "output_type": "stream",
     "text": [
      "Accuracy: 51.2% (1.8%)\n"
     ]
    }
   ],
   "source": [
    "from sklearn.grid_search import GridSearchCV\n",
    "parameter_space = {\n",
    "    'max_features': [2, 10, 'auto'],\n",
    "    'n_estimators': [50,],\n",
    "    'criterion': ['gini', 'entropy'],\n",
    "    'min_samples_leaf': [8, 10, 12, 14]\n",
    "}\n",
    "clf = RandomForestClassifier(random_state=14)\n",
    "grid = GridSearchCV(clf, parameter_space, cv=8)\n",
    "grid.fit(X2_train[:,1:], y2_train)\n",
    "scores2 = cross_val_score(grid, X2_train[:,1:], y2_train, scoring='accuracy')\n",
    "print('Accuracy: {0:.1f}% ({1:.1f}%)'.format(scores2.mean()*100, scores2.std()*100))\n",
    "#print('Accuracy: {0:.1f}%'.format(grid.best_score_ * 100))"
   ]
  },
  {
   "cell_type": "code",
   "execution_count": 65,
   "metadata": {
    "collapsed": false
   },
   "outputs": [
    {
     "name": "stdout",
     "output_type": "stream",
     "text": [
      "Accuracy: -41.9%\n"
     ]
    }
   ],
   "source": [
    "from sklearn.linear_model import Ridge\n",
    "alp = [0.1, 0,2, 0.3, 0.4, 0.5, 0.6, 0.7, 0.8, 0.9]\n",
    "parameter_space = {'alpha': alp}\n",
    "clf = Ridge()\n",
    "grid = GridSearchCV(clf, parameter_space, cv=10)\n",
    "grid.fit(X2_train[:,1:], y2_train)\n",
    "print('Accuracy: {0:.1f}%'.format(grid.best_score_ * 100))"
   ]
  },
  {
   "cell_type": "code",
   "execution_count": 202,
   "metadata": {
    "collapsed": false
   },
   "outputs": [
    {
     "data": {
      "text/plain": [
       "{1610612737: [['ATL'], ['Atlanta Hawks']],\n",
       " 1610612738: [['BOS'], ['Boston Celtics']],\n",
       " 1610612739: [['CLE'], ['Cleveland Cavaliers']],\n",
       " 1610612740: [['NOH', 'NOK', 'NOP'],\n",
       "  ['New Orleans Hornets',\n",
       "   'New Orleans/Oklahoma City Hornets',\n",
       "   'New Orleans Pelicans']],\n",
       " 1610612741: [['CHI'], ['Chicago Bulls']],\n",
       " 1610612742: [['DAL'], ['Dallas Mavericks']],\n",
       " 1610612743: [['DEN'], ['Denver Nuggets']],\n",
       " 1610612744: [['GOS', 'GSW'], ['Golden State Warriors']],\n",
       " 1610612745: [['HOU'], ['Houston Rockets']],\n",
       " 1610612746: [['LAC'], ['Los Angeles Clippers', 'LA Clippers']],\n",
       " 1610612747: [['LAL'], ['Los Angeles Lakers']],\n",
       " 1610612748: [['MIA'], ['Miami Heat']],\n",
       " 1610612749: [['MIL'], ['Milwaukee Bucks']],\n",
       " 1610612750: [['MIN'], ['Minnesota Timberwolves']],\n",
       " 1610612751: [['NJN', 'BKN'], ['New Jersey Nets', 'Brooklyn Nets']],\n",
       " 1610612752: [['NYK'], ['New York Knicks']],\n",
       " 1610612753: [['ORL'], ['Orlando Magic']],\n",
       " 1610612754: [['IND'], ['Indiana Pacers']],\n",
       " 1610612755: [['PHL', 'PHI'], ['Philadelphia 76ers']],\n",
       " 1610612756: [['PHX'], ['Phoenix Suns']],\n",
       " 1610612757: [['POR'], ['Portland Trail Blazers']],\n",
       " 1610612758: [['SAC'], ['Sacramento Kings']],\n",
       " 1610612759: [['SAN', 'SAS'], ['San Antonio Spurs']],\n",
       " 1610612760: [['SEA', 'OKC'],\n",
       "  ['Seattle SuperSonics', 'Oklahoma City Thunder']],\n",
       " 1610612761: [['TOR'], ['Toronto Raptors']],\n",
       " 1610612762: [['UTH', 'UTA'], ['Utah Jazz']],\n",
       " 1610612763: [['VAN', 'MEM'], ['Vancouver Grizzlies', 'Memphis Grizzlies']],\n",
       " 1610612764: [['WAS'], ['Washington Bullets', 'Washington Wizards']],\n",
       " 1610612765: [['DET'], ['Detroit Pistons']],\n",
       " 1610612766: [['CHH', 'CHA'], ['Charlotte Hornets', 'Charlotte Bobcats']]}"
      ]
     },
     "execution_count": 202,
     "metadata": {},
     "output_type": "execute_result"
    }
   ],
   "source": [
    "tm_id_abv_nm\n",
    "# for item in tm_id_abv_nm.keys():\n",
    "#     print(item)"
   ]
  },
  {
   "cell_type": "code",
   "execution_count": 213,
   "metadata": {
    "collapsed": false
   },
   "outputs": [
    {
     "name": "stderr",
     "output_type": "stream",
     "text": [
      "/home/vijay/anaconda3/lib/python3.5/site-packages/sklearn/cross_validation.py:516: Warning: The least populated class in y has only 9 members, which is too few. The minimum number of labels for any class cannot be less than n_folds=10.\n",
      "  % (min_labels, self.n_folds)), Warning)\n",
      "/home/vijay/anaconda3/lib/python3.5/site-packages/sklearn/cross_validation.py:516: Warning: The least populated class in y has only 9 members, which is too few. The minimum number of labels for any class cannot be less than n_folds=10.\n",
      "  % (min_labels, self.n_folds)), Warning)\n",
      "/home/vijay/anaconda3/lib/python3.5/site-packages/sklearn/cross_validation.py:516: Warning: The least populated class in y has only 9 members, which is too few. The minimum number of labels for any class cannot be less than n_folds=10.\n",
      "  % (min_labels, self.n_folds)), Warning)\n",
      "/home/vijay/anaconda3/lib/python3.5/site-packages/sklearn/cross_validation.py:516: Warning: The least populated class in y has only 9 members, which is too few. The minimum number of labels for any class cannot be less than n_folds=10.\n",
      "  % (min_labels, self.n_folds)), Warning)\n",
      "/home/vijay/anaconda3/lib/python3.5/site-packages/sklearn/cross_validation.py:516: Warning: The least populated class in y has only 8 members, which is too few. The minimum number of labels for any class cannot be less than n_folds=10.\n",
      "  % (min_labels, self.n_folds)), Warning)\n",
      "/home/vijay/anaconda3/lib/python3.5/site-packages/sklearn/cross_validation.py:516: Warning: The least populated class in y has only 8 members, which is too few. The minimum number of labels for any class cannot be less than n_folds=10.\n",
      "  % (min_labels, self.n_folds)), Warning)\n",
      "/home/vijay/anaconda3/lib/python3.5/site-packages/sklearn/cross_validation.py:516: Warning: The least populated class in y has only 8 members, which is too few. The minimum number of labels for any class cannot be less than n_folds=10.\n",
      "  % (min_labels, self.n_folds)), Warning)\n",
      "/home/vijay/anaconda3/lib/python3.5/site-packages/sklearn/cross_validation.py:516: Warning: The least populated class in y has only 6 members, which is too few. The minimum number of labels for any class cannot be less than n_folds=10.\n",
      "  % (min_labels, self.n_folds)), Warning)\n",
      "/home/vijay/anaconda3/lib/python3.5/site-packages/sklearn/cross_validation.py:516: Warning: The least populated class in y has only 6 members, which is too few. The minimum number of labels for any class cannot be less than n_folds=10.\n",
      "  % (min_labels, self.n_folds)), Warning)\n",
      "/home/vijay/anaconda3/lib/python3.5/site-packages/sklearn/cross_validation.py:516: Warning: The least populated class in y has only 6 members, which is too few. The minimum number of labels for any class cannot be less than n_folds=10.\n",
      "  % (min_labels, self.n_folds)), Warning)\n",
      "/home/vijay/anaconda3/lib/python3.5/site-packages/sklearn/cross_validation.py:516: Warning: The least populated class in y has only 9 members, which is too few. The minimum number of labels for any class cannot be less than n_folds=10.\n",
      "  % (min_labels, self.n_folds)), Warning)\n",
      "/home/vijay/anaconda3/lib/python3.5/site-packages/sklearn/cross_validation.py:516: Warning: The least populated class in y has only 9 members, which is too few. The minimum number of labels for any class cannot be less than n_folds=10.\n",
      "  % (min_labels, self.n_folds)), Warning)\n",
      "/home/vijay/anaconda3/lib/python3.5/site-packages/sklearn/cross_validation.py:516: Warning: The least populated class in y has only 8 members, which is too few. The minimum number of labels for any class cannot be less than n_folds=10.\n",
      "  % (min_labels, self.n_folds)), Warning)\n",
      "/home/vijay/anaconda3/lib/python3.5/site-packages/sklearn/cross_validation.py:516: Warning: The least populated class in y has only 8 members, which is too few. The minimum number of labels for any class cannot be less than n_folds=10.\n",
      "  % (min_labels, self.n_folds)), Warning)\n",
      "/home/vijay/anaconda3/lib/python3.5/site-packages/sklearn/cross_validation.py:516: Warning: The least populated class in y has only 8 members, which is too few. The minimum number of labels for any class cannot be less than n_folds=10.\n",
      "  % (min_labels, self.n_folds)), Warning)\n",
      "/home/vijay/anaconda3/lib/python3.5/site-packages/sklearn/cross_validation.py:516: Warning: The least populated class in y has only 9 members, which is too few. The minimum number of labels for any class cannot be less than n_folds=10.\n",
      "  % (min_labels, self.n_folds)), Warning)\n",
      "/home/vijay/anaconda3/lib/python3.5/site-packages/sklearn/cross_validation.py:516: Warning: The least populated class in y has only 9 members, which is too few. The minimum number of labels for any class cannot be less than n_folds=10.\n",
      "  % (min_labels, self.n_folds)), Warning)\n",
      "/home/vijay/anaconda3/lib/python3.5/site-packages/sklearn/cross_validation.py:516: Warning: The least populated class in y has only 8 members, which is too few. The minimum number of labels for any class cannot be less than n_folds=10.\n",
      "  % (min_labels, self.n_folds)), Warning)\n",
      "/home/vijay/anaconda3/lib/python3.5/site-packages/sklearn/cross_validation.py:516: Warning: The least populated class in y has only 8 members, which is too few. The minimum number of labels for any class cannot be less than n_folds=10.\n",
      "  % (min_labels, self.n_folds)), Warning)\n",
      "/home/vijay/anaconda3/lib/python3.5/site-packages/sklearn/cross_validation.py:516: Warning: The least populated class in y has only 8 members, which is too few. The minimum number of labels for any class cannot be less than n_folds=10.\n",
      "  % (min_labels, self.n_folds)), Warning)\n",
      "/home/vijay/anaconda3/lib/python3.5/site-packages/sklearn/cross_validation.py:516: Warning: The least populated class in y has only 8 members, which is too few. The minimum number of labels for any class cannot be less than n_folds=10.\n",
      "  % (min_labels, self.n_folds)), Warning)\n",
      "/home/vijay/anaconda3/lib/python3.5/site-packages/sklearn/cross_validation.py:516: Warning: The least populated class in y has only 9 members, which is too few. The minimum number of labels for any class cannot be less than n_folds=10.\n",
      "  % (min_labels, self.n_folds)), Warning)\n",
      "/home/vijay/anaconda3/lib/python3.5/site-packages/sklearn/cross_validation.py:516: Warning: The least populated class in y has only 9 members, which is too few. The minimum number of labels for any class cannot be less than n_folds=10.\n",
      "  % (min_labels, self.n_folds)), Warning)\n",
      "/home/vijay/anaconda3/lib/python3.5/site-packages/sklearn/cross_validation.py:516: Warning: The least populated class in y has only 8 members, which is too few. The minimum number of labels for any class cannot be less than n_folds=10.\n",
      "  % (min_labels, self.n_folds)), Warning)\n",
      "/home/vijay/anaconda3/lib/python3.5/site-packages/sklearn/cross_validation.py:516: Warning: The least populated class in y has only 9 members, which is too few. The minimum number of labels for any class cannot be less than n_folds=10.\n",
      "  % (min_labels, self.n_folds)), Warning)\n",
      "/home/vijay/anaconda3/lib/python3.5/site-packages/sklearn/cross_validation.py:516: Warning: The least populated class in y has only 9 members, which is too few. The minimum number of labels for any class cannot be less than n_folds=10.\n",
      "  % (min_labels, self.n_folds)), Warning)\n",
      "/home/vijay/anaconda3/lib/python3.5/site-packages/sklearn/cross_validation.py:516: Warning: The least populated class in y has only 4 members, which is too few. The minimum number of labels for any class cannot be less than n_folds=10.\n",
      "  % (min_labels, self.n_folds)), Warning)\n",
      "/home/vijay/anaconda3/lib/python3.5/site-packages/sklearn/cross_validation.py:516: Warning: The least populated class in y has only 5 members, which is too few. The minimum number of labels for any class cannot be less than n_folds=10.\n",
      "  % (min_labels, self.n_folds)), Warning)\n",
      "/home/vijay/anaconda3/lib/python3.5/site-packages/sklearn/cross_validation.py:516: Warning: The least populated class in y has only 5 members, which is too few. The minimum number of labels for any class cannot be less than n_folds=10.\n",
      "  % (min_labels, self.n_folds)), Warning)\n",
      "/home/vijay/anaconda3/lib/python3.5/site-packages/sklearn/cross_validation.py:516: Warning: The least populated class in y has only 8 members, which is too few. The minimum number of labels for any class cannot be less than n_folds=10.\n",
      "  % (min_labels, self.n_folds)), Warning)\n",
      "/home/vijay/anaconda3/lib/python3.5/site-packages/sklearn/cross_validation.py:516: Warning: The least populated class in y has only 8 members, which is too few. The minimum number of labels for any class cannot be less than n_folds=10.\n",
      "  % (min_labels, self.n_folds)), Warning)\n",
      "/home/vijay/anaconda3/lib/python3.5/site-packages/sklearn/cross_validation.py:516: Warning: The least populated class in y has only 8 members, which is too few. The minimum number of labels for any class cannot be less than n_folds=10.\n",
      "  % (min_labels, self.n_folds)), Warning)\n",
      "/home/vijay/anaconda3/lib/python3.5/site-packages/sklearn/cross_validation.py:516: Warning: The least populated class in y has only 9 members, which is too few. The minimum number of labels for any class cannot be less than n_folds=10.\n",
      "  % (min_labels, self.n_folds)), Warning)\n",
      "/home/vijay/anaconda3/lib/python3.5/site-packages/sklearn/cross_validation.py:516: Warning: The least populated class in y has only 9 members, which is too few. The minimum number of labels for any class cannot be less than n_folds=10.\n",
      "  % (min_labels, self.n_folds)), Warning)\n",
      "/home/vijay/anaconda3/lib/python3.5/site-packages/sklearn/cross_validation.py:516: Warning: The least populated class in y has only 9 members, which is too few. The minimum number of labels for any class cannot be less than n_folds=10.\n",
      "  % (min_labels, self.n_folds)), Warning)\n",
      "/home/vijay/anaconda3/lib/python3.5/site-packages/sklearn/cross_validation.py:516: Warning: The least populated class in y has only 9 members, which is too few. The minimum number of labels for any class cannot be less than n_folds=10.\n",
      "  % (min_labels, self.n_folds)), Warning)\n",
      "/home/vijay/anaconda3/lib/python3.5/site-packages/sklearn/cross_validation.py:516: Warning: The least populated class in y has only 8 members, which is too few. The minimum number of labels for any class cannot be less than n_folds=10.\n",
      "  % (min_labels, self.n_folds)), Warning)\n",
      "/home/vijay/anaconda3/lib/python3.5/site-packages/sklearn/cross_validation.py:516: Warning: The least populated class in y has only 9 members, which is too few. The minimum number of labels for any class cannot be less than n_folds=10.\n",
      "  % (min_labels, self.n_folds)), Warning)\n",
      "/home/vijay/anaconda3/lib/python3.5/site-packages/sklearn/cross_validation.py:516: Warning: The least populated class in y has only 9 members, which is too few. The minimum number of labels for any class cannot be less than n_folds=10.\n",
      "  % (min_labels, self.n_folds)), Warning)\n",
      "/home/vijay/anaconda3/lib/python3.5/site-packages/sklearn/cross_validation.py:516: Warning: The least populated class in y has only 6 members, which is too few. The minimum number of labels for any class cannot be less than n_folds=10.\n",
      "  % (min_labels, self.n_folds)), Warning)\n",
      "/home/vijay/anaconda3/lib/python3.5/site-packages/sklearn/cross_validation.py:516: Warning: The least populated class in y has only 6 members, which is too few. The minimum number of labels for any class cannot be less than n_folds=10.\n",
      "  % (min_labels, self.n_folds)), Warning)\n",
      "/home/vijay/anaconda3/lib/python3.5/site-packages/sklearn/cross_validation.py:516: Warning: The least populated class in y has only 6 members, which is too few. The minimum number of labels for any class cannot be less than n_folds=10.\n",
      "  % (min_labels, self.n_folds)), Warning)\n",
      "/home/vijay/anaconda3/lib/python3.5/site-packages/sklearn/cross_validation.py:516: Warning: The least populated class in y has only 9 members, which is too few. The minimum number of labels for any class cannot be less than n_folds=10.\n",
      "  % (min_labels, self.n_folds)), Warning)\n",
      "/home/vijay/anaconda3/lib/python3.5/site-packages/sklearn/cross_validation.py:516: Warning: The least populated class in y has only 9 members, which is too few. The minimum number of labels for any class cannot be less than n_folds=10.\n",
      "  % (min_labels, self.n_folds)), Warning)\n",
      "/home/vijay/anaconda3/lib/python3.5/site-packages/sklearn/cross_validation.py:516: Warning: The least populated class in y has only 9 members, which is too few. The minimum number of labels for any class cannot be less than n_folds=10.\n",
      "  % (min_labels, self.n_folds)), Warning)\n",
      "/home/vijay/anaconda3/lib/python3.5/site-packages/sklearn/cross_validation.py:516: Warning: The least populated class in y has only 9 members, which is too few. The minimum number of labels for any class cannot be less than n_folds=10.\n",
      "  % (min_labels, self.n_folds)), Warning)\n",
      "/home/vijay/anaconda3/lib/python3.5/site-packages/sklearn/cross_validation.py:516: Warning: The least populated class in y has only 8 members, which is too few. The minimum number of labels for any class cannot be less than n_folds=10.\n",
      "  % (min_labels, self.n_folds)), Warning)\n",
      "/home/vijay/anaconda3/lib/python3.5/site-packages/sklearn/cross_validation.py:516: Warning: The least populated class in y has only 8 members, which is too few. The minimum number of labels for any class cannot be less than n_folds=10.\n",
      "  % (min_labels, self.n_folds)), Warning)\n",
      "/home/vijay/anaconda3/lib/python3.5/site-packages/sklearn/cross_validation.py:516: Warning: The least populated class in y has only 8 members, which is too few. The minimum number of labels for any class cannot be less than n_folds=10.\n",
      "  % (min_labels, self.n_folds)), Warning)\n",
      "/home/vijay/anaconda3/lib/python3.5/site-packages/sklearn/cross_validation.py:516: Warning: The least populated class in y has only 8 members, which is too few. The minimum number of labels for any class cannot be less than n_folds=10.\n",
      "  % (min_labels, self.n_folds)), Warning)\n",
      "/home/vijay/anaconda3/lib/python3.5/site-packages/sklearn/cross_validation.py:516: Warning: The least populated class in y has only 8 members, which is too few. The minimum number of labels for any class cannot be less than n_folds=10.\n",
      "  % (min_labels, self.n_folds)), Warning)\n",
      "/home/vijay/anaconda3/lib/python3.5/site-packages/sklearn/cross_validation.py:516: Warning: The least populated class in y has only 8 members, which is too few. The minimum number of labels for any class cannot be less than n_folds=10.\n",
      "  % (min_labels, self.n_folds)), Warning)\n",
      "/home/vijay/anaconda3/lib/python3.5/site-packages/sklearn/cross_validation.py:516: Warning: The least populated class in y has only 9 members, which is too few. The minimum number of labels for any class cannot be less than n_folds=10.\n",
      "  % (min_labels, self.n_folds)), Warning)\n",
      "/home/vijay/anaconda3/lib/python3.5/site-packages/sklearn/cross_validation.py:516: Warning: The least populated class in y has only 9 members, which is too few. The minimum number of labels for any class cannot be less than n_folds=10.\n",
      "  % (min_labels, self.n_folds)), Warning)\n",
      "/home/vijay/anaconda3/lib/python3.5/site-packages/sklearn/cross_validation.py:516: Warning: The least populated class in y has only 9 members, which is too few. The minimum number of labels for any class cannot be less than n_folds=10.\n",
      "  % (min_labels, self.n_folds)), Warning)\n",
      "/home/vijay/anaconda3/lib/python3.5/site-packages/sklearn/cross_validation.py:516: Warning: The least populated class in y has only 9 members, which is too few. The minimum number of labels for any class cannot be less than n_folds=10.\n",
      "  % (min_labels, self.n_folds)), Warning)\n",
      "/home/vijay/anaconda3/lib/python3.5/site-packages/sklearn/cross_validation.py:516: Warning: The least populated class in y has only 7 members, which is too few. The minimum number of labels for any class cannot be less than n_folds=10.\n",
      "  % (min_labels, self.n_folds)), Warning)\n",
      "/home/vijay/anaconda3/lib/python3.5/site-packages/sklearn/cross_validation.py:516: Warning: The least populated class in y has only 7 members, which is too few. The minimum number of labels for any class cannot be less than n_folds=10.\n",
      "  % (min_labels, self.n_folds)), Warning)\n",
      "/home/vijay/anaconda3/lib/python3.5/site-packages/sklearn/cross_validation.py:516: Warning: The least populated class in y has only 8 members, which is too few. The minimum number of labels for any class cannot be less than n_folds=10.\n",
      "  % (min_labels, self.n_folds)), Warning)\n",
      "/home/vijay/anaconda3/lib/python3.5/site-packages/sklearn/cross_validation.py:516: Warning: The least populated class in y has only 8 members, which is too few. The minimum number of labels for any class cannot be less than n_folds=10.\n",
      "  % (min_labels, self.n_folds)), Warning)\n",
      "/home/vijay/anaconda3/lib/python3.5/site-packages/sklearn/cross_validation.py:516: Warning: The least populated class in y has only 9 members, which is too few. The minimum number of labels for any class cannot be less than n_folds=10.\n",
      "  % (min_labels, self.n_folds)), Warning)\n",
      "/home/vijay/anaconda3/lib/python3.5/site-packages/sklearn/cross_validation.py:516: Warning: The least populated class in y has only 9 members, which is too few. The minimum number of labels for any class cannot be less than n_folds=10.\n",
      "  % (min_labels, self.n_folds)), Warning)\n",
      "/home/vijay/anaconda3/lib/python3.5/site-packages/sklearn/cross_validation.py:516: Warning: The least populated class in y has only 8 members, which is too few. The minimum number of labels for any class cannot be less than n_folds=10.\n",
      "  % (min_labels, self.n_folds)), Warning)\n",
      "/home/vijay/anaconda3/lib/python3.5/site-packages/sklearn/cross_validation.py:516: Warning: The least populated class in y has only 8 members, which is too few. The minimum number of labels for any class cannot be less than n_folds=10.\n",
      "  % (min_labels, self.n_folds)), Warning)\n",
      "/home/vijay/anaconda3/lib/python3.5/site-packages/sklearn/cross_validation.py:516: Warning: The least populated class in y has only 8 members, which is too few. The minimum number of labels for any class cannot be less than n_folds=10.\n",
      "  % (min_labels, self.n_folds)), Warning)\n",
      "/home/vijay/anaconda3/lib/python3.5/site-packages/sklearn/cross_validation.py:516: Warning: The least populated class in y has only 9 members, which is too few. The minimum number of labels for any class cannot be less than n_folds=10.\n",
      "  % (min_labels, self.n_folds)), Warning)\n",
      "/home/vijay/anaconda3/lib/python3.5/site-packages/sklearn/cross_validation.py:516: Warning: The least populated class in y has only 9 members, which is too few. The minimum number of labels for any class cannot be less than n_folds=10.\n",
      "  % (min_labels, self.n_folds)), Warning)\n",
      "/home/vijay/anaconda3/lib/python3.5/site-packages/sklearn/cross_validation.py:516: Warning: The least populated class in y has only 8 members, which is too few. The minimum number of labels for any class cannot be less than n_folds=10.\n",
      "  % (min_labels, self.n_folds)), Warning)\n",
      "/home/vijay/anaconda3/lib/python3.5/site-packages/sklearn/cross_validation.py:516: Warning: The least populated class in y has only 9 members, which is too few. The minimum number of labels for any class cannot be less than n_folds=10.\n",
      "  % (min_labels, self.n_folds)), Warning)\n",
      "/home/vijay/anaconda3/lib/python3.5/site-packages/sklearn/cross_validation.py:516: Warning: The least populated class in y has only 9 members, which is too few. The minimum number of labels for any class cannot be less than n_folds=10.\n",
      "  % (min_labels, self.n_folds)), Warning)\n",
      "/home/vijay/anaconda3/lib/python3.5/site-packages/sklearn/cross_validation.py:516: Warning: The least populated class in y has only 9 members, which is too few. The minimum number of labels for any class cannot be less than n_folds=10.\n",
      "  % (min_labels, self.n_folds)), Warning)\n",
      "/home/vijay/anaconda3/lib/python3.5/site-packages/sklearn/cross_validation.py:516: Warning: The least populated class in y has only 9 members, which is too few. The minimum number of labels for any class cannot be less than n_folds=10.\n",
      "  % (min_labels, self.n_folds)), Warning)\n",
      "/home/vijay/anaconda3/lib/python3.5/site-packages/sklearn/cross_validation.py:516: Warning: The least populated class in y has only 8 members, which is too few. The minimum number of labels for any class cannot be less than n_folds=10.\n",
      "  % (min_labels, self.n_folds)), Warning)\n",
      "/home/vijay/anaconda3/lib/python3.5/site-packages/sklearn/cross_validation.py:516: Warning: The least populated class in y has only 8 members, which is too few. The minimum number of labels for any class cannot be less than n_folds=10.\n",
      "  % (min_labels, self.n_folds)), Warning)\n",
      "/home/vijay/anaconda3/lib/python3.5/site-packages/sklearn/cross_validation.py:516: Warning: The least populated class in y has only 8 members, which is too few. The minimum number of labels for any class cannot be less than n_folds=10.\n",
      "  % (min_labels, self.n_folds)), Warning)\n",
      "/home/vijay/anaconda3/lib/python3.5/site-packages/sklearn/cross_validation.py:516: Warning: The least populated class in y has only 9 members, which is too few. The minimum number of labels for any class cannot be less than n_folds=10.\n",
      "  % (min_labels, self.n_folds)), Warning)\n",
      "/home/vijay/anaconda3/lib/python3.5/site-packages/sklearn/cross_validation.py:516: Warning: The least populated class in y has only 9 members, which is too few. The minimum number of labels for any class cannot be less than n_folds=10.\n",
      "  % (min_labels, self.n_folds)), Warning)\n",
      "/home/vijay/anaconda3/lib/python3.5/site-packages/sklearn/cross_validation.py:516: Warning: The least populated class in y has only 7 members, which is too few. The minimum number of labels for any class cannot be less than n_folds=10.\n",
      "  % (min_labels, self.n_folds)), Warning)\n",
      "/home/vijay/anaconda3/lib/python3.5/site-packages/sklearn/cross_validation.py:516: Warning: The least populated class in y has only 7 members, which is too few. The minimum number of labels for any class cannot be less than n_folds=10.\n",
      "  % (min_labels, self.n_folds)), Warning)\n",
      "/home/vijay/anaconda3/lib/python3.5/site-packages/sklearn/cross_validation.py:516: Warning: The least populated class in y has only 8 members, which is too few. The minimum number of labels for any class cannot be less than n_folds=10.\n",
      "  % (min_labels, self.n_folds)), Warning)\n",
      "/home/vijay/anaconda3/lib/python3.5/site-packages/sklearn/cross_validation.py:516: Warning: The least populated class in y has only 8 members, which is too few. The minimum number of labels for any class cannot be less than n_folds=10.\n",
      "  % (min_labels, self.n_folds)), Warning)\n",
      "/home/vijay/anaconda3/lib/python3.5/site-packages/sklearn/cross_validation.py:516: Warning: The least populated class in y has only 9 members, which is too few. The minimum number of labels for any class cannot be less than n_folds=10.\n",
      "  % (min_labels, self.n_folds)), Warning)\n",
      "/home/vijay/anaconda3/lib/python3.5/site-packages/sklearn/cross_validation.py:516: Warning: The least populated class in y has only 9 members, which is too few. The minimum number of labels for any class cannot be less than n_folds=10.\n",
      "  % (min_labels, self.n_folds)), Warning)\n",
      "/home/vijay/anaconda3/lib/python3.5/site-packages/sklearn/cross_validation.py:516: Warning: The least populated class in y has only 8 members, which is too few. The minimum number of labels for any class cannot be less than n_folds=10.\n",
      "  % (min_labels, self.n_folds)), Warning)\n",
      "/home/vijay/anaconda3/lib/python3.5/site-packages/sklearn/cross_validation.py:516: Warning: The least populated class in y has only 9 members, which is too few. The minimum number of labels for any class cannot be less than n_folds=10.\n",
      "  % (min_labels, self.n_folds)), Warning)\n",
      "/home/vijay/anaconda3/lib/python3.5/site-packages/sklearn/cross_validation.py:516: Warning: The least populated class in y has only 9 members, which is too few. The minimum number of labels for any class cannot be less than n_folds=10.\n",
      "  % (min_labels, self.n_folds)), Warning)\n",
      "/home/vijay/anaconda3/lib/python3.5/site-packages/sklearn/cross_validation.py:516: Warning: The least populated class in y has only 4 members, which is too few. The minimum number of labels for any class cannot be less than n_folds=10.\n",
      "  % (min_labels, self.n_folds)), Warning)\n",
      "/home/vijay/anaconda3/lib/python3.5/site-packages/sklearn/cross_validation.py:516: Warning: The least populated class in y has only 5 members, which is too few. The minimum number of labels for any class cannot be less than n_folds=10.\n",
      "  % (min_labels, self.n_folds)), Warning)\n",
      "/home/vijay/anaconda3/lib/python3.5/site-packages/sklearn/cross_validation.py:516: Warning: The least populated class in y has only 5 members, which is too few. The minimum number of labels for any class cannot be less than n_folds=10.\n",
      "  % (min_labels, self.n_folds)), Warning)\n",
      "/home/vijay/anaconda3/lib/python3.5/site-packages/sklearn/cross_validation.py:516: Warning: The least populated class in y has only 9 members, which is too few. The minimum number of labels for any class cannot be less than n_folds=10.\n",
      "  % (min_labels, self.n_folds)), Warning)\n",
      "/home/vijay/anaconda3/lib/python3.5/site-packages/sklearn/cross_validation.py:516: Warning: The least populated class in y has only 9 members, which is too few. The minimum number of labels for any class cannot be less than n_folds=10.\n",
      "  % (min_labels, self.n_folds)), Warning)\n",
      "/home/vijay/anaconda3/lib/python3.5/site-packages/sklearn/cross_validation.py:516: Warning: The least populated class in y has only 9 members, which is too few. The minimum number of labels for any class cannot be less than n_folds=10.\n",
      "  % (min_labels, self.n_folds)), Warning)\n",
      "/home/vijay/anaconda3/lib/python3.5/site-packages/sklearn/cross_validation.py:516: Warning: The least populated class in y has only 9 members, which is too few. The minimum number of labels for any class cannot be less than n_folds=10.\n",
      "  % (min_labels, self.n_folds)), Warning)\n"
     ]
    }
   ],
   "source": [
    "# param_grid = {'C': [0.001, 0.01, 0.1, 1, 10, 100, 1000] }\n",
    "# clf = GridSearchCV(LogisticRegression(penalty='l2'), param_grid)\n",
    "# GridSearchCV(cv=None,\n",
    "#        estimator=LogisticRegression(C=1.0, intercept_scaling=1, dual=False, fit_intercept=True,\n",
    "#           penalty='l2', tol=0.0001),\n",
    "#        param_grid={'C': [0.001, 0.01, 0.1, 1, 10, 100, 1000]})\n",
    "\n",
    "# {‘newton-cg’, ‘lbfgs’, ‘liblinear’, ‘sag’}\n",
    "\n",
    "team1 = 1610612737\n",
    "with open('test.csv', 'a') as output:\n",
    "    for k1, v1 in tm_id_abv_nm.items():\n",
    "        for key, value in tm_id_abv_nm.items():\n",
    "            if key != k1:\n",
    "                X2_train, y2_train, X2_test, y2_test = prepare_data2(df, k1, key, 0.0)\n",
    "                #print(X2_train.shape)\n",
    "                tuned_parameters = {'C': [0.00001, 0.0001, 0.001, 0.01, 0.1, 0.5, 1, 5, 10, 50, 100, 1000]}\n",
    "                clf = LogisticRegression(solver='liblinear', intercept_scaling=1, dual=False, fit_intercept=True, penalty='l2', tol=0.0001, random_state=14)\n",
    "                grid = GridSearchCV(clf, tuned_parameters, cv=10, scoring=\"accuracy\")\n",
    "                #grid.fit(X2_train[:,1:], y2_train)\n",
    "                scores2 = cross_val_score(grid, X2_train[:,1:], y2_train, scoring='accuracy')\n",
    "                #print('Accuracy: {0:.1f}% ({1:.1f}%)'.format(scores2.mean()*100, scores2.std()*100))\n",
    "                #print('{0}, {1}, {2:.2f}, {3:.2f}'.format(v1[0][0], value[0][0], scores2.mean(), scores2.std()))\n",
    "                #print('Accuracy: {0:.1f}%'.format(grid.best_score_ * 100))\n",
    "                output.write(','.join([v1[0][0], value[0][0], str(scores2.mean()), str(scores2.std())+'\\n']))"
   ]
  },
  {
   "cell_type": "code",
   "execution_count": 97,
   "metadata": {
    "collapsed": false
   },
   "outputs": [
    {
     "data": {
      "text/plain": [
       "(32, 16)"
      ]
     },
     "execution_count": 97,
     "metadata": {},
     "output_type": "execute_result"
    }
   ],
   "source": [
    "X2_train.shape"
   ]
  },
  {
   "cell_type": "code",
   "execution_count": 165,
   "metadata": {
    "collapsed": false,
    "scrolled": true
   },
   "outputs": [
    {
     "ename": "ImportError",
     "evalue": "cannot import name 'MLPClassifier'",
     "output_type": "error",
     "traceback": [
      "\u001b[0;31m---------------------------------------------------------------------------\u001b[0m",
      "\u001b[0;31mImportError\u001b[0m                               Traceback (most recent call last)",
      "\u001b[0;32m<ipython-input-165-bd0ca610001b>\u001b[0m in \u001b[0;36m<module>\u001b[0;34m()\u001b[0m\n\u001b[0;32m----> 1\u001b[0;31m \u001b[0;32mfrom\u001b[0m \u001b[0msklearn\u001b[0m\u001b[0;34m.\u001b[0m\u001b[0mneural_network\u001b[0m \u001b[0;32mimport\u001b[0m \u001b[0mMLPClassifier\u001b[0m\u001b[0;34m\u001b[0m\u001b[0m\n\u001b[0m\u001b[1;32m      2\u001b[0m \u001b[0mX2_train\u001b[0m\u001b[0;34m,\u001b[0m \u001b[0my2_train\u001b[0m\u001b[0;34m,\u001b[0m \u001b[0mX2_test\u001b[0m\u001b[0;34m,\u001b[0m \u001b[0my2_test\u001b[0m \u001b[0;34m=\u001b[0m \u001b[0mprepare_data2\u001b[0m\u001b[0;34m(\u001b[0m\u001b[0mdf\u001b[0m\u001b[0;34m,\u001b[0m \u001b[0;36m1610612737\u001b[0m\u001b[0;34m,\u001b[0m \u001b[0;36m1610612745\u001b[0m\u001b[0;34m,\u001b[0m \u001b[0;36m0.3\u001b[0m\u001b[0;34m)\u001b[0m\u001b[0;34m\u001b[0m\u001b[0m\n\u001b[1;32m      3\u001b[0m \u001b[0mprint\u001b[0m\u001b[0;34m(\u001b[0m\u001b[0mX2_train\u001b[0m\u001b[0;34m.\u001b[0m\u001b[0mshape\u001b[0m\u001b[0;34m)\u001b[0m\u001b[0;34m\u001b[0m\u001b[0m\n\u001b[1;32m      4\u001b[0m clf = MLPClassifier(hidden_layer_sizes=(10,), max_iter=10, alpha=1e-4,\n\u001b[1;32m      5\u001b[0m                     \u001b[0msolver\u001b[0m\u001b[0;34m=\u001b[0m\u001b[0;34m'sgd'\u001b[0m\u001b[0;34m,\u001b[0m \u001b[0mverbose\u001b[0m\u001b[0;34m=\u001b[0m\u001b[0;36m10\u001b[0m\u001b[0;34m,\u001b[0m \u001b[0mtol\u001b[0m\u001b[0;34m=\u001b[0m\u001b[0;36m1e-4\u001b[0m\u001b[0;34m,\u001b[0m \u001b[0mrandom_state\u001b[0m\u001b[0;34m=\u001b[0m\u001b[0;36m1\u001b[0m\u001b[0;34m,\u001b[0m\u001b[0;34m\u001b[0m\u001b[0m\n",
      "\u001b[0;31mImportError\u001b[0m: cannot import name 'MLPClassifier'"
     ]
    }
   ],
   "source": [
    "from sklearn.neural_network import MLPClassifier\n",
    "X2_train, y2_train, X2_test, y2_test = prepare_data2(df, 1610612737, 1610612745, 0.3)\n",
    "print(X2_train.shape)\n",
    "clf = MLPClassifier(hidden_layer_sizes=(10,), max_iter=10, alpha=1e-4,\n",
    "                    solver='sgd', verbose=10, tol=1e-4, random_state=1,\n",
    "                    learning_rate_init=.1)\n",
    "clf.fit(X2_train[:,1:], y2_train)\n",
    "#scores = cross_val_score(clf, X2_train[:,1:], y2_train, scoring='accuracy')\n",
    "#print('Accuracy: {0:.1f}%'.format(np.mean(scores)*100))\n",
    "predicted2 = clf.predict(X2_test[:,1:])\n",
    "print('')\n",
    "print( 'Actual classes of the test data   : ', y2_test)\n",
    "print( '')\n",
    "print( 'Predicted classes of the test data: ', predicted2)\n",
    "print( '')\n",
    "\n",
    "# generate class probabilities\n",
    "probs2 = lrModel4.predict_proba(X2_test[:,1:])\n",
    "#print probs\n",
    "\n",
    "cm2 = metrics.confusion_matrix(y2_test, predicted2)\n",
    "print( 'Confusion matrix')\n",
    "print( 'Class labels: 0     1')\n",
    "print( '             ', cm2[0][0], '  ', cm2[0][1])\n",
    "print( '             ', cm2[1][0], '  ', cm2[1][1])\n",
    "\n",
    "print( '')\n",
    "print( 'Classification report:')\n",
    "print( metrics.classification_report(y2_test, predicted2))\n",
    "print( '')\n",
    "\n",
    "scores2 = cross_val_score(lrModel4, X2_train[:,1:], y2_train, scoring='accuracy')\n",
    "print('Accuracy: {0:.1f}%'.format(np.mean(scores2)*100))"
   ]
  },
  {
   "cell_type": "code",
   "execution_count": 164,
   "metadata": {
    "collapsed": false
   },
   "outputs": [
    {
     "ename": "SyntaxError",
     "evalue": "invalid syntax (<ipython-input-164-2a79d32ed1e9>, line 1)",
     "output_type": "error",
     "traceback": [
      "\u001b[0;36m  File \u001b[0;32m\"<ipython-input-164-2a79d32ed1e9>\"\u001b[0;36m, line \u001b[0;32m1\u001b[0m\n\u001b[0;31m    from sklearn.neural_network\u001b[0m\n\u001b[0m                               ^\u001b[0m\n\u001b[0;31mSyntaxError\u001b[0m\u001b[0;31m:\u001b[0m invalid syntax\n"
     ]
    }
   ],
   "source": [
    "from sklearn.neural_network"
   ]
  },
  {
   "cell_type": "code",
   "execution_count": null,
   "metadata": {
    "collapsed": true
   },
   "outputs": [],
   "source": []
  }
 ],
 "metadata": {
  "anaconda-cloud": {},
  "kernelspec": {
   "display_name": "Python [conda root]",
   "language": "python",
   "name": "conda-root-py"
  },
  "language_info": {
   "codemirror_mode": {
    "name": "ipython",
    "version": 3
   },
   "file_extension": ".py",
   "mimetype": "text/x-python",
   "name": "python",
   "nbconvert_exporter": "python",
   "pygments_lexer": "ipython3",
   "version": "3.5.2"
  }
 },
 "nbformat": 4,
 "nbformat_minor": 1
}
