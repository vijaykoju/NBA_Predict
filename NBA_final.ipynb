{
 "cells": [
  {
   "cell_type": "code",
   "execution_count": 1,
   "metadata": {
    "collapsed": true
   },
   "outputs": [],
   "source": [
    "%matplotlib inline\n",
    "import json\n",
    "import pandas as pd\n",
    "import numpy as np\n",
    "import matplotlib \n",
    "import matplotlib.pyplot as plt\n",
    "import seaborn as sns\n",
    "import csv\n",
    "from collections import defaultdict\n",
    "matplotlib.rcParams['savefig.dpi'] = 144"
   ]
  },
  {
   "cell_type": "code",
   "execution_count": 2,
   "metadata": {
    "collapsed": true
   },
   "outputs": [],
   "source": [
    "team_ids_names = {1610612737: [['ATL'], ['Atlanta Hawks']],\n",
    " 1610612738: [['BOS'], ['Boston Celtics']],\n",
    " 1610612739: [['CLE'], ['Cleveland Cavaliers']],\n",
    " 1610612740: [['NOH', 'NOK', 'NOP'], ['New Orleans Hornets', 'New Orleans/Oklahoma City Hornets', 'New Orleans Pelicans']],\n",
    " 1610612741: [['CHI'], ['Chicago Bulls']],\n",
    " 1610612742: [['DAL'], ['Dallas Mavericks']],\n",
    " 1610612743: [['DEN'], ['Denver Nuggets']],\n",
    " 1610612744: [['GSW'], ['Golden State Warriors']],\n",
    " 1610612745: [['HOU'], ['Houston Rockets']],\n",
    " 1610612746: [['LAC'], ['Los Angeles Clippers', 'LA Clippers']],\n",
    " 1610612747: [['LAL'], ['Los Angeles Lakers']],\n",
    " 1610612748: [['MIA'], ['Miami Heat']],\n",
    " 1610612749: [['MIL'], ['Milwaukee Bucks']],\n",
    " 1610612750: [['MIN'], ['Minnesota Timberwolves']],\n",
    " 1610612751: [['NJN', 'BKN'], ['New Jersey Nets', 'Brooklyn Nets']],\n",
    " 1610612752: [['NYK'], ['New York Knicks']],\n",
    " 1610612753: [['ORL'], ['Orlando Magic']],\n",
    " 1610612754: [['IND'], ['Indiana Pacers']],\n",
    " 1610612755: [['PHI'], ['Philadelphia 76ers']],\n",
    " 1610612756: [['PHX'], ['Phoenix Suns']],\n",
    " 1610612757: [['POR'], ['Portland Trail Blazers']],\n",
    " 1610612758: [['SAC'], ['Sacramento Kings']],\n",
    " 1610612759: [['SAS'], ['San Antonio Spurs']],\n",
    " 1610612760: [['SEA', 'OKC'], ['Seattle SuperSonics', 'Oklahoma City Thunder']],\n",
    " 1610612761: [['TOR'], ['Toronto Raptors']],\n",
    " 1610612762: [['UTA'], ['Utah Jazz']],\n",
    " 1610612763: [['VAN', 'MEM'], ['Vancouver Grizzlies', 'Memphis Grizzlies']],\n",
    " 1610612764: [['WAS'], ['Washington Wizards']],\n",
    " 1610612765: [['DET'], ['Detroit Pistons']],\n",
    " 1610612766: [['CHH', 'CHA'], ['Charlotte Hornets', 'Charlotte Bobcats']]}"
   ]
  },
  {
   "cell_type": "code",
   "execution_count": 3,
   "metadata": {
    "collapsed": true
   },
   "outputs": [],
   "source": [
    "def lookup_team_id_abv(team_name):\n",
    "    for k,v in team_ids_names.items():\n",
    "        for value in v[1]:\n",
    "            if value == team_name:\n",
    "                return k\n",
    "    else:\n",
    "        print(team_name+' is not a valid team name.')\n",
    "        return 0"
   ]
  },
  {
   "cell_type": "markdown",
   "metadata": {},
   "source": [
    "## READ IN DATA"
   ]
  },
  {
   "cell_type": "code",
   "execution_count": 4,
   "metadata": {
    "collapsed": true
   },
   "outputs": [],
   "source": [
    "nba_data = pd.read_csv('NBA_data_combined_v3.csv')"
   ]
  },
  {
   "cell_type": "code",
   "execution_count": 5,
   "metadata": {
    "collapsed": false
   },
   "outputs": [
    {
     "data": {
      "text/html": [
       "<div>\n",
       "<table border=\"1\" class=\"dataframe\">\n",
       "  <thead>\n",
       "    <tr style=\"text-align: right;\">\n",
       "      <th></th>\n",
       "      <th>Unnamed: 0</th>\n",
       "      <th>Unnamed: 0.1</th>\n",
       "      <th>Date</th>\n",
       "      <th>Home Team</th>\n",
       "      <th>HomePts</th>\n",
       "      <th>HomeWin</th>\n",
       "      <th>Home_AST</th>\n",
       "      <th>Home_BLK</th>\n",
       "      <th>Home_DREB</th>\n",
       "      <th>Home_FG3A</th>\n",
       "      <th>...</th>\n",
       "      <th>HomeTeamHigh_STL_Last</th>\n",
       "      <th>HomeLastHigh_BLK</th>\n",
       "      <th>VisitorLastHigh_BLK</th>\n",
       "      <th>HomeTeamHigh_BLK_Last</th>\n",
       "      <th>HomeLastHigh_TOV</th>\n",
       "      <th>VisitorLastHigh_TOV</th>\n",
       "      <th>HomeTeamHigh_TOV_Last</th>\n",
       "      <th>HomeLastHigh_PF</th>\n",
       "      <th>VisitorLastHigh_PF</th>\n",
       "      <th>HomeTeamHigh_PF_Last</th>\n",
       "    </tr>\n",
       "  </thead>\n",
       "  <tbody>\n",
       "    <tr>\n",
       "      <th>21866</th>\n",
       "      <td>21866</td>\n",
       "      <td>21866</td>\n",
       "      <td>2017-05-06</td>\n",
       "      <td>Utah Jazz</td>\n",
       "      <td>91.0</td>\n",
       "      <td>False</td>\n",
       "      <td>19</td>\n",
       "      <td>3</td>\n",
       "      <td>37</td>\n",
       "      <td>22</td>\n",
       "      <td>...</td>\n",
       "      <td>0</td>\n",
       "      <td>False</td>\n",
       "      <td>True</td>\n",
       "      <td>0</td>\n",
       "      <td>False</td>\n",
       "      <td>True</td>\n",
       "      <td>0</td>\n",
       "      <td>True</td>\n",
       "      <td>False</td>\n",
       "      <td>1</td>\n",
       "    </tr>\n",
       "    <tr>\n",
       "      <th>21867</th>\n",
       "      <td>21868</td>\n",
       "      <td>21868</td>\n",
       "      <td>2017-05-07</td>\n",
       "      <td>Toronto Raptors</td>\n",
       "      <td>102.0</td>\n",
       "      <td>False</td>\n",
       "      <td>28</td>\n",
       "      <td>3</td>\n",
       "      <td>29</td>\n",
       "      <td>29</td>\n",
       "      <td>...</td>\n",
       "      <td>1</td>\n",
       "      <td>False</td>\n",
       "      <td>True</td>\n",
       "      <td>0</td>\n",
       "      <td>False</td>\n",
       "      <td>True</td>\n",
       "      <td>1</td>\n",
       "      <td>True</td>\n",
       "      <td>False</td>\n",
       "      <td>1</td>\n",
       "    </tr>\n",
       "    <tr>\n",
       "      <th>21868</th>\n",
       "      <td>21869</td>\n",
       "      <td>21869</td>\n",
       "      <td>2017-05-07</td>\n",
       "      <td>Washington Wizards</td>\n",
       "      <td>121.0</td>\n",
       "      <td>True</td>\n",
       "      <td>29</td>\n",
       "      <td>3</td>\n",
       "      <td>33</td>\n",
       "      <td>21</td>\n",
       "      <td>...</td>\n",
       "      <td>1</td>\n",
       "      <td>True</td>\n",
       "      <td>False</td>\n",
       "      <td>1</td>\n",
       "      <td>False</td>\n",
       "      <td>True</td>\n",
       "      <td>1</td>\n",
       "      <td>False</td>\n",
       "      <td>True</td>\n",
       "      <td>0</td>\n",
       "    </tr>\n",
       "    <tr>\n",
       "      <th>21869</th>\n",
       "      <td>21867</td>\n",
       "      <td>21867</td>\n",
       "      <td>2017-05-07</td>\n",
       "      <td>Houston Rockets</td>\n",
       "      <td>125.0</td>\n",
       "      <td>True</td>\n",
       "      <td>28</td>\n",
       "      <td>3</td>\n",
       "      <td>34</td>\n",
       "      <td>43</td>\n",
       "      <td>...</td>\n",
       "      <td>1</td>\n",
       "      <td>False</td>\n",
       "      <td>True</td>\n",
       "      <td>0</td>\n",
       "      <td>False</td>\n",
       "      <td>True</td>\n",
       "      <td>0</td>\n",
       "      <td>True</td>\n",
       "      <td>False</td>\n",
       "      <td>1</td>\n",
       "    </tr>\n",
       "    <tr>\n",
       "      <th>21870</th>\n",
       "      <td>21870</td>\n",
       "      <td>21870</td>\n",
       "      <td>2017-05-08</td>\n",
       "      <td>Utah Jazz</td>\n",
       "      <td>NaN</td>\n",
       "      <td>False</td>\n",
       "      <td>13</td>\n",
       "      <td>4</td>\n",
       "      <td>32</td>\n",
       "      <td>27</td>\n",
       "      <td>...</td>\n",
       "      <td>1</td>\n",
       "      <td>False</td>\n",
       "      <td>True</td>\n",
       "      <td>0</td>\n",
       "      <td>True</td>\n",
       "      <td>False</td>\n",
       "      <td>1</td>\n",
       "      <td>True</td>\n",
       "      <td>False</td>\n",
       "      <td>1</td>\n",
       "    </tr>\n",
       "  </tbody>\n",
       "</table>\n",
       "<p>5 rows × 120 columns</p>\n",
       "</div>"
      ],
      "text/plain": [
       "       Unnamed: 0  Unnamed: 0.1        Date           Home Team  HomePts  \\\n",
       "21866       21866         21866  2017-05-06           Utah Jazz     91.0   \n",
       "21867       21868         21868  2017-05-07     Toronto Raptors    102.0   \n",
       "21868       21869         21869  2017-05-07  Washington Wizards    121.0   \n",
       "21869       21867         21867  2017-05-07     Houston Rockets    125.0   \n",
       "21870       21870         21870  2017-05-08           Utah Jazz      NaN   \n",
       "\n",
       "      HomeWin  Home_AST  Home_BLK  Home_DREB  Home_FG3A          ...           \\\n",
       "21866   False        19         3         37         22          ...            \n",
       "21867   False        28         3         29         29          ...            \n",
       "21868    True        29         3         33         21          ...            \n",
       "21869    True        28         3         34         43          ...            \n",
       "21870   False        13         4         32         27          ...            \n",
       "\n",
       "       HomeTeamHigh_STL_Last  HomeLastHigh_BLK  VisitorLastHigh_BLK  \\\n",
       "21866                      0             False                 True   \n",
       "21867                      1             False                 True   \n",
       "21868                      1              True                False   \n",
       "21869                      1             False                 True   \n",
       "21870                      1             False                 True   \n",
       "\n",
       "       HomeTeamHigh_BLK_Last  HomeLastHigh_TOV  VisitorLastHigh_TOV  \\\n",
       "21866                      0             False                 True   \n",
       "21867                      0             False                 True   \n",
       "21868                      1             False                 True   \n",
       "21869                      0             False                 True   \n",
       "21870                      0              True                False   \n",
       "\n",
       "       HomeTeamHigh_TOV_Last  HomeLastHigh_PF  VisitorLastHigh_PF  \\\n",
       "21866                      0             True               False   \n",
       "21867                      1             True               False   \n",
       "21868                      1            False                True   \n",
       "21869                      0             True               False   \n",
       "21870                      1             True               False   \n",
       "\n",
       "       HomeTeamHigh_PF_Last  \n",
       "21866                     1  \n",
       "21867                     1  \n",
       "21868                     0  \n",
       "21869                     1  \n",
       "21870                     1  \n",
       "\n",
       "[5 rows x 120 columns]"
      ]
     },
     "execution_count": 5,
     "metadata": {},
     "output_type": "execute_result"
    }
   ],
   "source": [
    "nba_data.tail(5)"
   ]
  },
  {
   "cell_type": "code",
   "execution_count": 6,
   "metadata": {
    "collapsed": false,
    "scrolled": true
   },
   "outputs": [
    {
     "name": "stdout",
     "output_type": "stream",
     "text": [
      "['Unnamed: 0', 'Unnamed: 0.1', 'Date', 'Home Team', 'HomePts', 'HomeWin', 'Home_AST', 'Home_BLK', 'Home_DREB', 'Home_FG3A', 'Home_FG3M', 'Home_FG3_PCT', 'Home_FGA', 'Home_FGM', 'Home_FG_PCT', 'Home_FTA', 'Home_FTM', 'Home_FT_PCT', 'Home_OREB', 'Home_PF', 'Home_REB', 'Home_STL', 'Home_TOV', 'Home_Team_ID', 'Notes', 'OverTime', 'Score Type', 'Start Time (ET)', 'Visitor Team', 'VisitorPts', 'Visitor_AST', 'Visitor_BLK', 'Visitor_DREB', 'Visitor_FG3A', 'Visitor_FG3M', 'Visitor_FG3_PCT', 'Visitor_FGA', 'Visitor_FGM', 'Visitor_FG_PCT', 'Visitor_FTA', 'Visitor_FTM', 'Visitor_FT_PCT', 'Visitor_OREB', 'Visitor_PF', 'Visitor_REB', 'Visitor_STL', 'Visitor_TOV', 'Visitor_Team_ID', 'HomeLastWin', 'VisitorLastWin', 'HomeTeamWonLast', 'HomeTeamRanksHigher', 'HomeScoresHigher_FGM', 'HomeScoresHigher_FGA', 'HomeScoresHigher_FG_PCT', 'HomeScoresHigher_FG3M', 'HomeScoresHigher_FG3A', 'HomeScoresHigher_FG3_PCT', 'HomeScoresHigher_FTM', 'HomeScoresHigher_FTA', 'HomeScoresHigher_FT_PCT', 'HomeScoresHigher_OREB', 'HomeScoresHigher_DREB', 'HomeScoresHigher_REB', 'HomeScoresHigher_AST', 'HomeScoresHigher_STL', 'HomeScoresHigher_BLK', 'HomeScoresHigher_TOV', 'HomeScoresHigher_PF', 'HomeLastHigh_FGM', 'VisitorLastHigh_FGM', 'HomeTeamHigh_FGM_Last', 'HomeLastHigh_FGA', 'VisitorLastHigh_FGA', 'HomeTeamHigh_FGA_Last', 'HomeLastHigh_FGPCT', 'VisitorLastHigh_FGPCT', 'HomeTeamHigh_FGPCT_Last', 'HomeLastHigh_FG3M', 'VisitorLastHigh_FG3M', 'HomeTeamHigh_FG3M_Last', 'HomeLastHigh_FG3A', 'VisitorLastHigh_FG3A', 'HomeTeamHigh_FG3A_Last', 'HomeLastHigh_FG3PCT', 'VisitorLastHigh_FG3PCT', 'HomeTeamHigh_FG3PCT_Last', 'HomeLastHigh_FTM', 'VisitorLastHigh_FTM', 'HomeTeamHigh_FTM_Last', 'HomeLastHigh_FTA', 'VisitorLastHigh_FTA', 'HomeTeamHigh_FTA_Last', 'HomeLastHigh_FTPCT', 'VisitorLastHigh_FTPCT', 'HomeTeamHigh_FTPCT_Last', 'HomeLastHigh_OREB', 'VisitorLastHigh_OREB', 'HomeTeamHigh_OREB_Last', 'HomeLastHigh_DREB', 'VisitorLastHigh_DREB', 'HomeTeamHigh_DREB_Last', 'HomeLastHigh_REB', 'VisitorLastHigh_REB', 'HomeTeamHigh_REB_Last', 'HomeLastHigh_AST', 'VisitorLastHigh_AST', 'HomeTeamHigh_AST_Last', 'HomeLastHigh_STL', 'VisitorLastHigh_STL', 'HomeTeamHigh_STL_Last', 'HomeLastHigh_BLK', 'VisitorLastHigh_BLK', 'HomeTeamHigh_BLK_Last', 'HomeLastHigh_TOV', 'VisitorLastHigh_TOV', 'HomeTeamHigh_TOV_Last', 'HomeLastHigh_PF', 'VisitorLastHigh_PF', 'HomeTeamHigh_PF_Last']\n"
     ]
    }
   ],
   "source": [
    "print(list(nba_data.columns.values))"
   ]
  },
  {
   "cell_type": "code",
   "execution_count": 7,
   "metadata": {
    "collapsed": true
   },
   "outputs": [],
   "source": [
    "y_true = nba_data['HomeWin'].copy()"
   ]
  },
  {
   "cell_type": "code",
   "execution_count": null,
   "metadata": {
    "collapsed": false
   },
   "outputs": [],
   "source": []
  },
  {
   "cell_type": "code",
   "execution_count": 8,
   "metadata": {
    "collapsed": false
   },
   "outputs": [],
   "source": [
    "X = nba_data[['Date','Home_Team_ID','Visitor_Team_ID','HomeLastWin','VisitorLastWin','HomeTeamRanksHigher','HomeTeamWonLast',\n",
    "             'HomeLastHigh_FGM','VisitorLastHigh_FGM','HomeTeamHigh_FGM_Last',\n",
    "             'HomeLastHigh_FGA','VisitorLastHigh_FGA','HomeTeamHigh_FGA_Last',\n",
    "             'HomeLastHigh_FGPCT','VisitorLastHigh_FGPCT','HomeTeamHigh_FGPCT_Last',\n",
    "             'HomeLastHigh_FG3M','VisitorLastHigh_FG3M','HomeTeamHigh_FG3M_Last',\n",
    "             'HomeLastHigh_FG3A','VisitorLastHigh_FG3A','HomeTeamHigh_FG3A_Last',\n",
    "             'HomeLastHigh_FG3PCT','VisitorLastHigh_FG3PCT','HomeTeamHigh_FG3PCT_Last',\n",
    "             'HomeLastHigh_FTM','VisitorLastHigh_FTM','HomeTeamHigh_FTM_Last',\n",
    "             'HomeLastHigh_FTA','VisitorLastHigh_FTA','HomeTeamHigh_FTA_Last',\n",
    "             'HomeLastHigh_FTPCT','VisitorLastHigh_FTPCT','HomeTeamHigh_FTPCT_Last',\n",
    "             'HomeLastHigh_OREB','VisitorLastHigh_OREB','HomeTeamHigh_OREB_Last',\n",
    "             'HomeLastHigh_DREB','VisitorLastHigh_DREB','HomeTeamHigh_DREB_Last',\n",
    "             'HomeLastHigh_REB','VisitorLastHigh_REB','HomeTeamHigh_REB_Last',\n",
    "             'HomeLastHigh_AST','VisitorLastHigh_AST','HomeTeamHigh_AST_Last',\n",
    "             'HomeLastHigh_STL','VisitorLastHigh_STL','HomeTeamHigh_STL_Last',\n",
    "             'HomeLastHigh_BLK','VisitorLastHigh_BLK','HomeTeamHigh_BLK_Last',\n",
    "             'HomeLastHigh_TOV','VisitorLastHigh_TOV','HomeTeamHigh_TOV_Last',\n",
    "             'HomeLastHigh_PF','VisitorLastHigh_PF','HomeTeamHigh_PF_Last','HomeWin']].copy()"
   ]
  },
  {
   "cell_type": "code",
   "execution_count": 153,
   "metadata": {
    "collapsed": false
   },
   "outputs": [],
   "source": [
    "from sklearn.tree import DecisionTreeClassifier\n",
    "from sklearn.ensemble import RandomForestClassifier\n",
    "from sklearn.linear_model import LogisticRegression, LinearRegression, Ridge\n",
    "from sklearn.naive_bayes import GaussianNB, MultinomialNB, BernoulliNB\n",
    "from sklearn.cross_validation import train_test_split, cross_val_score\n",
    "from sklearn import metrics, cross_validation\n",
    "from sklearn.metrics import classification_report\n",
    "from sklearn.preprocessing import LabelEncoder, OneHotEncoder\n",
    "from sklearn.grid_search import GridSearchCV\n",
    "from sklearn import base\n",
    "from sklearn.pipeline import Pipeline\n",
    "import time"
   ]
  },
  {
   "cell_type": "code",
   "execution_count": 100,
   "metadata": {
    "collapsed": false
   },
   "outputs": [],
   "source": [
    "class ColumnSelectTransformer(base.BaseEstimator, base.TransformerMixin):\n",
    "    \n",
    "    def __init__(self, col_names):\n",
    "        #self.col_names = ['Home_Team_ID', 'Visitor_Team_ID']\n",
    "        self.col_names = col_names\n",
    "    \n",
    "    def fit(self, X, y=None):\n",
    "        return self\n",
    "    \n",
    "    def transform(self, X):\n",
    "        # Return an array with the same number of rows as X and one\n",
    "        # column for each in self.col_names\n",
    "        #cols_of_X = list(X.columns.values)\n",
    "        encoding = LabelEncoder()\n",
    "        encoding.fit(X['Home_Team_ID'].values)\n",
    "        home_teams = encoding.transform(X['Home_Team_ID'].values)\n",
    "        visitor_teams = encoding.transform(X['Visitor_Team_ID'].values)\n",
    "        X_teams = np.vstack([home_teams, visitor_teams]).T\n",
    "        onehot = OneHotEncoder()\n",
    "        X_teams_expanded = onehot.fit_transform(X_teams).todense()\n",
    "        X_teams_expanded = np.concatenate((X_teams_expanded, X[self.col_names]), axis=1)\n",
    "        return X_teams_expanded*1\n"
   ]
  },
  {
   "cell_type": "code",
   "execution_count": 155,
   "metadata": {
    "collapsed": false
   },
   "outputs": [
    {
     "name": "stdout",
     "output_type": "stream",
     "text": [
      "21856\n"
     ]
    }
   ],
   "source": [
    "start_index = 15\n",
    "\n",
    "y_all = X['HomeWin'].values[start_index:]*1\n",
    "print(len(y_all))\n",
    "test_chunk = 0.1\n",
    "n_size = int(len(y_all)*(1-test_chunk))"
   ]
  },
  {
   "cell_type": "code",
   "execution_count": 156,
   "metadata": {
    "collapsed": false
   },
   "outputs": [],
   "source": [
    "X_train = X.loc[start_index:n_size-1]\n",
    "X_test = X.loc[n_size:]\n",
    "y_train = X['HomeWin'].values[start_index:n_size]*1\n",
    "y_test = X['HomeWin'].values[n_size:]*1"
   ]
  },
  {
   "cell_type": "code",
   "execution_count": 157,
   "metadata": {
    "collapsed": false
   },
   "outputs": [
    {
     "data": {
      "text/plain": [
       "19655"
      ]
     },
     "execution_count": 157,
     "metadata": {},
     "output_type": "execute_result"
    }
   ],
   "source": [
    "X_train.shape[0]"
   ]
  },
  {
   "cell_type": "code",
   "execution_count": 158,
   "metadata": {
    "collapsed": false
   },
   "outputs": [
    {
     "data": {
      "text/plain": [
       "19655"
      ]
     },
     "execution_count": 158,
     "metadata": {},
     "output_type": "execute_result"
    }
   ],
   "source": [
    "y_train.shape[0]"
   ]
  },
  {
   "cell_type": "code",
   "execution_count": 227,
   "metadata": {
    "collapsed": false
   },
   "outputs": [
    {
     "name": "stdout",
     "output_type": "stream",
     "text": [
      "Accuracy: 0.668332576102\n",
      "Precision: 0.732945091514\n",
      "Recall: 0.682945736434\n",
      "F1: 0.707062600321\n",
      "             precision    recall  f1-score   support\n",
      "\n",
      "          0       0.59      0.65      0.62       911\n",
      "          1       0.73      0.68      0.71      1290\n",
      "\n",
      "avg / total       0.67      0.67      0.67      2201\n",
      "\n"
     ]
    }
   ],
   "source": [
    "#cl = ['HomeLastWin', 'VisitorLastWin','HomeTeamRanksHigher','HomeTeamWonLast']\n",
    "cl = ['HomeLastWin','VisitorLastWin','HomeTeamWonLast', 'HomeTeamRanksHigher']\n",
    "\n",
    "## Ridge with GridSearch\n",
    "\n",
    "alp = [0.01, 0.05, 0.1, 0,2, 0.3, 0.4, 0.5, 0.6, 0.7, 0.8, 0.9, 1.0]\n",
    "parameters = {'alpha': alp}\n",
    "\n",
    "pipe = Pipeline([('cst', ColumnSelectTransformer(cl))\n",
    "                  , ('rid', GridSearchCV(Ridge(), parameters, cv=10))])\n",
    "\n",
    "pipe.fit(X_train, y_train)\n",
    "\n",
    "predicted = pipe.predict(X_test)\n",
    "y_pred = (predicted > 0.5) * 1\n",
    "\n",
    "print(\"Accuracy:\", metrics.accuracy_score(y_test, y_pred))\n",
    "print(\"Precision:\", metrics.precision_score(y_test, y_pred))\n",
    "print(\"Recall:\", metrics.recall_score(y_test, y_pred))\n",
    "print(\"F1:\", metrics.f1_score(y_test, y_pred))\n",
    "print(classification_report(y_test, y_pred))"
   ]
  },
  {
   "cell_type": "code",
   "execution_count": 219,
   "metadata": {
    "collapsed": false
   },
   "outputs": [
    {
     "name": "stdout",
     "output_type": "stream",
     "text": [
      "Accuracy: 0.660154475239\n",
      "Precision: 0.704374057315\n",
      "Recall: 0.724031007752\n",
      "F1: 0.714067278287\n",
      "             precision    recall  f1-score   support\n",
      "\n",
      "          0       0.59      0.57      0.58       911\n",
      "          1       0.70      0.72      0.71      1290\n",
      "\n",
      "avg / total       0.66      0.66      0.66      2201\n",
      "\n"
     ]
    }
   ],
   "source": [
    "cl = ['HomeLastWin','VisitorLastWin','HomeTeamWonLast', 'HomeTeamRanksHigher']\n",
    "\n",
    "## RandomForest with GridSearch\n",
    "\n",
    "parameters = {\n",
    "    'max_features': [2, 10, 'auto'],\n",
    "    'n_estimators': [100,],\n",
    "    'criterion': ['gini', 'entropy'],\n",
    "    'min_samples_leaf': [2, 4, 6]\n",
    "}\n",
    "\n",
    "pipe = Pipeline([('cst', ColumnSelectTransformer(cl))\n",
    "                  , ('rid', GridSearchCV(RandomForestClassifier(), parameters, cv=10))])\n",
    "\n",
    "pipe.fit(X_train, y_train)\n",
    "\n",
    "predicted = pipe.predict(X_test)\n",
    "y_pred = (predicted > 0.5) * 1\n",
    "\n",
    "print(\"Accuracy:\", metrics.accuracy_score(y_test, y_pred))\n",
    "print(\"Precision:\", metrics.precision_score(y_test, y_pred))\n",
    "print(\"Recall:\", metrics.recall_score(y_test, y_pred))\n",
    "print(\"F1:\", metrics.f1_score(y_test, y_pred))\n",
    "print(classification_report(y_test, y_pred))"
   ]
  },
  {
   "cell_type": "code",
   "execution_count": 268,
   "metadata": {
    "collapsed": false
   },
   "outputs": [
    {
     "name": "stdout",
     "output_type": "stream",
     "text": [
      "Accuracy: 0.670604270786\n",
      "Precision: 0.727272727273\n",
      "Recall: 0.700775193798\n",
      "F1: 0.713778128701\n",
      "             precision    recall  f1-score   support\n",
      "\n",
      "          0       0.60      0.63      0.61       911\n",
      "          1       0.73      0.70      0.71      1290\n",
      "\n",
      "avg / total       0.67      0.67      0.67      2201\n",
      "\n"
     ]
    }
   ],
   "source": [
    "cl = ['HomeLastWin','VisitorLastWin','HomeTeamWonLast', 'HomeTeamRanksHigher']\n",
    "\n",
    "parameters = {\n",
    "    'C': np.power(10.0, np.arange(-10, 10))\n",
    "    , 'solver': ['newton-cg']\n",
    "}\n",
    "\n",
    "clf = LogisticRegression(penalty='l2', random_state=777, max_iter=10000, tol=10)\n",
    "#gs = GridSearchCV(clf, grid, scoring='roc_auc', cv=fold)\n",
    "\n",
    "# pipe = Pipeline([('cst', ColumnSelectTransformer(cl))\n",
    "#                   , ('rid', GridSearchCV(clf, parameters, cv=10))])\n",
    "\n",
    "pipe = Pipeline([('cst', ColumnSelectTransformer(cl))\n",
    "                  , ('rid', LogisticRegression())])\n",
    "\n",
    "pipe.fit(X_train, y_train)\n",
    "\n",
    "predicted = pipe.predict(X_test)\n",
    "y_pred = (predicted > 0.5) * 1\n",
    "\n",
    "print(\"Accuracy:\", metrics.accuracy_score(y_test, y_pred))\n",
    "print(\"Precision:\", metrics.precision_score(y_test, y_pred))\n",
    "print(\"Recall:\", metrics.recall_score(y_test, y_pred))\n",
    "print(\"F1:\", metrics.f1_score(y_test, y_pred))\n",
    "print(classification_report(y_test, y_pred))"
   ]
  },
  {
   "cell_type": "code",
   "execution_count": 225,
   "metadata": {
    "collapsed": false
   },
   "outputs": [
    {
     "name": "stdout",
     "output_type": "stream",
     "text": [
      "Accuracy: 0.669241253975\n",
      "Precision: 0.73377703827\n",
      "Recall: 0.683720930233\n",
      "F1: 0.707865168539\n",
      "             precision    recall  f1-score   support\n",
      "\n",
      "          0       0.59      0.65      0.62       911\n",
      "          1       0.73      0.68      0.71      1290\n",
      "\n",
      "avg / total       0.67      0.67      0.67      2201\n",
      "\n"
     ]
    }
   ],
   "source": [
    "cl = ['HomeLastWin','VisitorLastWin','HomeTeamWonLast', 'HomeTeamRanksHigher']\n",
    "\n",
    "parameters = {\n",
    "    'C': np.power(10.0, np.arange(-10, 10))\n",
    "}\n",
    "\n",
    "clf = LinearRegression()\n",
    "#gs = GridSearchCV(clf, grid, scoring='roc_auc', cv=fold)\n",
    "\n",
    "pipe = Pipeline([('cst', ColumnSelectTransformer(cl))\n",
    "                  , ('rid', clf)])\n",
    "\n",
    "pipe.fit(X_train, y_train)\n",
    "\n",
    "predicted = pipe.predict(X_test)\n",
    "y_pred = (predicted > 0.5) * 1\n",
    "\n",
    "print(\"Accuracy:\", metrics.accuracy_score(y_test, y_pred))\n",
    "print(\"Precision:\", metrics.precision_score(y_test, y_pred))\n",
    "print(\"Recall:\", metrics.recall_score(y_test, y_pred))\n",
    "print(\"F1:\", metrics.f1_score(y_test, y_pred))\n",
    "print(classification_report(y_test, y_pred))"
   ]
  },
  {
   "cell_type": "code",
   "execution_count": 228,
   "metadata": {
    "collapsed": false
   },
   "outputs": [
    {
     "name": "stdout",
     "output_type": "stream",
     "text": [
      "Accuracy: 0.66288050886\n",
      "Precision: 0.706948640483\n",
      "Recall: 0.725581395349\n",
      "F1: 0.716143840857\n",
      "             precision    recall  f1-score   support\n",
      "\n",
      "          0       0.60      0.57      0.59       911\n",
      "          1       0.71      0.73      0.72      1290\n",
      "\n",
      "avg / total       0.66      0.66      0.66      2201\n",
      "\n"
     ]
    }
   ],
   "source": [
    "cl = ['HomeLastWin','VisitorLastWin','HomeTeamWonLast', 'HomeTeamRanksHigher']\n",
    "\n",
    "pipe = Pipeline([('cst', ColumnSelectTransformer(cl))\n",
    "                  , ('rid', BernoulliNB())])\n",
    "\n",
    "pipe.fit(X_train, y_train)\n",
    "\n",
    "predicted = pipe.predict(X_test)\n",
    "y_pred = (predicted > 0.5) * 1\n",
    "\n",
    "print(\"Accuracy:\", metrics.accuracy_score(y_test, y_pred))\n",
    "print(\"Precision:\", metrics.precision_score(y_test, y_pred))\n",
    "print(\"Recall:\", metrics.recall_score(y_test, y_pred))\n",
    "print(\"F1:\", metrics.f1_score(y_test, y_pred))\n",
    "print(classification_report(y_test, y_pred))"
   ]
  },
  {
   "cell_type": "code",
   "execution_count": 232,
   "metadata": {
    "collapsed": false
   },
   "outputs": [
    {
     "name": "stdout",
     "output_type": "stream",
     "text": [
      "Accuracy: 0.601090413448\n",
      "Precision: 0.6699669967\n",
      "Recall: 0.629457364341\n",
      "F1: 0.649080735412\n",
      "             precision    recall  f1-score   support\n",
      "\n",
      "          0       0.52      0.56      0.54       911\n",
      "          1       0.67      0.63      0.65      1290\n",
      "\n",
      "avg / total       0.61      0.60      0.60      2201\n",
      "\n"
     ]
    }
   ],
   "source": [
    "cl = ['HomeLastWin','VisitorLastWin','HomeTeamWonLast', 'HomeTeamRanksHigher']\n",
    "\n",
    "pipe = Pipeline([('cst', ColumnSelectTransformer(cl))\n",
    "                  , ('rid', DecisionTreeClassifier())])\n",
    "\n",
    "pipe.fit(X_train, y_train)\n",
    "\n",
    "predicted = pipe.predict(X_test)\n",
    "y_pred = (predicted > 0.5) * 1\n",
    "\n",
    "print(\"Accuracy:\", metrics.accuracy_score(y_test, y_pred))\n",
    "print(\"Precision:\", metrics.precision_score(y_test, y_pred))\n",
    "print(\"Recall:\", metrics.recall_score(y_test, y_pred))\n",
    "print(\"F1:\", metrics.f1_score(y_test, y_pred))\n",
    "print(classification_report(y_test, y_pred))"
   ]
  },
  {
   "cell_type": "code",
   "execution_count": 274,
   "metadata": {
    "collapsed": false
   },
   "outputs": [
    {
     "data": {
      "text/plain": [
       "array([0])"
      ]
     },
     "execution_count": 274,
     "metadata": {},
     "output_type": "execute_result"
    }
   ],
   "source": [
    "XX = [0]*64\n",
    "XX[5] = 1\n",
    "XX[52] = 1\n",
    "XX[60], XX[61], XX[62], XX[63] = 1, 0, 0, 1\n",
    "# pipe.predict(XX)\n",
    "#X_test.head(5)\n",
    "xx = ColumnSelectTransformer(cl)\n",
    "x_f = xx.fit_transform(X_train)\n",
    "clf = LogisticRegression()\n",
    "clf.fit(x_f, y_train)\n",
    "clf.predict(np.array(XX).reshape(1,-1))"
   ]
  },
  {
   "cell_type": "code",
   "execution_count": 200,
   "metadata": {
    "collapsed": false
   },
   "outputs": [
    {
     "data": {
      "text/plain": [
       "<matplotlib.text.Text at 0x7efbc7d1ac88>"
      ]
     },
     "execution_count": 200,
     "metadata": {},
     "output_type": "execute_result"
    },
    {
     "data": {
      "image/png": "[encoded data removed]",
      "text/plain": [
       "<matplotlib.figure.Figure at 0x7efbc6875c88>"
      ]
     },
     "metadata": {},
     "output_type": "display_data"
    },
    {
     "data": {
      "image/png": "[encoded data removed]",
      "text/plain": [
       "<matplotlib.figure.Figure at 0x7efbc7d62748>"
      ]
     },
     "metadata": {},
     "output_type": "display_data"
    }
   ],
   "source": [
    "precisions, recalls, thresholds = metrics.precision_recall_curve(y_test, predicted)\n",
    "thresholds = np.hstack([[0.], thresholds])  # n precisions but n-1 thresholds\n",
    "f1s = 2 * (precisions * recalls) / (precisions + recalls)\n",
    "\n",
    "fig = plt.figure()\n",
    "plt.plot(thresholds, precisions, label='Precision')\n",
    "plt.plot(thresholds, recalls, label='Recall')\n",
    "plt.plot(thresholds, f1s, label='F1 Score')\n",
    "plt.legend(loc='lower left')\n",
    "plt.xlabel(\"Threshold\"); plt.ylabel(\" \")\n",
    "plt.title(\"Precision, Recall, and F1 Score vs Thresholds\")\n",
    "    \n",
    "fig = plt.figure()\n",
    "plt.plot(recalls, precisions)\n",
    "#plt.fill_between(recalls, precisions, alpha=0.2)  # AUC value\n",
    "plt.xlim([0., 1.]); plt.ylim([0., 1.])\n",
    "plt.xlabel(\"Recall\"); plt.ylabel(\"Precision\")\n",
    "plt.title(\"Precision vs Recall\")"
   ]
  },
  {
   "cell_type": "code",
   "execution_count": null,
   "metadata": {
    "collapsed": false
   },
   "outputs": [],
   "source": []
  },
  {
   "cell_type": "code",
   "execution_count": null,
   "metadata": {
    "collapsed": false
   },
   "outputs": [],
   "source": []
  },
  {
   "cell_type": "code",
   "execution_count": null,
   "metadata": {
    "collapsed": true
   },
   "outputs": [],
   "source": []
  },
  {
   "cell_type": "code",
   "execution_count": null,
   "metadata": {
    "collapsed": false
   },
   "outputs": [],
   "source": []
  },
  {
   "cell_type": "code",
   "execution_count": null,
   "metadata": {
    "collapsed": true
   },
   "outputs": [],
   "source": []
  },
  {
   "cell_type": "code",
   "execution_count": null,
   "metadata": {
    "collapsed": false
   },
   "outputs": [],
   "source": []
  },
  {
   "cell_type": "code",
   "execution_count": null,
   "metadata": {
    "collapsed": true
   },
   "outputs": [],
   "source": []
  },
  {
   "cell_type": "code",
   "execution_count": null,
   "metadata": {
    "collapsed": false
   },
   "outputs": [],
   "source": []
  },
  {
   "cell_type": "code",
   "execution_count": null,
   "metadata": {
    "collapsed": true
   },
   "outputs": [],
   "source": []
  },
  {
   "cell_type": "code",
   "execution_count": null,
   "metadata": {
    "collapsed": false
   },
   "outputs": [],
   "source": []
  },
  {
   "cell_type": "code",
   "execution_count": null,
   "metadata": {
    "collapsed": false
   },
   "outputs": [],
   "source": []
  },
  {
   "cell_type": "code",
   "execution_count": 20,
   "metadata": {
    "collapsed": true
   },
   "outputs": [],
   "source": []
  },
  {
   "cell_type": "code",
   "execution_count": null,
   "metadata": {
    "collapsed": false
   },
   "outputs": [],
   "source": []
  },
  {
   "cell_type": "code",
   "execution_count": 22,
   "metadata": {
    "collapsed": true
   },
   "outputs": [],
   "source": []
  },
  {
   "cell_type": "code",
   "execution_count": null,
   "metadata": {
    "collapsed": false
   },
   "outputs": [],
   "source": []
  },
  {
   "cell_type": "code",
   "execution_count": 27,
   "metadata": {
    "collapsed": true
   },
   "outputs": [],
   "source": []
  },
  {
   "cell_type": "code",
   "execution_count": null,
   "metadata": {
    "collapsed": false
   },
   "outputs": [],
   "source": []
  },
  {
   "cell_type": "code",
   "execution_count": null,
   "metadata": {
    "collapsed": false
   },
   "outputs": [],
   "source": []
  },
  {
   "cell_type": "code",
   "execution_count": null,
   "metadata": {
    "collapsed": false
   },
   "outputs": [],
   "source": []
  },
  {
   "cell_type": "code",
   "execution_count": null,
   "metadata": {
    "collapsed": true
   },
   "outputs": [],
   "source": []
  },
  {
   "cell_type": "code",
   "execution_count": null,
   "metadata": {
    "collapsed": false
   },
   "outputs": [],
   "source": []
  },
  {
   "cell_type": "code",
   "execution_count": null,
   "metadata": {
    "collapsed": false
   },
   "outputs": [],
   "source": []
  },
  {
   "cell_type": "code",
   "execution_count": null,
   "metadata": {
    "collapsed": false
   },
   "outputs": [],
   "source": []
  },
  {
   "cell_type": "code",
   "execution_count": null,
   "metadata": {
    "collapsed": false
   },
   "outputs": [],
   "source": []
  },
  {
   "cell_type": "code",
   "execution_count": null,
   "metadata": {
    "collapsed": false
   },
   "outputs": [],
   "source": []
  },
  {
   "cell_type": "code",
   "execution_count": null,
   "metadata": {
    "collapsed": false
   },
   "outputs": [],
   "source": []
  },
  {
   "cell_type": "code",
   "execution_count": null,
   "metadata": {
    "collapsed": false
   },
   "outputs": [],
   "source": []
  },
  {
   "cell_type": "code",
   "execution_count": null,
   "metadata": {
    "collapsed": true
   },
   "outputs": [],
   "source": []
  }
 ],
 "metadata": {
  "kernelspec": {
   "display_name": "Python [conda root]",
   "language": "python",
   "name": "conda-root-py"
  },
  "language_info": {
   "codemirror_mode": {
    "name": "ipython",
    "version": 3
   },
   "file_extension": ".py",
   "mimetype": "text/x-python",
   "name": "python",
   "nbconvert_exporter": "python",
   "pygments_lexer": "ipython3",
   "version": "3.5.2"
  }
 },
 "nbformat": 4,
 "nbformat_minor": 1
}
